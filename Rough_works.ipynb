{
  "nbformat": 4,
  "nbformat_minor": 0,
  "metadata": {
    "colab": {
      "provenance": [],
      "authorship_tag": "ABX9TyMzItVojHSTAawWV11kUHCn",
      "include_colab_link": true
    },
    "kernelspec": {
      "name": "python3",
      "display_name": "Python 3"
    },
    "language_info": {
      "name": "python"
    }
  },
  "cells": [
    {
      "cell_type": "markdown",
      "metadata": {
        "id": "view-in-github",
        "colab_type": "text"
      },
      "source": [
        "<a href=\"https://colab.research.google.com/github/bipul-ranjan/LearnDS-Python/blob/main/Rough_works.ipynb\" target=\"_parent\"><img src=\"https://colab.research.google.com/assets/colab-badge.svg\" alt=\"Open In Colab\"/></a>"
      ]
    },
    {
      "cell_type": "code",
      "execution_count": null,
      "metadata": {
        "colab": {
          "base_uri": "https://localhost:8080/"
        },
        "id": "blLWxNYkFCRH",
        "outputId": "d35f3c98-5930-4ccd-f689-3052c0d70030"
      },
      "outputs": [
        {
          "output_type": "stream",
          "name": "stdout",
          "text": [
            "<class 'str'>\n",
            "6\n",
            "4\n",
            "-2\n"
          ]
        }
      ],
      "source": [
        "name = 'Varma'\n",
        "\n",
        "print(type(name))\n",
        "print(60 // (7 + 2))\n",
        "print(4 % (1 + 9)**2)\n",
        "print(4 % (1 + 9)**2 - 60 // (7 + 2))"
      ]
    },
    {
      "cell_type": "markdown",
      "source": [],
      "metadata": {
        "id": "PSAxPQhaEWhu"
      }
    },
    {
      "cell_type": "code",
      "source": [
        "word='I Love Python!'\n",
        "len(word)\n",
        "print(word[7:13])\n",
        "print(word[-18:-12])"
      ],
      "metadata": {
        "colab": {
          "base_uri": "https://localhost:8080/"
        },
        "id": "Y-ab0KC4PWrY",
        "outputId": "36d48805-a575-4f3f-8370-932ec172f87c"
      },
      "execution_count": null,
      "outputs": [
        {
          "output_type": "stream",
          "name": "stdout",
          "text": [
            "Python\n",
            "I \n"
          ]
        }
      ]
    },
    {
      "cell_type": "code",
      "source": [
        "input_str = 'bmaunmdbraai'\n",
        "ssage1=input_str[0::2].rstrip(\"#\")\n",
        "message2 = input_str[1::2].rstrip(\"#\")\n",
        "print(message1.strip(),',' ,message2.strip())"
      ],
      "metadata": {
        "colab": {
          "base_uri": "https://localhost:8080/",
          "height": 180
        },
        "id": "-C_1VNtoWnYG",
        "outputId": "6746340f-0731-46cb-d680-4133a4c00c57"
      },
      "execution_count": null,
      "outputs": [
        {
          "output_type": "error",
          "ename": "NameError",
          "evalue": "name 'message1' is not defined",
          "traceback": [
            "\u001b[0;31m---------------------------------------------------------------------------\u001b[0m",
            "\u001b[0;31mNameError\u001b[0m                                 Traceback (most recent call last)",
            "\u001b[0;32m<ipython-input-1-633f1b22a4d7>\u001b[0m in \u001b[0;36m<cell line: 4>\u001b[0;34m()\u001b[0m\n\u001b[1;32m      2\u001b[0m \u001b[0mssage1\u001b[0m\u001b[0;34m=\u001b[0m\u001b[0minput_str\u001b[0m\u001b[0;34m[\u001b[0m\u001b[0;36m0\u001b[0m\u001b[0;34m:\u001b[0m\u001b[0;34m:\u001b[0m\u001b[0;36m2\u001b[0m\u001b[0;34m]\u001b[0m\u001b[0;34m.\u001b[0m\u001b[0mrstrip\u001b[0m\u001b[0;34m(\u001b[0m\u001b[0;34m\"#\"\u001b[0m\u001b[0;34m)\u001b[0m\u001b[0;34m\u001b[0m\u001b[0;34m\u001b[0m\u001b[0m\n\u001b[1;32m      3\u001b[0m \u001b[0mmessage2\u001b[0m \u001b[0;34m=\u001b[0m \u001b[0minput_str\u001b[0m\u001b[0;34m[\u001b[0m\u001b[0;36m1\u001b[0m\u001b[0;34m:\u001b[0m\u001b[0;34m:\u001b[0m\u001b[0;36m2\u001b[0m\u001b[0;34m]\u001b[0m\u001b[0;34m.\u001b[0m\u001b[0mrstrip\u001b[0m\u001b[0;34m(\u001b[0m\u001b[0;34m\"#\"\u001b[0m\u001b[0;34m)\u001b[0m\u001b[0;34m\u001b[0m\u001b[0;34m\u001b[0m\u001b[0m\n\u001b[0;32m----> 4\u001b[0;31m \u001b[0mprint\u001b[0m\u001b[0;34m(\u001b[0m\u001b[0mmessage1\u001b[0m\u001b[0;34m.\u001b[0m\u001b[0mstrip\u001b[0m\u001b[0;34m(\u001b[0m\u001b[0;34m)\u001b[0m\u001b[0;34m,\u001b[0m\u001b[0;34m','\u001b[0m \u001b[0;34m,\u001b[0m\u001b[0mmessage2\u001b[0m\u001b[0;34m.\u001b[0m\u001b[0mstrip\u001b[0m\u001b[0;34m(\u001b[0m\u001b[0;34m)\u001b[0m\u001b[0;34m)\u001b[0m\u001b[0;34m\u001b[0m\u001b[0;34m\u001b[0m\u001b[0m\n\u001b[0m",
            "\u001b[0;31mNameError\u001b[0m: name 'message1' is not defined"
          ]
        }
      ]
    },
    {
      "cell_type": "code",
      "source": [
        "\n",
        "input_list = ['Santa Cruz','Santa fe','Mumbai','Delhi']\n",
        "\n",
        "count = str(map(lambda word : count+1 if word[0]== \"S\"  else count, input_list))\n",
        "\n",
        "print(count)"
      ],
      "metadata": {
        "id": "g_fy_K6VS8Je",
        "colab": {
          "base_uri": "https://localhost:8080/"
        },
        "outputId": "6181b4f6-ce09-464d-89ac-13f7110967fa"
      },
      "execution_count": null,
      "outputs": [
        {
          "output_type": "stream",
          "name": "stdout",
          "text": [
            "<map object at 0x7957100bdb70>\n"
          ]
        }
      ]
    },
    {
      "cell_type": "code",
      "source": [
        "#Using the function Map, count the number of words that start with ‘S’ in input_list.\n",
        "input_list = ['Santa Cruz','Santa fe','Mumbai','Delhi']\n"
      ],
      "metadata": {
        "id": "-ARwZ_Y0CZ9u"
      },
      "execution_count": null,
      "outputs": []
    },
    {
      "cell_type": "code",
      "source": [
        "input_list= ['Santa Cruz','Santa fe','Mumbai','Delhi']\n",
        "count=0\n",
        "for word in input_list:\n",
        "    if word[0]=='S':\n",
        "        count+=1\n",
        "print(count)\n",
        "\n",
        "count = sum(map(lambda word: word[0] == 'S', input_list))\n",
        "\n",
        "print(count)\n"
      ],
      "metadata": {
        "colab": {
          "base_uri": "https://localhost:8080/",
          "height": 108
        },
        "id": "iNuO7aJ0M8l6",
        "outputId": "f1cbbda4-7f88-41e4-b18c-9a5a3e1e4d9e"
      },
      "execution_count": null,
      "outputs": [
        {
          "output_type": "error",
          "ename": "IndentationError",
          "evalue": "unexpected indent (<ipython-input-3-8d24f35610d9>, line 6)",
          "traceback": [
            "\u001b[0;36m  File \u001b[0;32m\"<ipython-input-3-8d24f35610d9>\"\u001b[0;36m, line \u001b[0;32m6\u001b[0m\n\u001b[0;31m    if word[0]=='S':\u001b[0m\n\u001b[0m    ^\u001b[0m\n\u001b[0;31mIndentationError\u001b[0m\u001b[0;31m:\u001b[0m unexpected indent\n"
          ]
        }
      ]
    },
    {
      "cell_type": "code",
      "source": [
        "word = 'Santa Cruz'\n",
        "\n",
        "\n",
        "\n",
        "list(map(lambda word: word[0] == 'S', input_list))\n"
      ],
      "metadata": {
        "colab": {
          "base_uri": "https://localhost:8080/"
        },
        "id": "7JpVqH4RNDaE",
        "outputId": "aeeba162-4ed3-4b0a-d048-d66829ab3d32"
      },
      "execution_count": null,
      "outputs": [
        {
          "output_type": "execute_result",
          "data": {
            "text/plain": [
              "[True, True, False, False]"
            ]
          },
          "metadata": {},
          "execution_count": 12
        }
      ]
    },
    {
      "cell_type": "code",
      "source": [
        "input_list=[1, 2, 3, 4, 5, 6, 7, 8, 9, 10, 11, 12, 13, 14, 15, 16, 17, 18, 19, 20, 21, 22, 23, 24, 25, 26, 27, 28, 29, 30, 31, 32, 33, 34, 35, 36, 37, 38, 39, 40, 41, 42, 43, 44, 45, 46, 47, 48, 49, 50]\n",
        "\n",
        "list_answer = list(filter(lambda num: num%5==0,input_list))#Write your answer here\n",
        "\n",
        "print(list_answer)"
      ],
      "metadata": {
        "colab": {
          "base_uri": "https://localhost:8080/"
        },
        "id": "ieGZbsgPWNfD",
        "outputId": "fc34cdaa-57bf-4b57-82f3-0b090873febf"
      },
      "execution_count": null,
      "outputs": [
        {
          "output_type": "stream",
          "name": "stdout",
          "text": [
            "[5, 10, 15, 20, 25, 30, 35, 40, 45, 50]\n"
          ]
        }
      ]
    },
    {
      "cell_type": "code",
      "source": [
        "f=lambda x:bool(x%2)\n",
        "print(f(100)* f(101))"
      ],
      "metadata": {
        "colab": {
          "base_uri": "https://localhost:8080/"
        },
        "id": "wBdK2xbDf2r5",
        "outputId": "ddd1e15d-71d3-4cf0-814d-b3d34947f249"
      },
      "execution_count": null,
      "outputs": [
        {
          "output_type": "stream",
          "name": "stdout",
          "text": [
            "0\n"
          ]
        }
      ]
    },
    {
      "cell_type": "code",
      "source": [
        "import functools\n",
        "lis=[1, 2, 3, 4, 5]\n",
        "m=functools.reduce(lambda x, y:x if x<y else y, lis)\n",
        "print(m)"
      ],
      "metadata": {
        "colab": {
          "base_uri": "https://localhost:8080/"
        },
        "id": "WGf6DYHPlR76",
        "outputId": "62534609-31a9-4ef1-d5e7-5ae8b63a460b"
      },
      "execution_count": null,
      "outputs": [
        {
          "output_type": "stream",
          "name": "stdout",
          "text": [
            "1\n"
          ]
        }
      ]
    },
    {
      "cell_type": "code",
      "source": [
        "def sf(a):\n",
        "    return a%4==0 and a%8!=0\n",
        "m=filter(sf, range(10, 31))\n",
        "print(list(m))"
      ],
      "metadata": {
        "colab": {
          "base_uri": "https://localhost:8080/"
        },
        "id": "gabKkqDKmQ3w",
        "outputId": "eddcdbf0-b0a4-48ef-e5ec-b405c3510128"
      },
      "execution_count": null,
      "outputs": [
        {
          "output_type": "stream",
          "name": "stdout",
          "text": [
            "[12, 20, 28]\n"
          ]
        }
      ]
    },
    {
      "cell_type": "code",
      "source": [
        "input_list = ['Ronaldo', 'Cristiano', 'Rakesh', 'Ronak']\n",
        "\n",
        "# write the code here\n",
        "encryp_name = list(map (lambda word: word.upper()[::-1], input_list))\n",
        "print(encryp_name)"
      ],
      "metadata": {
        "colab": {
          "base_uri": "https://localhost:8080/"
        },
        "id": "7cVTKl8go4I4",
        "outputId": "a1e586b9-0399-46a4-d6e3-be0d4127a14f"
      },
      "execution_count": null,
      "outputs": [
        {
          "output_type": "stream",
          "name": "stdout",
          "text": [
            "['ODLANOR', 'ONAITSIRC', 'HSEKAR', 'KANOR']\n"
          ]
        }
      ]
    },
    {
      "cell_type": "markdown",
      "source": [
        "**6th July Python Bootcamp**"
      ],
      "metadata": {
        "id": "unATWyeyEYvl"
      }
    },
    {
      "cell_type": "code",
      "source": [
        "str2 ='avengers'\n",
        "str1= str[0::-1]\n",
        "print(str1)\n",
        "help(str)"
      ],
      "metadata": {
        "id": "dJQm0LIYEi3v",
        "colab": {
          "base_uri": "https://localhost:8080/",
          "height": 193
        },
        "outputId": "bf148d06-9005-400b-83d9-5f95a8f6c2eb"
      },
      "execution_count": null,
      "outputs": [
        {
          "output_type": "error",
          "ename": "TypeError",
          "evalue": "'type' object is not subscriptable",
          "traceback": [
            "\u001b[0;31m---------------------------------------------------------------------------\u001b[0m",
            "\u001b[0;31mTypeError\u001b[0m                                 Traceback (most recent call last)",
            "\u001b[0;32m<ipython-input-1-3f6a5f075972>\u001b[0m in \u001b[0;36m<cell line: 2>\u001b[0;34m()\u001b[0m\n\u001b[1;32m      1\u001b[0m \u001b[0mstr2\u001b[0m \u001b[0;34m=\u001b[0m\u001b[0;34m'avengers'\u001b[0m\u001b[0;34m\u001b[0m\u001b[0;34m\u001b[0m\u001b[0m\n\u001b[0;32m----> 2\u001b[0;31m \u001b[0mstr1\u001b[0m\u001b[0;34m=\u001b[0m \u001b[0mstr\u001b[0m\u001b[0;34m[\u001b[0m\u001b[0;36m0\u001b[0m\u001b[0;34m:\u001b[0m\u001b[0;34m:\u001b[0m\u001b[0;34m-\u001b[0m\u001b[0;36m1\u001b[0m\u001b[0;34m]\u001b[0m\u001b[0;34m\u001b[0m\u001b[0;34m\u001b[0m\u001b[0m\n\u001b[0m\u001b[1;32m      3\u001b[0m \u001b[0mprint\u001b[0m\u001b[0;34m(\u001b[0m\u001b[0mstr1\u001b[0m\u001b[0;34m)\u001b[0m\u001b[0;34m\u001b[0m\u001b[0;34m\u001b[0m\u001b[0m\n\u001b[1;32m      4\u001b[0m \u001b[0mhelp\u001b[0m\u001b[0;34m(\u001b[0m\u001b[0mstr\u001b[0m\u001b[0;34m)\u001b[0m\u001b[0;34m\u001b[0m\u001b[0;34m\u001b[0m\u001b[0m\n",
            "\u001b[0;31mTypeError\u001b[0m: 'type' object is not subscriptable"
          ]
        }
      ]
    },
    {
      "cell_type": "code",
      "source": [
        "input_list = [{4: 'Viking', 9: 'Happy', 10: 'Tony', 2: 'Rogers'}, {12: 'Vikram', 19: 'Vipan'}, {3: 'Kohli'}, {1: 'Ronaldo', 29: 'Harish', 7: 'Ganesh'}]\n",
        "# write the code here\n",
        "output_list = sorted(input_list, key=(lambda x: len(x)))\n",
        "\n",
        "print(output_list)"
      ],
      "metadata": {
        "colab": {
          "base_uri": "https://localhost:8080/"
        },
        "id": "Vv8U0Z59cEej",
        "outputId": "835df7b9-bd31-423a-eadf-616a25bd7e95"
      },
      "execution_count": null,
      "outputs": [
        {
          "output_type": "stream",
          "name": "stdout",
          "text": [
            "[{3: 'Kohli'}, {12: 'Vikram', 19: 'Vipan'}, {1: 'Ronaldo', 29: 'Harish', 7: 'Ganesh'}, {4: 'Viking', 9: 'Happy', 10: 'Tony', 2: 'Rogers'}]\n"
          ]
        }
      ]
    },
    {
      "cell_type": "code",
      "source": [
        "height_inch =[75,74,73,72,71]\n",
        "#height_inch = height_inch*2.54\n",
        "height_cm = list(map(lambda x: x*2.54, height_inch))\n",
        "print(height_cm)"
      ],
      "metadata": {
        "colab": {
          "base_uri": "https://localhost:8080/"
        },
        "id": "703rqkucftEj",
        "outputId": "0b79bc35-eb1a-424f-f34d-cf10ce15fc1c"
      },
      "execution_count": null,
      "outputs": [
        {
          "output_type": "stream",
          "name": "stdout",
          "text": [
            "[190.5, 187.96, 185.42000000000002, 182.88, 180.34]\n"
          ]
        }
      ]
    },
    {
      "cell_type": "code",
      "source": [
        "import numpy as np\n",
        "np_height_inch = np.array(height_inch)\n",
        "np_height_cm = np_height_inch*2.54\n",
        "print(np_height_cm)"
      ],
      "metadata": {
        "colab": {
          "base_uri": "https://localhost:8080/",
          "height": 193
        },
        "id": "_lfQMXn3gobQ",
        "outputId": "6d6b5b13-91a7-4306-bec0-ec66b3c480cb"
      },
      "execution_count": null,
      "outputs": [
        {
          "output_type": "error",
          "ename": "NameError",
          "evalue": "name 'height_inch' is not defined",
          "traceback": [
            "\u001b[0;31m---------------------------------------------------------------------------\u001b[0m",
            "\u001b[0;31mNameError\u001b[0m                                 Traceback (most recent call last)",
            "\u001b[0;32m<ipython-input-1-ede78d88feed>\u001b[0m in \u001b[0;36m<cell line: 2>\u001b[0;34m()\u001b[0m\n\u001b[1;32m      1\u001b[0m \u001b[0;32mimport\u001b[0m \u001b[0mnumpy\u001b[0m \u001b[0;32mas\u001b[0m \u001b[0mnp\u001b[0m\u001b[0;34m\u001b[0m\u001b[0;34m\u001b[0m\u001b[0m\n\u001b[0;32m----> 2\u001b[0;31m \u001b[0mnp_height_inch\u001b[0m \u001b[0;34m=\u001b[0m \u001b[0mnp\u001b[0m\u001b[0;34m.\u001b[0m\u001b[0marray\u001b[0m\u001b[0;34m(\u001b[0m\u001b[0mheight_inch\u001b[0m\u001b[0;34m)\u001b[0m\u001b[0;34m\u001b[0m\u001b[0;34m\u001b[0m\u001b[0m\n\u001b[0m\u001b[1;32m      3\u001b[0m \u001b[0mnp_height_cm\u001b[0m \u001b[0;34m=\u001b[0m \u001b[0mnp_height_inch\u001b[0m\u001b[0;34m*\u001b[0m\u001b[0;36m2.54\u001b[0m\u001b[0;34m\u001b[0m\u001b[0;34m\u001b[0m\u001b[0m\n\u001b[1;32m      4\u001b[0m \u001b[0mprint\u001b[0m\u001b[0;34m(\u001b[0m\u001b[0mnp_height_cm\u001b[0m\u001b[0;34m)\u001b[0m\u001b[0;34m\u001b[0m\u001b[0;34m\u001b[0m\u001b[0m\n",
            "\u001b[0;31mNameError\u001b[0m: name 'height_inch' is not defined"
          ]
        }
      ]
    },
    {
      "cell_type": "code",
      "source": [
        "import numpy as np\n",
        "a = np.arange(10)\n",
        "print(a)\n",
        "f = np.vectorize(lambda x: x+1)\n",
        "f(a)"
      ],
      "metadata": {
        "colab": {
          "base_uri": "https://localhost:8080/"
        },
        "id": "hSb2cxv8wli1",
        "outputId": "580ee8ee-c387-4c18-a444-2ed2efa0931e"
      },
      "execution_count": null,
      "outputs": [
        {
          "output_type": "stream",
          "name": "stdout",
          "text": [
            "[0 1 2 3 4 5 6 7 8 9]\n"
          ]
        },
        {
          "output_type": "execute_result",
          "data": {
            "text/plain": [
              "array([ 1,  2,  3,  4,  5,  6,  7,  8,  9, 10])"
            ]
          },
          "metadata": {},
          "execution_count": 9
        }
      ]
    },
    {
      "cell_type": "code",
      "source": [
        "np.full((2,2), 1) == np.ones((2,2))"
      ],
      "metadata": {
        "colab": {
          "base_uri": "https://localhost:8080/",
          "height": 141
        },
        "id": "Vnp526tUxfvF",
        "outputId": "f3322c09-e0f6-4339-81f6-7d5f027d3313"
      },
      "execution_count": null,
      "outputs": [
        {
          "output_type": "error",
          "ename": "NameError",
          "evalue": "name 'np' is not defined",
          "traceback": [
            "\u001b[0;31m---------------------------------------------------------------------------\u001b[0m",
            "\u001b[0;31mNameError\u001b[0m                                 Traceback (most recent call last)",
            "\u001b[0;32m<ipython-input-1-14a2e924c9ab>\u001b[0m in \u001b[0;36m<cell line: 1>\u001b[0;34m()\u001b[0m\n\u001b[0;32m----> 1\u001b[0;31m \u001b[0mnp\u001b[0m\u001b[0;34m.\u001b[0m\u001b[0mfull\u001b[0m\u001b[0;34m(\u001b[0m\u001b[0;34m(\u001b[0m\u001b[0;36m2\u001b[0m\u001b[0;34m,\u001b[0m\u001b[0;36m2\u001b[0m\u001b[0;34m)\u001b[0m\u001b[0;34m,\u001b[0m \u001b[0;36m1\u001b[0m\u001b[0;34m)\u001b[0m \u001b[0;34m==\u001b[0m \u001b[0mnp\u001b[0m\u001b[0;34m.\u001b[0m\u001b[0mones\u001b[0m\u001b[0;34m(\u001b[0m\u001b[0;34m(\u001b[0m\u001b[0;36m2\u001b[0m\u001b[0;34m,\u001b[0m\u001b[0;36m2\u001b[0m\u001b[0;34m)\u001b[0m\u001b[0;34m)\u001b[0m\u001b[0;34m\u001b[0m\u001b[0;34m\u001b[0m\u001b[0m\n\u001b[0m",
            "\u001b[0;31mNameError\u001b[0m: name 'np' is not defined"
          ]
        }
      ]
    },
    {
      "cell_type": "code",
      "source": [
        "import numpy as np\n",
        "import pandas as pd\n",
        "\n",
        "# The file is stored at the following path:\n",
        "file_location = 'https://media-doselect.s3.amazonaws.com/generic/A08MajL8qN4rq72EpVJbAP1Rw/marks_1.csv'\n",
        "# Provide your answer below\n",
        "marks_df = pd.read_csv(file_location,delimiter=\"|\",header=None, index_col=0)\n",
        "marks_df.index.name = 'S.No.'\n",
        "marks_df.columns = ('Name','Subject','Maximum Marks','Marks Obtained','Percentage')\n",
        "\n",
        "print(marks_df)"
      ],
      "metadata": {
        "colab": {
          "base_uri": "https://localhost:8080/"
        },
        "id": "ccPiXWaarEoL",
        "outputId": "a8d95881-ba52-4781-885f-7554d754b81e"
      },
      "execution_count": null,
      "outputs": [
        {
          "output_type": "stream",
          "name": "stdout",
          "text": [
            "          Name      Subject  Maximum Marks  Marks Obtained  Percentage\n",
            "S.No.                                                                 \n",
            "1       Akshay  Mathematics             50              40          80\n",
            "2       Mahima      English             40              33          83\n",
            "3        Vikas  Mathematics             50              42          84\n",
            "4      Abhinav      English             40              31          78\n",
            "5       Mahima      Science             50              40          80\n",
            "6       Akshay      Science             50              49          98\n",
            "7      Abhinav  Mathematics             50              47          94\n",
            "8        Vikas      Science             50              40          80\n",
            "9      Abhinav      Science             50              47          94\n",
            "10       Vikas      English             40              39          98\n",
            "11      Akshay      English             40              35          88\n",
            "12      Mahima  Mathematics             50              43          86\n"
          ]
        }
      ]
    },
    {
      "cell_type": "code",
      "source": [
        "[j**2 for j in range(1,6)]\n",
        "[j if j%2==0 else j**2 for j in range(1,6)]"
      ],
      "metadata": {
        "colab": {
          "base_uri": "https://localhost:8080/"
        },
        "id": "ikGtLjOEQXCM",
        "outputId": "679da40d-ce82-47ec-ed92-2ae2bb1213f4"
      },
      "execution_count": null,
      "outputs": [
        {
          "output_type": "execute_result",
          "data": {
            "text/plain": [
              "[1, 2, 9, 4, 25]"
            ]
          },
          "metadata": {},
          "execution_count": 8
        }
      ]
    },
    {
      "cell_type": "code",
      "source": [
        "fruits= ['Apple', 'Banana', 'Orange', 'Grapes']\n",
        "fruits.append('Mango')\n",
        "print(fruits)"
      ],
      "metadata": {
        "colab": {
          "base_uri": "https://localhost:8080/"
        },
        "id": "0KOf7eLMQ98j",
        "outputId": "0e210d5f-af2a-4de3-962d-41421e12af9b"
      },
      "execution_count": null,
      "outputs": [
        {
          "output_type": "stream",
          "name": "stdout",
          "text": [
            "['Apple', 'Banana', 'Orange', 'Grapes', 'Mango']\n"
          ]
        }
      ]
    },
    {
      "cell_type": "code",
      "source": [
        "product = 'chcocolate milk@ mobile butter@ cheese@ bread'\n",
        "\n",
        "[k for k in product.split(' ') if k[-1] =='@']\n"
      ],
      "metadata": {
        "colab": {
          "base_uri": "https://localhost:8080/"
        },
        "id": "cyqlqrjDZPUP",
        "outputId": "0cf7c77a-8a46-4365-eb8f-658b7e9d008d"
      },
      "execution_count": null,
      "outputs": [
        {
          "output_type": "execute_result",
          "data": {
            "text/plain": [
              "['milk@', 'butter@', 'cheese@']"
            ]
          },
          "metadata": {},
          "execution_count": 13
        }
      ]
    },
    {
      "cell_type": "code",
      "source": [
        "#write to find even odd from list\n",
        "number=[1,2,3,4,5,6,7,8,9,10]\n",
        "{num:'even' if num%2==0 else 'odd' for num in number }\n",
        "#even = [k for k in number if k%2==0]\n",
        "#odd = [k for k in number if k%2!=0]\n",
        "#print(even)\n",
        "#print(odd)"
      ],
      "metadata": {
        "colab": {
          "base_uri": "https://localhost:8080/"
        },
        "id": "rzzhc97btCmh",
        "outputId": "0b292ee6-42b1-4ade-c77e-14f681ea5922"
      },
      "execution_count": null,
      "outputs": [
        {
          "output_type": "execute_result",
          "data": {
            "text/plain": [
              "{1: 'odd',\n",
              " 2: 'even',\n",
              " 3: 'odd',\n",
              " 4: 'even',\n",
              " 5: 'odd',\n",
              " 6: 'even',\n",
              " 7: 'odd',\n",
              " 8: 'even',\n",
              " 9: 'odd',\n",
              " 10: 'even'}"
            ]
          },
          "metadata": {},
          "execution_count": 17
        }
      ]
    },
    {
      "cell_type": "code",
      "source": [
        "area_of_circle = lambda r: 3.14*r**2\n",
        "area_of_circle(5)"
      ],
      "metadata": {
        "colab": {
          "base_uri": "https://localhost:8080/"
        },
        "id": "ypizG8YTt7dT",
        "outputId": "d814df17-47f4-4957-b853-69c970880dbb"
      },
      "execution_count": null,
      "outputs": [
        {
          "output_type": "execute_result",
          "data": {
            "text/plain": [
              "78.5"
            ]
          },
          "metadata": {},
          "execution_count": 22
        }
      ]
    },
    {
      "cell_type": "code",
      "source": [
        "# user will enter a number\n",
        "# get diff of that number from 30\n",
        "# if result is positive then return double the difference\n",
        "# if result is negative then return the difference\n",
        "# if same then return \" entered number is same\"\n",
        "\n",
        "#n=int(input(\"Enter a number: \"))\n",
        "diff = n-30\n",
        "if diff>0:\n",
        "  print(diff*2)\n",
        "elif diff<0:\n",
        "  print(abs(diff))\n",
        "else:\n",
        "  print(\"entered number is same\")"
      ],
      "metadata": {
        "colab": {
          "base_uri": "https://localhost:8080/",
          "height": 356
        },
        "id": "nVQnz20xzcMT",
        "outputId": "ff683560-028b-4a68-fe3a-2915ab4d15bc"
      },
      "execution_count": null,
      "outputs": [
        {
          "output_type": "error",
          "ename": "KeyboardInterrupt",
          "evalue": "Interrupted by user",
          "traceback": [
            "\u001b[0;31m---------------------------------------------------------------------------\u001b[0m",
            "\u001b[0;31mKeyboardInterrupt\u001b[0m                         Traceback (most recent call last)",
            "\u001b[0;32m<ipython-input-1-e91162d46a7f>\u001b[0m in \u001b[0;36m<cell line: 7>\u001b[0;34m()\u001b[0m\n\u001b[1;32m      5\u001b[0m \u001b[0;31m# if same then return \" entered number is same\"\u001b[0m\u001b[0;34m\u001b[0m\u001b[0;34m\u001b[0m\u001b[0m\n\u001b[1;32m      6\u001b[0m \u001b[0;34m\u001b[0m\u001b[0m\n\u001b[0;32m----> 7\u001b[0;31m \u001b[0mn\u001b[0m\u001b[0;34m=\u001b[0m\u001b[0mint\u001b[0m\u001b[0;34m(\u001b[0m\u001b[0minput\u001b[0m\u001b[0;34m(\u001b[0m\u001b[0;34m\"Enter a number: \"\u001b[0m\u001b[0;34m)\u001b[0m\u001b[0;34m)\u001b[0m\u001b[0;34m\u001b[0m\u001b[0;34m\u001b[0m\u001b[0m\n\u001b[0m\u001b[1;32m      8\u001b[0m \u001b[0mdiff\u001b[0m \u001b[0;34m=\u001b[0m \u001b[0mn\u001b[0m\u001b[0;34m-\u001b[0m\u001b[0;36m30\u001b[0m\u001b[0;34m\u001b[0m\u001b[0;34m\u001b[0m\u001b[0m\n\u001b[1;32m      9\u001b[0m \u001b[0;32mif\u001b[0m \u001b[0mdiff\u001b[0m\u001b[0;34m>\u001b[0m\u001b[0;36m0\u001b[0m\u001b[0;34m:\u001b[0m\u001b[0;34m\u001b[0m\u001b[0;34m\u001b[0m\u001b[0m\n",
            "\u001b[0;32m/usr/local/lib/python3.10/dist-packages/ipykernel/kernelbase.py\u001b[0m in \u001b[0;36mraw_input\u001b[0;34m(self, prompt)\u001b[0m\n\u001b[1;32m    849\u001b[0m                 \u001b[0;34m\"raw_input was called, but this frontend does not support input requests.\"\u001b[0m\u001b[0;34m\u001b[0m\u001b[0;34m\u001b[0m\u001b[0m\n\u001b[1;32m    850\u001b[0m             )\n\u001b[0;32m--> 851\u001b[0;31m         return self._input_request(str(prompt),\n\u001b[0m\u001b[1;32m    852\u001b[0m             \u001b[0mself\u001b[0m\u001b[0;34m.\u001b[0m\u001b[0m_parent_ident\u001b[0m\u001b[0;34m,\u001b[0m\u001b[0;34m\u001b[0m\u001b[0;34m\u001b[0m\u001b[0m\n\u001b[1;32m    853\u001b[0m             \u001b[0mself\u001b[0m\u001b[0;34m.\u001b[0m\u001b[0m_parent_header\u001b[0m\u001b[0;34m,\u001b[0m\u001b[0;34m\u001b[0m\u001b[0;34m\u001b[0m\u001b[0m\n",
            "\u001b[0;32m/usr/local/lib/python3.10/dist-packages/ipykernel/kernelbase.py\u001b[0m in \u001b[0;36m_input_request\u001b[0;34m(self, prompt, ident, parent, password)\u001b[0m\n\u001b[1;32m    893\u001b[0m             \u001b[0;32mexcept\u001b[0m \u001b[0mKeyboardInterrupt\u001b[0m\u001b[0;34m:\u001b[0m\u001b[0;34m\u001b[0m\u001b[0;34m\u001b[0m\u001b[0m\n\u001b[1;32m    894\u001b[0m                 \u001b[0;31m# re-raise KeyboardInterrupt, to truncate traceback\u001b[0m\u001b[0;34m\u001b[0m\u001b[0;34m\u001b[0m\u001b[0m\n\u001b[0;32m--> 895\u001b[0;31m                 \u001b[0;32mraise\u001b[0m \u001b[0mKeyboardInterrupt\u001b[0m\u001b[0;34m(\u001b[0m\u001b[0;34m\"Interrupted by user\"\u001b[0m\u001b[0;34m)\u001b[0m \u001b[0;32mfrom\u001b[0m \u001b[0;32mNone\u001b[0m\u001b[0;34m\u001b[0m\u001b[0;34m\u001b[0m\u001b[0m\n\u001b[0m\u001b[1;32m    896\u001b[0m             \u001b[0;32mexcept\u001b[0m \u001b[0mException\u001b[0m \u001b[0;32mas\u001b[0m \u001b[0me\u001b[0m\u001b[0;34m:\u001b[0m\u001b[0;34m\u001b[0m\u001b[0;34m\u001b[0m\u001b[0m\n\u001b[1;32m    897\u001b[0m                 \u001b[0mself\u001b[0m\u001b[0;34m.\u001b[0m\u001b[0mlog\u001b[0m\u001b[0;34m.\u001b[0m\u001b[0mwarning\u001b[0m\u001b[0;34m(\u001b[0m\u001b[0;34m\"Invalid Message:\"\u001b[0m\u001b[0;34m,\u001b[0m \u001b[0mexc_info\u001b[0m\u001b[0;34m=\u001b[0m\u001b[0;32mTrue\u001b[0m\u001b[0;34m)\u001b[0m\u001b[0;34m\u001b[0m\u001b[0;34m\u001b[0m\u001b[0m\n",
            "\u001b[0;31mKeyboardInterrupt\u001b[0m: Interrupted by user"
          ]
        }
      ]
    },
    {
      "cell_type": "code",
      "source": [
        "str_name = \"Rohit Sharma\"\n",
        "str_short = lambda name: name.split()[-1]+'.'+name.split()[0][0]\n",
        "str_short(str_name)"
      ],
      "metadata": {
        "colab": {
          "base_uri": "https://localhost:8080/",
          "height": 36
        },
        "id": "SdW5pYEpYmVP",
        "outputId": "0e8016a2-9879-4756-fc1e-4ee75fb9b13a"
      },
      "execution_count": null,
      "outputs": [
        {
          "output_type": "execute_result",
          "data": {
            "text/plain": [
              "'Sharma.R'"
            ],
            "application/vnd.google.colaboratory.intrinsic+json": {
              "type": "string"
            }
          },
          "metadata": {},
          "execution_count": 6
        }
      ]
    },
    {
      "cell_type": "code",
      "source": [
        "mixed_data = ['hiii',34,98.6,'True',True,'python',54,100]\n",
        "int_list = list(filter(lambda x: type(x)==int, mixed_data))\n",
        "print(int_list)"
      ],
      "metadata": {
        "colab": {
          "base_uri": "https://localhost:8080/"
        },
        "id": "nVCIsCLSje91",
        "outputId": "cb407a44-d775-4c30-c04f-4cf9ea9d76b5"
      },
      "execution_count": null,
      "outputs": [
        {
          "output_type": "stream",
          "name": "stdout",
          "text": [
            "[34, 54, 100]\n"
          ]
        }
      ]
    },
    {
      "cell_type": "code",
      "source": [
        "data = 'english 90 maths 27 science 78'\n",
        "data_list = data.split()\n",
        "print(data_list)\n",
        "\n",
        "ls_marks = list(filter(lambda x: x.isdigit(), data_list))\n",
        "print(ls_marks)\n",
        "\n",
        "ls_pass_marks= list(filter(lambda x:int(x)>35,ls_marks))\n",
        "##########################################################################################\n",
        "capitalized_subjects = [subject.capitalize() for subject in data_list[::2]]\n",
        "dict_marks= dict(zip(capitalized_subjects,data_list[1::2]))\n",
        "print(dict_marks)\n",
        "\n",
        "dict_pass_sub = dict(map(lambda x: (x[0], 'pass') if int(x[1])>35 else (x[0],'fail'), dict_marks.items()))\n",
        "print(dict_pass_sub)\n"
      ],
      "metadata": {
        "colab": {
          "base_uri": "https://localhost:8080/"
        },
        "id": "GsHKVrnKqIQU",
        "outputId": "955b211e-9963-4b21-f107-f9134167b8bf"
      },
      "execution_count": null,
      "outputs": [
        {
          "output_type": "stream",
          "name": "stdout",
          "text": [
            "['english', '90', 'maths', '27', 'science', '78']\n",
            "['90', '27', '78']\n",
            "{'English': '90', 'Maths': '27', 'Science': '78'}\n",
            "{'English': 'pass', 'Maths': 'fail', 'Science': 'pass'}\n"
          ]
        }
      ]
    },
    {
      "cell_type": "code",
      "source": [
        "# read from datafile\n",
        "google_data = open('/content/sample_data/google_stock_price.csv').readlines()\n",
        "print(google_data[:])\n",
        "\n",
        "google_data_rem_head= google_data[1:]\n",
        "print(google_data_rem_head[:])\n",
        "print(\"Number of data points :\", len(google_data_rem_head[:]))\n",
        "\n",
        "google_data_rem_head_clean = list( filter(lambda strTemp:strTemp != '',list(map(lambda str_temp: str_temp.replace('\\n',''), google_data_rem_head))))\n",
        "print(google_data_rem_head_clean[:])\n",
        "\n",
        "\n",
        "google_clen_data_float = list(map(lambda str_temp: float(str_temp), google_data_rem_head_clean))\n",
        "print(google_clen_data_float[:])\n",
        "print(\"Number of data points only float:\", len(google_clen_data_float[:]))\n",
        "\n",
        "#Max price of stock\n",
        "print(\"Max price of stock :\", max(google_clen_data_float))\n",
        "\n",
        "#Min price of stock\n",
        "print(\"Min price of stock :\", min(google_clen_data_float))\n",
        "\n",
        "# Mean price\n",
        "print(\"Mean price of stock :\", sum(google_clen_data_float)/len(google_clen_data_float))\n",
        "\n",
        "# Excellent if stock price >500\n",
        "print(\"Excellent if stock price >500 :\", len(list(filter(lambda x: x>500, google_clen_data_float))))\n",
        "\n",
        "# Good if stock price >400 and less than 500\n",
        "print(\"Good if stock price >400 and grater than 250 :\", len(list(filter(lambda x: x<400 and x>250, google_clen_data_float))))\n",
        "\n",
        "# Okay if stock price  less than 250\n",
        "print(\"Okay if stock price  less than 250 :\", len(list(filter(lambda x: x<250, google_clen_data_float))))\n",
        "\n",
        "# Poor if stock price less than 250\n",
        "\n",
        "#data_list = data.read().split()\n",
        "#print(data_list)\n",
        "\n",
        "#ls_marks = list(filter(lambda x: x.isdigit(), data_list))"
      ],
      "metadata": {
        "id": "BiyQXOUJs6Hw",
        "colab": {
          "base_uri": "https://localhost:8080/"
        },
        "outputId": "f2bf2181-f931-47f3-9c6e-d4e29cb17c8f"
      },
      "execution_count": null,
      "outputs": [
        {
          "output_type": "stream",
          "name": "stdout",
          "text": [
            "['Stock Price\\n', '\\n', '50.12\\n', '\\n', '54.1\\n', '\\n', '54.65\\n', '\\n', '52.38\\n', '\\n', '52.95\\n', '\\n', '53.9\\n', '\\n', '53.02\\n', '\\n', '50.95\\n', '\\n', '51.13\\n', '\\n', '50.07\\n', '\\n', '50.7\\n', '\\n', '49.95\\n', '\\n', '50.74\\n', '\\n', '51.1\\n', '\\n', '51.1\\n', '\\n', '52.61\\n', '\\n', '53.7\\n', '\\n', '55.69\\n', '\\n', '55.94\\n', '\\n', '56.93\\n', '\\n', '58.69\\n', '\\n', '59.62\\n', '\\n', '58.86\\n', '\\n', '59.13\\n', '\\n', '60.35\\n', '\\n', '59.86\\n', '\\n', '59.07\\n', '\\n', '63.37\\n', '\\n', '65.47\\n', '\\n', '64.74\\n', '\\n', '66.22\\n', '\\n', '67.46\\n', '\\n', '69.12\\n', '\\n', '68.47\\n', '\\n', '69.36\\n', '\\n', '68.8\\n', '\\n', '67.56\\n', '\\n', '68.63\\n', '\\n', '70.38\\n', '\\n', '70.93\\n', '\\n', '71.98\\n', '\\n', '74.51\\n', '\\n', '73.9\\n', '\\n', '70.17\\n', '\\n', '74.62\\n', '\\n', '86.13\\n', '\\n', '93.61\\n', '\\n', '90.81\\n', '\\n', '92.89\\n', '\\n', '96.55\\n', '\\n', '95.22\\n', '\\n', '97.92\\n', '\\n', '97.34\\n', '\\n', '95.74\\n', '\\n', '92.26\\n', '\\n', '84.59\\n', '\\n', '86.19\\n', '\\n', '84.27\\n', '\\n', '83.85\\n', '\\n', '91.42\\n', '\\n', '90.91\\n', '\\n', '92.34\\n', '\\n', '86.19\\n', '\\n', '86.16\\n', '\\n', '83.69\\n', '\\n', '84.62\\n', '\\n', '82.47\\n', '\\n', '83.68\\n', '\\n', '87.29\\n', '\\n', '89.61\\n', '\\n', '90.43\\n', '\\n', '90.9\\n', '\\n', '89.89\\n', '\\n', '89.61\\n', '\\n', '90.11\\n', '\\n', '88.06\\n', '\\n', '85.63\\n', '\\n', '84.91\\n', '\\n', '86.63\\n', '\\n', '85.74\\n', '\\n', '85.14\\n', '\\n', '89.26\\n', '\\n', '89.8\\n', '\\n', '88.15\\n', '\\n', '89.95\\n', '\\n', '92.42\\n', '\\n', '91.78\\n', '\\n', '93.06\\n', '\\n', '93.86\\n', '\\n', '95.86\\n', '\\n', '96.28\\n', '\\n', '96.35\\n', '\\n', '98.7\\n', '\\n', '96.3\\n', '\\n', '101.25\\n', '\\n', '97.15\\n', '\\n', '96.66\\n', '\\n', '94.18\\n', '\\n', '96.83\\n', '\\n', '97.43\\n', '\\n', '96.67\\n', '\\n', '97.59\\n', '\\n', '97.57\\n', '\\n', '99.89\\n', '\\n', '101.85\\n', '\\n', '98.55\\n', '\\n', '96.86\\n', '\\n', '94.05\\n', '\\n', '90.27\\n', '\\n', '88.47\\n', '\\n', '94.53\\n', '\\n', '93.95\\n', '\\n', '95.07\\n', '\\n', '97.71\\n', '\\n', '95.85\\n', '\\n', '102.88\\n', '\\n', '105.32\\n', '\\n', '102.08\\n', '\\n', '97.92\\n', '\\n', '99.22\\n', '\\n', '95.69\\n', '\\n', '93.9\\n', '\\n', '93.61\\n', '\\n', '96.4\\n', '\\n', '97.52\\n', '\\n', '99.11\\n', '\\n', '98.85\\n', '\\n', '98.88\\n', '\\n', '95.59\\n', '\\n', '96.88\\n', '\\n', '94.35\\n', '\\n', '92.84\\n', '\\n', '93.9\\n', '\\n', '92.94\\n', '\\n', '92.5\\n', '\\n', '93.41\\n', '\\n', '92.86\\n', '\\n', '94.31\\n', '\\n', '92.51\\n', '\\n', '90.58\\n', '\\n', '89.9\\n', '\\n', '88.81\\n', '\\n', '87.41\\n', '\\n', '89.22\\n', '\\n', '87.71\\n', '\\n', '89.56\\n', '\\n', '89.93\\n', '\\n', '90.35\\n', '\\n', '89.21\\n', '\\n', '89.4\\n', '\\n', '89.54\\n', '\\n', '90.62\\n', '\\n', '89.7\\n', '\\n', '90.13\\n', '\\n', '90.16\\n', '\\n', '89.93\\n', '\\n', '92.55\\n', '\\n', '94.19\\n', '\\n', '94.52\\n', '\\n', '96.78\\n', '\\n', '95.93\\n', '\\n', '96.52\\n', '\\n', '96.88\\n', '\\n', '96.37\\n', '\\n', '95.63\\n', '\\n', '92.41\\n', '\\n', '93.39\\n', '\\n', '95.6\\n', '\\n', '98.95\\n', '\\n', '102.01\\n', '\\n', '107.8\\n', '\\n', '111.65\\n', '\\n', '109.27\\n', '\\n', '109.78\\n', '\\n', '109.62\\n', '\\n', '109.89\\n', '\\n', '111.03\\n', '\\n', '112.98\\n', '\\n', '114.14\\n', '\\n', '113.38\\n', '\\n', '113.9\\n', '\\n', '112.9\\n', '\\n', '113.79\\n', '\\n', '115.53\\n', '\\n', '114.25\\n', '\\n', '114.51\\n', '\\n', '115.41\\n', '\\n', '116.45\\n', '\\n', '119.46\\n', '\\n', '119.47\\n', '\\n', '120.68\\n', '\\n', '127.6\\n', '\\n', '127.87\\n', '\\n', '130.27\\n', '\\n', '129.47\\n', '\\n', '132.87\\n', '\\n', '138.5\\n', '\\n', '143.86\\n', '\\n', '143.81\\n', '\\n', '139.99\\n', '\\n', '145.32\\n', '\\n', '146.41\\n', '\\n', '139.64\\n', '\\n', '143.01\\n', '\\n', '141.11\\n', '\\n', '141.23\\n', '\\n', '139.04\\n', '\\n', '137.26\\n', '\\n', '138.58\\n', '\\n', '140\\n', '\\n', '143.21\\n', '\\n', '143.78\\n', '\\n', '144.51\\n', '\\n', '144.71\\n', '\\n', '148.48\\n', '\\n', '151.9\\n', '\\n', '150.85\\n', '\\n', '146.21\\n', '\\n', '146.93\\n', '\\n', '145.48\\n', '\\n', '147.71\\n', '\\n', '145.62\\n', '\\n', '147.62\\n', '\\n', '147.97\\n', '\\n', '146.53\\n', '\\n', '145.75\\n', '\\n', '149.28\\n', '\\n', '150.29\\n', '\\n', '150.44\\n', '\\n', '149.62\\n', '\\n', '154.8\\n', '\\n', '155.84\\n', '\\n', '156.81\\n', '\\n', '151.05\\n', '\\n', '147.78\\n', '\\n', '147.9\\n', '\\n', '148.32\\n', '\\n', '146.6\\n', '\\n', '143.74\\n', '\\n', '145.66\\n', '\\n', '149.45\\n', '\\n', '148.5\\n', '\\n', '148.72\\n', '\\n', '146.03\\n', '\\n', '145.48\\n', '\\n', '145.64\\n', '\\n', '142.7\\n', '\\n', '141.88\\n', '\\n', '144.72\\n', '\\n', '141.86\\n', '\\n', '142.68\\n', '\\n', '142.41\\n', '\\n', '139.86\\n', '\\n', '139.86\\n', '\\n', '136.87\\n', '\\n', '139.65\\n', '\\n', '141.14\\n', '\\n', '141.15\\n', '\\n', '141.65\\n', '\\n', '144.08\\n', '\\n', '143.49\\n', '\\n', '142.86\\n', '\\n', '142.98\\n', '\\n', '144.08\\n', '\\n', '143.41\\n', '\\n', '147.29\\n', '\\n', '147.55\\n', '\\n', '149.4\\n', '\\n', '154.72\\n', '\\n', '155.68\\n', '\\n', '151.35\\n', '\\n', '151.16\\n', '\\n', '149.95\\n', '\\n', '151.74\\n', '\\n', '153.8\\n', '\\n', '155.79\\n', '\\n', '155.53\\n', '\\n', '157.52\\n', '\\n', '156.98\\n', '\\n', '156.81\\n', '\\n', '152.85\\n', '\\n', '154.66\\n', '\\n', '158.07\\n', '\\n', '159.18\\n', '\\n', '155.34\\n', '\\n', '155.2\\n', '\\n', '156.22\\n', '\\n', '156.34\\n', '\\n', '155.17\\n', '\\n', '152.9\\n', '\\n', '150.33\\n', '\\n', '148.57\\n', '\\n', '147.92\\n', '\\n', '152.35\\n', '\\n', '151.49\\n', '\\n', '154.2\\n', '\\n', '151.45\\n', '\\n', '169.78\\n', '\\n', '174.15\\n', '\\n', '173.28\\n', '\\n', '177.54\\n', '\\n', '176.35\\n', '\\n', '178.91\\n', '\\n', '185.88\\n', '\\n', '189.5\\n', '\\n', '189.65\\n', '\\n', '192.78\\n', '\\n', '195.02\\n', '\\n', '197.32\\n', '\\n', '194.76\\n', '\\n', '189.39\\n', '\\n', '195.35\\n', '\\n', '195\\n', '\\n', '198.29\\n', '\\n', '196.2\\n', '\\n', '198.88\\n', '\\n', '201.52\\n', '\\n', '199.9\\n', '\\n', '204.48\\n', '\\n', '208.03\\n', '\\n', '211.22\\n', '\\n', '214.1\\n', '\\n', '211.53\\n', '\\n', '201.57\\n', '\\n', '202.25\\n', '\\n', '206.84\\n', '\\n', '208.64\\n', '\\n', '202.72\\n', '\\n', '202.07\\n', '\\n', '201.91\\n', '\\n', '205.12\\n', '\\n', '204.4\\n', '\\n', '206.1\\n', '\\n', '208.54\\n', '\\n', '209.27\\n', '\\n', '211.05\\n', '\\n', '214.86\\n', '\\n', '212.09\\n', '\\n', '214.66\\n', '\\n', '212.95\\n', '\\n', '215.8\\n', '\\n', '215.25\\n', '\\n', '212.11\\n', '\\n', '213.13\\n', '\\n', '209.86\\n', '\\n', '207.22\\n', '\\n', '217.4\\n', '\\n', '222.4\\n', '\\n', '225.39\\n', '\\n', '232.6\\n', '\\n', '233.22\\n', '\\n', '234.65\\n', '\\n', '235.58\\n', '\\n', '231.58\\n', '\\n', '232.89\\n', '\\n', '233.32\\n', '\\n', '222.23\\n', '\\n', '218\\n', '\\n', '199.53\\n', '\\n', '213.54\\n', '\\n', '221.29\\n', '\\n', '216.28\\n', '\\n', '216.92\\n', '\\n', '216.53\\n', '\\n', '213.2\\n', '\\n', '216.11\\n', '\\n', '200.69\\n', '\\n', '197.82\\n', '\\n', '190.59\\n', '\\n', '192.36\\n', '\\n', '183.78\\n', '\\n', '184.36\\n', '\\n', '179.21\\n', '\\n', '181.12\\n', '\\n', '172.68\\n', '\\n', '171.49\\n', '\\n', '171.02\\n', '\\n', '183.05\\n', '\\n', '184.19\\n', '\\n', '183.11\\n', '\\n', '182.56\\n', '\\n', '188.85\\n', '\\n', '188.51\\n', '\\n', '194.99\\n', '\\n', '181.13\\n', '\\n', '182.22\\n', '\\n', '188.04\\n', '\\n', '188.9\\n', '\\n', '183.87\\n', '\\n', '182.04\\n', '\\n', '176.76\\n', '\\n', '171.33\\n', '\\n', '168.58\\n', '\\n', '168.36\\n', '\\n', '175.4\\n', '\\n', '172.08\\n', '\\n', '169.22\\n', '\\n', '169.73\\n', '\\n', '173.92\\n', '\\n', '169.79\\n', '\\n', '169.94\\n', '\\n', '170.77\\n', '\\n', '182.72\\n', '\\n', '184.66\\n', '\\n', '188.41\\n', '\\n', '197.29\\n', '\\n', '194.03\\n', '\\n', '194.8\\n', '\\n', '194.66\\n', '\\n', '201.97\\n', '\\n', '203.79\\n', '\\n', '205.38\\n', '\\n', '202.88\\n', '\\n', '207.98\\n', '\\n', '204.63\\n', '\\n', '204.27\\n', '\\n', '200.88\\n', '\\n', '203.21\\n', '\\n', '201.92\\n', '\\n', '205.04\\n', '\\n', '207.29\\n', '\\n', '218.33\\n', '\\n', '220.03\\n', '\\n', '213.37\\n', '\\n', '212.77\\n', '\\n', '209.8\\n', '\\n', '208.76\\n', '\\n', '199.25\\n', '\\n', '197.2\\n', '\\n', '196.89\\n', '\\n', '197.18\\n', '\\n', '196.95\\n', '\\n', '197.19\\n', '\\n', '204.2\\n', '\\n', '201.29\\n', '\\n', '193.31\\n', '\\n', '186.88\\n', '\\n', '187.91\\n', '\\n', '185.46\\n', '\\n', '187.06\\n', '\\n', '185.31\\n', '\\n', '184.82\\n', '\\n', '185.29\\n', '\\n', '187.6\\n', '\\n', '190.43\\n', '\\n', '191.3\\n', '\\n', '190.48\\n', '\\n', '185.78\\n', '\\n', '185.72\\n', '\\n', '191.12\\n', '\\n', '189.53\\n', '\\n', '187.03\\n', '\\n', '194.8\\n', '\\n', '193.06\\n', '\\n', '196.45\\n', '\\n', '193.09\\n', '\\n', '190.58\\n', '\\n', '193.07\\n', '\\n', '192\\n', '\\n', '195.3\\n', '\\n', '195.15\\n', '\\n', '193.88\\n', '\\n', '193.39\\n', '\\n', '200.86\\n', '\\n', '199.78\\n', '\\n', '202.23\\n', '\\n', '201.91\\n', '\\n', '200.96\\n', '\\n', '202.85\\n', '\\n', '208.7\\n', '\\n', '209.46\\n', '\\n', '211.39\\n', '\\n', '210.52\\n', '\\n', '211.38\\n', '\\n', '210.01\\n', '\\n', '208.89\\n', '\\n', '212.07\\n', '\\n', '208.42\\n', '\\n', '204.21\\n', '\\n', '201.55\\n', '\\n', '203.74\\n', '\\n', '201.32\\n', '\\n', '199.3\\n', '\\n', '193.37\\n', '\\n', '194.86\\n', '\\n', '195.25\\n', '\\n', '194.49\\n', '\\n', '192.56\\n', '\\n', '191.01\\n', '\\n', '193.87\\n', '\\n', '193.11\\n', '\\n', '187.57\\n', '\\n', '183.43\\n', '\\n', '187.51\\n', '\\n', '186.74\\n', '\\n', '188.79\\n', '\\n', '190.31\\n', '\\n', '188.28\\n', '\\n', '186.91\\n', '\\n', '184.07\\n', '\\n', '184.53\\n', '\\n', '190.29\\n', '\\n', '193.67\\n', '\\n', '192.71\\n', '\\n', '191.49\\n', '\\n', '188.46\\n', '\\n', '188.96\\n', '\\n', '186.53\\n', '\\n', '186.68\\n', '\\n', '186.44\\n', '\\n', '190.28\\n', '\\n', '189.29\\n', '\\n', '190.18\\n', '\\n', '189.08\\n', '\\n', '189.11\\n', '\\n', '191.99\\n', '\\n', '189.88\\n', '\\n', '189.06\\n', '\\n', '188.74\\n', '\\n', '191.85\\n', '\\n', '195.75\\n', '\\n', '203.08\\n', '\\n', '201.79\\n', '\\n', '204.74\\n', '\\n', '207.14\\n', '\\n', '201.7\\n', '\\n', '198.3\\n', '\\n', '203.22\\n', '\\n', '201.69\\n', '\\n', '201.79\\n', '\\n', '203.23\\n', '\\n', '201.26\\n', '\\n', '201.59\\n', '\\n', '200.75\\n', '\\n', '200.52\\n', '\\n', '201.82\\n', '\\n', '207.64\\n', '\\n', '205.7\\n', '\\n', '210.04\\n', '\\n', '214.29\\n', '\\n', '213.11\\n', '\\n', '213.04\\n', '\\n', '213.51\\n', '\\n', '213.44\\n', '\\n', '210.66\\n', '\\n', '210.11\\n', '\\n', '209.44\\n', '\\n', '212.82\\n', '\\n', '229.61\\n', '\\n', '240.15\\n', '\\n', '236.42\\n', '\\n', '243.06\\n', '\\n', '242.31\\n', '\\n', '237.36\\n', '\\n', '238.05\\n', '\\n', '237.96\\n', '\\n', '233.52\\n', '\\n', '234.72\\n', '\\n', '235.66\\n', '\\n', '238.24\\n', '\\n', '236.05\\n', '\\n', '237.26\\n', '\\n', '236.08\\n', '\\n', '236.54\\n', '\\n', '240.27\\n', '\\n', '244.41\\n', '\\n', '245.72\\n', '\\n', '247.7\\n', '\\n', '249.15\\n', '\\n', '247.28\\n', '\\n', '254.57\\n', '\\n', '253.75\\n', '\\n', '252.2\\n', '\\n', '242.13\\n', '\\n', '244.51\\n', '\\n', '242.08\\n', '\\n', '242.16\\n', '\\n', '240.16\\n', '\\n', '242.18\\n', '\\n', '243.26\\n', '\\n', '244.11\\n', '\\n', '241.08\\n', '\\n', '241.81\\n', '\\n', '241.72\\n', '\\n', '240.65\\n', '\\n', '239.26\\n', '\\n', '240.82\\n', '\\n', '239.91\\n', '\\n', '231.17\\n', '\\n', '234.08\\n', '\\n', '231.22\\n', '\\n', '227.87\\n', '\\n', '227.56\\n', '\\n', '228.54\\n', '\\n', '233.78\\n', '\\n', '231.05\\n', '\\n', '230.01\\n', '\\n', '233.56\\n', '\\n', '241.39\\n', '\\n', '243.35\\n', '\\n', '241.55\\n', '\\n', '242.51\\n', '\\n', '244.49\\n', '\\n', '249.61\\n', '\\n', '252.25\\n', '\\n', '251.89\\n', '\\n', '248.39\\n', '\\n', '243.67\\n', '\\n', '244.63\\n', '\\n', '240.18\\n', '\\n', '239.29\\n', '\\n', '249.28\\n', '\\n', '243.8\\n', '\\n', '247.67\\n', '\\n', '245.99\\n', '\\n', '246.91\\n', '\\n', '250.5\\n', '\\n', '240.63\\n', '\\n', '240.51\\n', '\\n', '233.35\\n', '\\n', '235.5\\n', '\\n', '234.77\\n', '\\n', '235.28\\n', '\\n', '230.71\\n', '\\n', '228.92\\n', '\\n', '229.32\\n', '\\n', '232.73\\n', '\\n', '230.5\\n', '\\n', '234.74\\n', '\\n', '235.81\\n', '\\n', '237.69\\n', '\\n', '237.69\\n', '\\n', '235.07\\n', '\\n', '232.23\\n', '\\n', '224.16\\n', '\\n', '224.5\\n', '\\n', '223.89\\n', '\\n', '219.12\\n', '\\n', '220.25\\n', '\\n', '228.55\\n', '\\n', '227.59\\n', '\\n', '227.13\\n', '\\n', '226.25\\n', '\\n', '227.15\\n', '\\n', '221.29\\n', '\\n', '223.78\\n', '\\n', '222.87\\n', '\\n', '220.2\\n', '\\n', '223.39\\n', '\\n', '222.42\\n', '\\n', '228.05\\n', '\\n', '230.79\\n', '\\n', '230.68\\n', '\\n', '232.27\\n', '\\n', '231.58\\n', '\\n', '230.71\\n', '\\n', '230.23\\n', '\\n', '228.85\\n', '\\n', '229.04\\n', '\\n', '236.06\\n', '\\n', '235.27\\n', '\\n', '235.52\\n', '\\n', '233.87\\n', '\\n', '233.02\\n', '\\n', '232.03\\n', '\\n', '233.46\\n', '\\n', '232.91\\n', '\\n', '236.9\\n', '\\n', '236.16\\n', '\\n', '237.77\\n', '\\n', '235.59\\n', '\\n', '241\\n', '\\n', '239.3\\n', '\\n', '238.53\\n', '\\n', '238.76\\n', '\\n', '240.35\\n', '\\n', '239.27\\n', '\\n', '235.45\\n', '\\n', '234.27\\n', '\\n', '232.66\\n', '\\n', '236.38\\n', '\\n', '235.32\\n', '\\n', '233.4\\n', '\\n', '233.17\\n', '\\n', '234.39\\n', '\\n', '230.5\\n', '\\n', '233.14\\n', '\\n', '230.66\\n', '\\n', '228.77\\n', '\\n', '236.07\\n', '\\n', '235.24\\n', '\\n', '234.92\\n', '\\n', '235.06\\n', '\\n', '237.69\\n', '\\n', '236.75\\n', '\\n', '236.93\\n', '\\n', '241.52\\n', '\\n', '243.31\\n', '\\n', '249.05\\n', '\\n', '248.71\\n', '\\n', '249.95\\n', '\\n', '253.28\\n', '\\n', '259.16\\n', '\\n', '258.87\\n', '\\n', '257.27\\n', '\\n', '257.49\\n', '\\n', '255.41\\n', '\\n', '252.13\\n', '\\n', '252.37\\n', '\\n', '251.17\\n', '\\n', '252.69\\n', '\\n', '257.34\\n', '\\n', '256.9\\n', '\\n', '254.73\\n', '\\n', '256.8\\n', '\\n', '262.23\\n', '\\n', '263.45\\n', '\\n', '264.86\\n', '\\n', '262.88\\n', '\\n', '262.24\\n', '\\n', '261.09\\n', '\\n', '264.92\\n', '\\n', '266.9\\n', '\\n', '270.54\\n', '\\n', '269.43\\n', '\\n', '271.01\\n', '\\n', '271.4\\n', '\\n', '271.96\\n', '\\n', '272.39\\n', '\\n', '275.8\\n', '\\n', '276.22\\n', '\\n', '277.22\\n', '\\n', '274.48\\n', '\\n', '274.02\\n', '\\n', '259.8\\n', '\\n', '256\\n', '\\n', '256.74\\n', '\\n', '254.63\\n', '\\n', '253.75\\n', '\\n', '255.69\\n', '\\n', '257.8\\n', '\\n', '254.74\\n', '\\n', '256.21\\n', '\\n', '255.25\\n', '\\n', '251.25\\n', '\\n', '254.74\\n', '\\n', '257.75\\n', '\\n', '262.63\\n', '\\n', '257.11\\n', '\\n', '257.62\\n', '\\n', '257.49\\n', '\\n', '254.05\\n', '\\n', '248.53\\n', '\\n', '245.51\\n', '\\n', '249.77\\n', '\\n', '248.71\\n', '\\n', '253.05\\n', '\\n', '256.12\\n', '\\n', '255.84\\n', '\\n', '257.24\\n', '\\n', '256.37\\n', '\\n', '252.95\\n', '\\n', '256.18\\n', '\\n', '255.44\\n', '\\n', '257.37\\n', '\\n', '262.31\\n', '\\n', '263.64\\n', '\\n', '261.5\\n', '\\n', '259.42\\n', '\\n', '256.98\\n', '\\n', '260.4\\n', '\\n', '261.06\\n', '\\n', '262.13\\n', '\\n', '264.11\\n', '\\n', '262.39\\n', '\\n', '267.37\\n', '\\n', '273.15\\n', '\\n', '276.14\\n', '\\n', '279.77\\n', '\\n', '283.73\\n', '\\n', '284.22\\n', '\\n', '283.8\\n', '\\n', '283.47\\n', '\\n', '283.35\\n', '\\n', '290.98\\n', '\\n', '291.9\\n', '\\n', '291.72\\n', '\\n', '289.23\\n', '\\n', '296.73\\n', '\\n', '304.51\\n', '\\n', '307.28\\n', '\\n', '312.38\\n', '\\n', '310.69\\n', '\\n', '318.38\\n', '\\n', '309.74\\n', '\\n', '307.69\\n', '\\n', '316.42\\n', '\\n', '319.49\\n', '\\n', '322.03\\n', '\\n', '325.05\\n', '\\n', '337.55\\n', '\\n', '337.57\\n', '\\n', '333.92\\n', '\\n', '336.96\\n', '\\n', '339.28\\n', '\\n', '347.04\\n', '\\n', '353.15\\n', '\\n', '351.25\\n', '\\n', '355.27\\n', '\\n', '362.46\\n', '\\n', '370.52\\n', '\\n', '366.1\\n', '\\n', '346.57\\n', '\\n', '331.65\\n', '\\n', '315.72\\n', '\\n', '329.94\\n', '\\n', '320.52\\n', '\\n', '314.51\\n', '\\n', '316.5\\n', '\\n', '312.61\\n', '\\n', '323.95\\n', '\\n', '329.93\\n', '\\n', '338.01\\n', '\\n', '332.7\\n', '\\n', '336.45\\n', '\\n', '345.78\\n', '\\n', '348.15\\n', '\\n', '346.15\\n', '\\n', '340.42\\n', '\\n', '341.74\\n', '\\n', '348.91\\n', '\\n', '357.27\\n', '\\n', '357.08\\n', '\\n', '358.85\\n', '\\n', '349.25\\n', '\\n', '349.33\\n', '\\n', '346.68\\n', '\\n', '344.64\\n', '\\n', '334.28\\n', '\\n', '336.34\\n', '\\n', '338.35\\n', '\\n', '344.5\\n', '\\n', '348\\n', '\\n', '350.01\\n', '\\n', '355.06\\n', '\\n', '350.02\\n', '\\n', '350.91\\n', '\\n', '345.39\\n', '\\n', '342.25\\n', '\\n', '342.32\\n', '\\n', '328.17\\n', '\\n', '324.3\\n', '\\n', '315.52\\n', '\\n', '326.27\\n', '\\n', '323.04\\n', '\\n', '318.81\\n', '\\n', '326.58\\n', '\\n', '318.51\\n', '\\n', '307.67\\n', '\\n', '300.09\\n', '\\n', '299.82\\n', '\\n', '291.88\\n', '\\n', '274.04\\n', '\\n', '286.96\\n', '\\n', '282.92\\n', '\\n', '277.71\\n', '\\n', '274.98\\n', '\\n', '273.86\\n', '\\n', '281.87\\n', '\\n', '257.69\\n', '\\n', '247.47\\n', '\\n', '253.15\\n', '\\n', '250.6\\n', '\\n', '252.22\\n', '\\n', '258.09\\n', '\\n', '260.32\\n', '\\n', '258.79\\n', '\\n', '267.04\\n', '\\n', '265.86\\n', '\\n', '264.56\\n', '\\n', '254.22\\n', '\\n', '254.25\\n', '\\n', '251.18\\n', '\\n', '253.65\\n', '\\n', '242.98\\n', '\\n', '231.86\\n', '\\n', '236.19\\n', '\\n', '237.46\\n', '\\n', '235.35\\n', '\\n', '228.28\\n', '\\n', '222.08\\n', '\\n', '223.63\\n', '\\n', '216.13\\n', '\\n', '216.46\\n', '\\n', '206.6\\n', '\\n', '219.7\\n', '\\n', '219.87\\n', '\\n', '221.28\\n', '\\n', '218.74\\n', '\\n', '209.73\\n', '\\n', '219.36\\n', '\\n', '215.78\\n', '\\n', '216.56\\n', '\\n', '230.05\\n', '\\n', '225.16\\n', '\\n', '228.87\\n', '\\n', '221.82\\n', '\\n', '218.82\\n', '\\n', '220.01\\n', '\\n', '232.62\\n', '\\n', '232.62\\n', '\\n', '227.33\\n', '\\n', '235.31\\n', '\\n', '238.17\\n', '\\n', '233.67\\n', '\\n', '231.86\\n', '\\n', '234.3\\n', '\\n', '228.5\\n', '\\n', '225.6\\n', '\\n', '223.2\\n', '\\n', '227.29\\n', '\\n', '224.55\\n', '\\n', '269.44\\n', '\\n', '268.63\\n', '\\n', '277.22\\n', '\\n', '272.97\\n', '\\n', '271.25\\n', '\\n', '271.76\\n', '\\n', '275.78\\n', '\\n', '278.96\\n', '\\n', '286.86\\n', '\\n', '296.24\\n', '\\n', '290.35\\n', '\\n', '297.15\\n', '\\n', '292.89\\n', '\\n', '289.21\\n', '\\n', '291.21\\n', '\\n', '286.3\\n', '\\n', '292.18\\n', '\\n', '291.21\\n', '\\n', '287.86\\n', '\\n', '290.21\\n', '\\n', '289.74\\n', '\\n', '288.47\\n', '\\n', '289.01\\n', '\\n', '274.72\\n', '\\n', '274.46\\n', '\\n', '272.04\\n', '\\n', '280.17\\n', '\\n', '283.84\\n', '\\n', '291.21\\n', '\\n', '292.61\\n', '\\n', '287.21\\n', '\\n', '283.37\\n', '\\n', '285.82\\n', '\\n', '292.86\\n', '\\n', '283.22\\n', '\\n', '278.66\\n', '\\n', '276.81\\n', '\\n', '272.33\\n', '\\n', '276.2\\n', '\\n', '285.47\\n', '\\n', '286.12\\n', '\\n', '284.45\\n', '\\n', '280.91\\n', '\\n', '279.82\\n', '\\n', '272.94\\n', '\\n', '272.33\\n', '\\n', '270.88\\n', '\\n', '275.22\\n', '\\n', '264.15\\n', '\\n', '263.77\\n', '\\n', '262.95\\n', '\\n', '267.1\\n', '\\n', '263.26\\n', '\\n', '268.23\\n', '\\n', '271.68\\n', '\\n', '276.99\\n', '\\n', '270.5\\n', '\\n', '270.02\\n', '\\n', '266.63\\n', '\\n', '260.55\\n', '\\n', '257.79\\n', '\\n', '267.53\\n', '\\n', '266.45\\n', '\\n', '240.42\\n', '\\n', '234.17\\n', '\\n', '238.32\\n', '\\n', '244.37\\n', '\\n', '237.57\\n', '\\n', '245.74\\n', '\\n', '238.32\\n', '\\n', '241.31\\n', '\\n', '241.11\\n', '\\n', '236.64\\n', '\\n', '233.7\\n', '\\n', '231.27\\n', '\\n', '239.69\\n', '\\n', '242.93\\n', '\\n', '239.32\\n', '\\n', '247.26\\n', '\\n', '250.17\\n', '\\n', '251.05\\n', '\\n', '249.76\\n', '\\n', '252.49\\n', '\\n', '254.82\\n', '\\n', '248.9\\n', '\\n', '245\\n', '\\n', '242.26\\n', '\\n', '243.02\\n', '\\n', '245.05\\n', '\\n', '241.26\\n', '\\n', '236.84\\n', '\\n', '234.06\\n', '\\n', '236.65\\n', '\\n', '231.41\\n', '\\n', '232.39\\n', '\\n', '231.97\\n', '\\n', '224.9\\n', '\\n', '221.9\\n', '\\n', '209.76\\n', '\\n', '209.12\\n', '\\n', '206.87\\n', '\\n', '216.66\\n', '\\n', '218.61\\n', '\\n', '216.71\\n', '\\n', '221.24\\n', '\\n', '207.04\\n', '\\n', '219.32\\n', '\\n', '224.35\\n', '\\n', '214.85\\n', '\\n', '214.42\\n', '\\n', '217.34\\n', '\\n', '219.58\\n', '\\n', '215.3\\n', '\\n', '190.31\\n', '\\n', '200.06\\n', '\\n', '205.65\\n', '\\n', '195.05\\n', '\\n', '193.26\\n', '\\n', '185.42\\n', '\\n', '172.83\\n', '\\n', '168.89\\n', '\\n', '164.33\\n', '\\n', '165.83\\n', '\\n', '190.32\\n', '\\n', '181.17\\n', '\\n', '169.42\\n', '\\n', '176.33\\n', '\\n', '186.08\\n', '\\n', '189.47\\n', '\\n', '181.19\\n', '\\n', '177.66\\n', '\\n', '175.98\\n', '\\n', '169.48\\n', '\\n', '164.58\\n', '\\n', '184.19\\n', '\\n', '178.82\\n', '\\n', '179.67\\n', '\\n', '179.5\\n', '\\n', '173.07\\n', '\\n', '183.29\\n', '\\n', '170.95\\n', '\\n', '165.44\\n', '\\n', '165.4\\n', '\\n', '159.23\\n', '\\n', '155.57\\n', '\\n', '145.35\\n', '\\n', '155.88\\n', '\\n', '154.85\\n', '\\n', '149.91\\n', '\\n', '148.56\\n', '\\n', '139.95\\n', '\\n', '129.65\\n', '\\n', '131.08\\n', '\\n', '128.59\\n', '\\n', '140.88\\n', '\\n', '145.9\\n', '\\n', '146.33\\n', '\\n', '132.86\\n', '\\n', '137.42\\n', '\\n', '139.58\\n', '\\n', '137.03\\n', '\\n', '141.85\\n', '\\n', '150.9\\n', '\\n', '152.83\\n', '\\n', '154.26\\n', '\\n', '149.96\\n', '\\n', '157.72\\n', '\\n', '155.18\\n', '\\n', '162.48\\n', '\\n', '157.46\\n', '\\n', '154.98\\n', '\\n', '154.93\\n', '\\n', '148.41\\n', '\\n', '148.86\\n', '\\n', '151.32\\n', '\\n', '150.03\\n', '\\n', '148.56\\n', '\\n', '151.4\\n', '\\n', '153.67\\n', '\\n', '160.5\\n', '\\n', '163.86\\n', '\\n', '166.86\\n', '\\n', '160.84\\n', '\\n', '162.43\\n', '\\n', '157.38\\n', '\\n', '156.19\\n', '\\n', '157\\n', '\\n', '150.33\\n', '\\n', '149.35\\n', '\\n', '149.69\\n', '\\n', '141.23\\n', '\\n', '151.39\\n', '\\n', '153.1\\n', '\\n', '162.19\\n', '\\n', '161.77\\n', '\\n', '165.57\\n', '\\n', '174.16\\n', '\\n', '171.49\\n', '\\n', '169.1\\n', '\\n', '170.11\\n', '\\n', '170.05\\n', '\\n', '171.33\\n', '\\n', '176.68\\n', '\\n', '185.45\\n', '\\n', '189.2\\n', '\\n', '179.08\\n', '\\n', '178.84\\n', '\\n', '181.34\\n', '\\n', '178.66\\n', '\\n', '171.16\\n', '\\n', '176.38\\n', '\\n', '171.15\\n', '\\n', '173.05\\n', '\\n', '164.86\\n', '\\n', '172.55\\n', '\\n', '170.65\\n', '\\n', '168.42\\n', '\\n', '168.83\\n', '\\n', '163.42\\n', '\\n', '162.58\\n', '\\n', '159.3\\n', '\\n', '152.67\\n', '\\n', '154.13\\n', '\\n', '145.3\\n', '\\n', '153.93\\n', '\\n', '158.8\\n', '\\n', '161.6\\n', '\\n', '162.05\\n', '\\n', '159.69\\n', '\\n', '167.5\\n', '\\n', '166.38\\n', '\\n', '164.81\\n', '\\n', '164.91\\n', '\\n', '174.13\\n', '\\n', '173.41\\n', '\\n', '171.86\\n', '\\n', '176.47\\n', '\\n', '173.68\\n', '\\n', '171.17\\n', '\\n', '173.86\\n', '\\n', '176.87\\n', '\\n', '181.07\\n', '\\n', '184.71\\n', '\\n', '183.94\\n', '\\n', '179.15\\n', '\\n', '180.82\\n', '\\n', '186.06\\n', '\\n', '188.87\\n', '\\n', '184.27\\n', '\\n', '189.56\\n', '\\n', '194.18\\n', '\\n', '195.92\\n', '\\n', '189.46\\n', '\\n', '190.54\\n', '\\n', '191.74\\n', '\\n', '192.15\\n', '\\n', '194.55\\n', '\\n', '192.78\\n', '\\n', '191.66\\n', '\\n', '195.54\\n', '\\n', '197.79\\n', '\\n', '196.65\\n', '\\n', '200.79\\n', '\\n', '201.29\\n', '\\n', '201.53\\n', '\\n', '198.11\\n', '\\n', '203.46\\n', '\\n', '203.79\\n', '\\n', '199.31\\n', '\\n', '194.58\\n', '\\n', '193.56\\n', '\\n', '194.8\\n', '\\n', '198.22\\n', '\\n', '199.24\\n', '\\n', '198.39\\n', '\\n', '198.05\\n', '\\n', '196.55\\n', '\\n', '201.98\\n', '\\n', '202.58\\n', '\\n', '204.99\\n', '\\n', '208.41\\n', '\\n', '213.07\\n', '\\n', '213.99\\n', '\\n', '215.61\\n', '\\n', '219.92\\n', '\\n', '221.94\\n', '\\n', '219.17\\n', '\\n', '217.59\\n', '\\n', '216.08\\n', '\\n', '214.29\\n', '\\n', '212.21\\n', '\\n', '208.18\\n', '\\n', '207.79\\n', '\\n', '207.37\\n', '\\n', '206.82\\n', '\\n', '209.83\\n', '\\n', '203.47\\n', '\\n', '202.64\\n', '\\n', '204.44\\n', '\\n', '207.68\\n', '\\n', '212.45\\n', '\\n', '211.86\\n', '\\n', '210.58\\n', '\\n', '209.29\\n', '\\n', '204.04\\n', '\\n', '204.6\\n', '\\n', '198.12\\n', '\\n', '201.04\\n', '\\n', '204.99\\n', '\\n', '206.99\\n', '\\n', '211.94\\n', '\\n', '212.13\\n', '\\n', '218.87\\n', '\\n', '221.08\\n', '\\n', '214.91\\n', '\\n', '214.87\\n', '\\n', '213.74\\n', '\\n', '213.63\\n', '\\n', '218.45\\n', '\\n', '223.14\\n', '\\n', '222.18\\n', '\\n', '219.71\\n', '\\n', '217.9\\n', '\\n', '222.6\\n', '\\n', '221.3\\n', '\\n', '225.88\\n', '\\n', '226.64\\n', '\\n', '225.34\\n', '\\n', '224.95\\n', '\\n', '228.32\\n', '\\n', '228.08\\n', '\\n', '226.74\\n', '\\n', '229.06\\n', '\\n', '230.91\\n', '\\n', '229.77\\n', '\\n', '222.22\\n', '\\n', '222.42\\n', '\\n', '221.76\\n', '\\n', '229.97\\n', '\\n', '232.39\\n', '\\n', '234.13\\n', '\\n', '235.45\\n', '\\n', '233.77\\n', '\\n', '232.8\\n', '\\n', '232.14\\n', '\\n', '230.6\\n', '\\n', '227.65\\n', '\\n', '226.28\\n', '\\n', '228.53\\n', '\\n', '230.42\\n', '\\n', '229.08\\n', '\\n', '231.75\\n', '\\n', '235.23\\n', '\\n', '235.83\\n', '\\n', '237.32\\n', '\\n', '238.53\\n', '\\n', '243.9\\n', '\\n', '245.61\\n', '\\n', '245.48\\n', '\\n', '248.25\\n', '\\n', '249.28\\n', '\\n', '248.98\\n', '\\n', '248.14\\n', '\\n', '245.99\\n', '\\n', '249.02\\n', '\\n', '249.02\\n', '\\n', '247.68\\n', '\\n', '243.36\\n', '\\n', '242.05\\n', '\\n', '244.02\\n', '\\n', '249.12\\n', '\\n', '258.51\\n', '\\n', '256.83\\n', '\\n', '257.87\\n', '\\n', '261.76\\n', '\\n', '262.79\\n', '\\n', '267.39\\n', '\\n', '264.69\\n', '\\n', '274.65\\n', '\\n', '275.77\\n', '\\n', '275.58\\n', '\\n', '275.27\\n', '\\n', '276.77\\n', '\\n', '276.57\\n', '\\n', '276.83\\n', '\\n', '273.87\\n', '\\n', '269.88\\n', '\\n', '275.25\\n', '\\n', '267.79\\n', '\\n', '266.73\\n', '\\n', '268.38\\n', '\\n', '269.89\\n', '\\n', '274.05\\n', '\\n', '275.27\\n', '\\n', '280.97\\n', '\\n', '283.1\\n', '\\n', '284.99\\n', '\\n', '283.64\\n', '\\n', '285.74\\n', '\\n', '287.85\\n', '\\n', '288.46\\n', '\\n', '288.04\\n', '\\n', '286.21\\n', '\\n', '284.7\\n', '\\n', '290.88\\n', '\\n', '291.25\\n', '\\n', '292.58\\n', '\\n', '289.59\\n', '\\n', '291.21\\n', '\\n', '294.64\\n', '\\n', '293.46\\n', '\\n', '292.58\\n', '\\n', '292.21\\n', '\\n', '292.83\\n', '\\n', '293.23\\n', '\\n', '294.22\\n', '\\n', '295.45\\n', '\\n', '294.96\\n', '\\n', '297.57\\n', '\\n', '296.27\\n', '\\n', '298.58\\n', '\\n', '296.67\\n', '\\n', '297.91\\n', '\\n', '299.04\\n', '\\n', '300.26\\n', '\\n', '305.53\\n', '\\n', '308.93\\n', '\\n', '311.12\\n', '\\n', '309.39\\n', '\\n', '311.05\\n', '\\n', '309.68\\n', '\\n', '313.06\\n', '\\n', '311.68\\n', '\\n', '303.83\\n', '\\n', '296.75\\n', '\\n', '300.71\\n', '\\n', '300.25\\n', '\\n', '294.94\\n', '\\n', '293.25\\n', '\\n', '294.63\\n', '\\n', '289.71\\n', '\\n', '293.52\\n', '\\n', '289.91\\n', '\\n', '291.2\\n', '\\n', '274.73\\n', '\\n', '269.73\\n', '\\n', '270.94\\n', '\\n', '270.78\\n', '\\n', '266.88\\n', '\\n', '264.71\\n', '\\n', '266.24\\n', '\\n', '265.29\\n', '\\n', '270.14\\n', '\\n', '263.13\\n', '\\n', '265.38\\n', '\\n', '266.47\\n', '\\n', '267.95\\n', '\\n', '266.96\\n', '\\n', '267.93\\n', '\\n', '266.29\\n', '\\n', '270.38\\n', '\\n', '268.83\\n', '\\n', '271.34\\n', '\\n', '270.11\\n', '\\n', '271.13\\n', '\\n', '267.27\\n', '\\n', '265.47\\n', '\\n', '262.95\\n', '\\n', '263.14\\n', '\\n', '266.08\\n', '\\n', '270.26\\n', '\\n', '272.39\\n', '\\n', '277.02\\n', '\\n', '281.82\\n', '\\n', '280.96\\n', '\\n', '279.81\\n', '\\n', '287.94\\n', '\\n', '290.28\\n', '\\n', '289.48\\n', '\\n', '281.31\\n', '\\n', '282.32\\n', '\\n', '282.5\\n', '\\n', '282.92\\n', '\\n', '279.72\\n', '\\n', '278.47\\n', '\\n', '274.23\\n', '\\n', '278.39\\n', '\\n', '281.16\\n', '\\n', '281.06\\n', '\\n', '280.94\\n', '\\n', '283.07\\n', '\\n', '283.28\\n', '\\n', '285.22\\n', '\\n', '283.83\\n', '\\n', '281.49\\n', '\\n', '283.46\\n', '\\n', '282.83\\n', '\\n', '286.08\\n', '\\n', '293.09\\n', '\\n', '294.21\\n', '\\n', '297.35\\n', '\\n', '274.8\\n', '\\n', '274.77\\n', '\\n', '277.24\\n', '\\n', '276.87\\n', '\\n', '273.26\\n', '\\n', '272.22\\n', '\\n', '265.55\\n', '\\n', '264.26\\n', '\\n', '264.33\\n', '\\n', '265.73\\n', '\\n', '262.58\\n', '\\n', '265.03\\n', '\\n', '252.93\\n', '\\n', '254.63\\n', '\\n', '249.09\\n', '\\n', '246.32\\n', '\\n', '260.56\\n', '\\n', '254.27\\n', '\\n', '252.44\\n', '\\n', '255.18\\n', '\\n', '253.51\\n', '\\n', '253.73\\n', '\\n', '248.94\\n', '\\n', '246.97\\n', '\\n', '237.27\\n', '\\n', '235.79\\n', '\\n', '238.34\\n', '\\n', '238.3\\n', '\\n', '237.5\\n', '\\n', '244.98\\n', '\\n', '242.57\\n', '\\n', '240.94\\n', '\\n', '246.44\\n', '\\n', '252.55\\n', '\\n', '249.11\\n', '\\n', '242.52\\n', '\\n', '242.15\\n', '\\n', '236.77\\n', '\\n', '243.26\\n', '\\n', '244.01\\n', '\\n', '241.35\\n', '\\n', '248.75\\n', '\\n', '250.38\\n', '\\n', '249.79\\n', '\\n', '249.76\\n', '\\n', '244.04\\n', '\\n', '242.88\\n', '\\n', '240.78\\n', '\\n', '237.31\\n', '\\n', '236.1\\n', '\\n', '235.8\\n', '\\n', '226.9\\n', '\\n', '222.25\\n', '\\n', '219.53\\n', '\\n', '218.06\\n', '\\n', '217.82\\n', '\\n', '224.87\\n', '\\n', '228.05\\n', '\\n', '233.51\\n', '\\n', '237.68\\n', '\\n', '244.36\\n', '\\n', '245.42\\n', '\\n', '246.76\\n', '\\n', '229.57\\n', '\\n', '232.86\\n', '\\n', '240.55\\n', '\\n', '238.51\\n', '\\n', '242.16\\n', '\\n', '244.78\\n', '\\n', '244.24\\n', '\\n', '246.07\\n', '\\n', '241.93\\n', '\\n', '242.25\\n', '\\n', '242.18\\n', '\\n', '244.96\\n', '\\n', '244.67\\n', '\\n', '252.91\\n', '\\n', '253.8\\n', '\\n', '249.86\\n', '\\n', '252.42\\n', '\\n', '251.6\\n', '\\n', '245.62\\n', '\\n', '245.76\\n', '\\n', '242.93\\n', '\\n', '242.55\\n', '\\n', '245.01\\n', '\\n', '240.83\\n', '\\n', '233.75\\n', '\\n', '230.78\\n', '\\n', '231.8\\n', '\\n', '225.47\\n', '\\n', '227.08\\n', '\\n', '225.26\\n', '\\n', '229.19\\n', '\\n', '226.12\\n', '\\n', '224.78\\n', '\\n', '229.94\\n', '\\n', '231.36\\n', '\\n', '234.91\\n', '\\n', '231.97\\n', '\\n', '235.05\\n', '\\n', '237.85\\n', '\\n', '237.83\\n', '\\n', '240.89\\n', '\\n', '239.97\\n', '\\n', '240.08\\n', '\\n', '240.29\\n', '\\n', '244.83\\n', '\\n', '253.89\\n', '\\n', '256.47\\n', '\\n', '257.74\\n', '\\n', '256.48\\n', '\\n', '263.38\\n', '\\n', '264.94\\n', '\\n', '263.32\\n', '\\n', '263.58\\n', '\\n', '262.63\\n', '\\n', '262.55\\n', '\\n', '260.91\\n', '\\n', '268.85\\n', '\\n', '266.91\\n', '\\n', '264.74\\n', '\\n', '267.91\\n', '\\n', '269.15\\n', '\\n', '270.42\\n', '\\n', '271.38\\n', '\\n', '270.19\\n', '\\n', '300.42\\n', '\\n', '308.55\\n', '\\n', '303.61\\n', '\\n', '303.69\\n', '\\n', '305.69\\n', '\\n', '305.96\\n', '\\n', '307.94\\n', '\\n', '308.99\\n', '\\n', '307.93\\n', '\\n', '308.98\\n', '\\n', '306.54\\n', '\\n', '307.19\\n', '\\n', '307.49\\n', '\\n', '309.78\\n', '\\n', '311.82\\n', '\\n', '312.23\\n', '\\n', '313.07\\n', '\\n', '312.1\\n', '\\n', '311.13\\n', '\\n', '308.29\\n', '\\n', '301.34\\n', '\\n', '297.44\\n', '\\n', '291.57\\n', '\\n', '291.48\\n', '\\n', '297.98\\n', '\\n', '295.12\\n', '\\n', '295.31\\n', '\\n', '291.21\\n', '\\n', '297.19\\n', '\\n', '294.7\\n', '\\n', '290.76\\n', '\\n', '277.58\\n', '\\n', '281.89\\n', '\\n', '285.62\\n', '\\n', '286.21\\n', '\\n', '288.89\\n', '\\n', '293.28\\n', '\\n', '294.97\\n', '\\n', '295.45\\n', '\\n', '295.81\\n', '\\n', '297.01\\n', '\\n', '297.16\\n', '\\n', '294.85\\n', '\\n', '295.56\\n', '\\n', '295.1\\n', '\\n', '297.23\\n', '\\n', '301.23\\n', '\\n', '302.44\\n', '\\n', '301.81\\n', '\\n', '300.89\\n', '\\n', '299.16\\n', '\\n', '300.2\\n', '\\n', '299.13\\n', '\\n', '296.69\\n', '\\n', '301.87\\n', '\\n', '300.76\\n', '\\n', '304.23\\n', '\\n', '306.44\\n', '\\n', '307.91\\n', '\\n', '306.8\\n', '\\n', '307.7\\n', '\\n', '308.13\\n', '\\n', '308.04\\n', '\\n', '311.78\\n', '\\n', '319.5\\n', '\\n', '315.56\\n', '\\n', '313.07\\n', '\\n', '305.61\\n', '\\n', '305.23\\n', '\\n', '309.65\\n', '\\n', '307.94\\n', '\\n', '308.09\\n', '\\n', '300.19\\n', '\\n', '299.88\\n', '\\n', '305.21\\n', '\\n', '305.69\\n', '\\n', '304.77\\n', '\\n', '305.18\\n', '\\n', '306.84\\n', '\\n', '308.88\\n', '\\n', '307.94\\n', '\\n', '307.91\\n', '\\n', '311.94\\n', '\\n', '313.76\\n', '\\n', '311.76\\n', '\\n', '311.8\\n', '\\n', '312.32\\n', '\\n', '314.72\\n', '\\n', '304.8\\n', '\\n', '305.35\\n', '\\n', '304.11\\n', '\\n', '304.71\\n', '\\n', '306.39\\n', '\\n', '300.08\\n', '\\n', '300.09\\n', '\\n', '304.48\\n', '\\n', '300.01\\n', '\\n', '295.53\\n', '\\n', '295.86\\n', '\\n', '295.59\\n', '\\n', '289.86\\n', '\\n', '288.07\\n', '\\n', '284.71\\n', '\\n', '284.5\\n', '\\n', '278.27\\n', '\\n', '280.4\\n', '\\n', '280.25\\n', '\\n', '287.96\\n', '\\n', '288.37\\n', '\\n', '290.79\\n', '\\n', '293.15\\n', '\\n', '289.58\\n', '\\n', '287.39\\n', '\\n', '290.57\\n', '\\n', '290.63\\n', '\\n', '293.09\\n', '\\n', '295.6\\n', '\\n', '293.55\\n', '\\n', '284.26\\n', '\\n', '286.8\\n', '\\n', '289.71\\n', '\\n', '288.79\\n', '\\n', '288.4\\n', '\\n', '285.02\\n', '\\n', '287.85\\n', '\\n', '288.97\\n', '\\n', '265.08\\n', '\\n', '263.16\\n', '\\n', '260.5\\n', '\\n', '262.6\\n', '\\n', '262.29\\n', '\\n', '262.26\\n', '\\n', '266.14\\n', '\\n', '268.61\\n', '\\n', '268.72\\n', '\\n', '271.78\\n', '\\n', '269.01\\n', '\\n', '266.68\\n', '\\n', '267.63\\n', '\\n', '266.87\\n', '\\n', '267.38\\n', '\\n', '268.57\\n', '\\n', '271.06\\n', '\\n', '267.46\\n', '\\n', '267.26\\n', '\\n', '264.51\\n', '\\n', '258.95\\n', '\\n', '264.96\\n', '\\n', '264.64\\n', '\\n', '265.36\\n', '\\n', '261.75\\n', '\\n', '258.94\\n', '\\n', '258.87\\n', '\\n', '259.58\\n', '\\n', '258.81\\n', '\\n', '260.19\\n', '\\n', '264.25\\n', '\\n', '262.54\\n', '\\n', '263.77\\n', '\\n', '261.28\\n', '\\n', '260.27\\n', '\\n', '259.26\\n', '\\n', '259.33\\n', '\\n', '258.11\\n', '\\n', '254.5\\n', '\\n', '252.11\\n', '\\n', '253.93\\n', '\\n', '251.22\\n', '\\n', '249.93\\n', '\\n', '242.27\\n', '\\n', '242.05\\n', '\\n', '246.25\\n', '\\n', '243.26\\n', '\\n', '239.87\\n', '\\n', '237.2\\n', '\\n', '241.2\\n', '\\n', '246.58\\n', '\\n', '248.54\\n', '\\n', '252.94\\n', '\\n', '260.25\\n', '\\n', '265.95\\n', '\\n', '267.41\\n', '\\n', '273.03\\n', '\\n', '265.73\\n', '\\n', '263.38\\n', '\\n', '266.74\\n', '\\n', '268.86\\n', '\\n', '264.21\\n', '\\n', '298.51\\n', '\\n', '297.17\\n', '\\n', '300.97\\n', '\\n', '297.38\\n', '\\n', '303.19\\n', '\\n', '308.81\\n', '\\n', '309.18\\n', '\\n', '310.95\\n', '\\n', '303.31\\n', '\\n', '305.16\\n', '\\n', '301.54\\n', '\\n', '303.08\\n', '\\n', '296.77\\n', '\\n', '300.28\\n', '\\n', '288.47\\n', '\\n', '289.23\\n', '\\n', '272.74\\n', '\\n', '286.42\\n', '\\n', '274.23\\n', '\\n', '280.78\\n', '\\n', '281.6\\n', '\\n', '278.34\\n', '\\n', '269.23\\n', '\\n', '266.31\\n', '\\n', '252.19\\n', '\\n', '245.21\\n', '\\n', '248.84\\n', '\\n', '259.15\\n', '\\n', '261.38\\n', '\\n', '259.76\\n', '\\n', '263.17\\n', '\\n', '269.27\\n', '\\n', '270.08\\n', '\\n', '270.21\\n', '\\n', '265.98\\n', '\\n', '262.16\\n', '\\n', '260.83\\n', '\\n', '266.75\\n', '\\n', '267.21\\n', '\\n', '262.16\\n', '\\n', '264.79\\n', '\\n', '264.5\\n', '\\n', '265.77\\n', '\\n', '271.01\\n', '\\n', '273.07\\n', '\\n', '273.06\\n', '\\n', '273.04\\n', '\\n', '269.33\\n', '\\n', '260.07\\n', '\\n', '262.49\\n', '\\n', '265.68\\n', '\\n', '269.4\\n', '\\n', '264.16\\n', '\\n', '263.49\\n', '\\n', '257.26\\n', '\\n', '247.51\\n', '\\n', '250.7\\n', '\\n', '252.1\\n', '\\n', '257.1\\n', '\\n', '257.3\\n', '\\n', '268.32\\n', '\\n', '271.32\\n', '\\n', '273.98\\n', '\\n', '279.22\\n', '\\n', '295.54\\n', '\\n', '290.91\\n', '\\n', '294.96\\n', '\\n', '290.06\\n', '\\n', '291.54\\n', '\\n', '294.95\\n', '\\n', '297.91\\n', '\\n', '291.29\\n', '\\n', '292.86\\n', '\\n', '299.04\\n', '\\n', '299.77\\n', '\\n', '296.02\\n', '\\n', '289.04\\n', '\\n', '292.12\\n', '\\n', '298.45\\n', '\\n', '297.77\\n', '\\n', '303.86\\n', '\\n', '305.86\\n', '\\n', '300.17\\n', '\\n', '297.24\\n', '\\n', '303.87\\n', '\\n', '306.19\\n', '\\n', '307.97\\n', '\\n', '305.43\\n', '\\n', '300.13\\n', '\\n', '297.14\\n', '\\n', '290.18\\n', '\\n', '289.71\\n', '\\n', '284.77\\n', '\\n', '281.22\\n', '\\n', '293.8\\n', '\\n', '291.17\\n', '\\n', '299.4\\n', '\\n', '306.58\\n', '\\n', '309.87\\n', '\\n', '312.51\\n', '\\n', '311.57\\n', '\\n', '311.38\\n', '\\n', '307.72\\n', '\\n', '313.4\\n', '\\n', '312.38\\n', '\\n', '312.5\\n', '\\n', '308.73\\n', '\\n', '309.46\\n', '\\n', '312.67\\n', '\\n', '310.6\\n', '\\n', '314.87\\n', '\\n', '312.6\\n', '\\n', '314.54\\n', '\\n', '316.25\\n', '\\n', '319.8\\n', '\\n', '319.53\\n', '\\n', '320.88\\n', '\\n', '322.63\\n', '\\n', '332.37\\n', '\\n', '333.81\\n', '\\n', '329.18\\n', '\\n', '324.68\\n', '\\n', '310.92\\n', '\\n', '311.26\\n', '\\n', '312.67\\n', '\\n', '314.51\\n', '\\n', '312.18\\n', '\\n', '313.98\\n', '\\n', '316.14\\n', '\\n', '319.47\\n', '\\n', '292.7\\n', '\\n', '292.47\\n', '\\n', '290.17\\n', '\\n', '284.46\\n', '\\n', '283.77\\n', '\\n', '289.7\\n', '\\n', '288.56\\n', '\\n', '289.76\\n', '\\n', '290.12\\n', '\\n', '292.26\\n', '\\n', '297.87\\n', '\\n', '304.24\\n', '\\n', '303.08\\n', '\\n', '304.62\\n', '\\n', '305.42\\n', '\\n', '302.65\\n', '\\n', '305.79\\n', '\\n', '304.58\\n', '\\n', '302.48\\n', '\\n', '302.96\\n', '\\n', '302.02\\n', '\\n', '306.69\\n', '\\n', '303.67\\n', '\\n', '302.75\\n', '\\n', '304.65\\n', '\\n', '304.35\\n', '\\n', '308.89\\n', '\\n', '308.82\\n', '\\n', '310.89\\n', '\\n', '310.31\\n', '\\n', '306.82\\n', '\\n', '302.18\\n', '\\n', '303.1\\n', '\\n', '303.27\\n', '\\n', '299.82\\n', '\\n', '302.27\\n', '\\n', '308.58\\n', '\\n', '307.69\\n', '\\n', '310.25\\n', '\\n', '312.21\\n', '\\n', '316.67\\n', '\\n', '316.43\\n', '\\n', '319.67\\n', '\\n', '322.7\\n', '\\n', '320.97\\n', '\\n', '324.34\\n', '\\n', '323.19\\n', '\\n', '327.55\\n', '\\n', '323.88\\n', '\\n', '320.3\\n', '\\n', '323.14\\n', '\\n', '320.99\\n', '\\n', '317.26\\n', '\\n', '315.84\\n', '\\n', '315.1\\n', '\\n', '313.12\\n', '\\n', '317.66\\n', '\\n', '325.18\\n', '\\n', '311.99\\n', '\\n', '302.73\\n', '\\n', '304.48\\n', '\\n', '303.42\\n', '\\n', '299.35\\n', '\\n', '297.73\\n', '\\n', '298.5\\n', '\\n', '300.33\\n', '\\n', '304.56\\n', '\\n', '307.43\\n', '\\n', '307.18\\n', '\\n', '302.12\\n', '\\n', '301.91\\n', '\\n', '303.33\\n', '\\n', '305.2\\n', '\\n', '298.19\\n', '\\n', '303.47\\n', '\\n', '306.09\\n', '\\n', '304.27\\n', '\\n', '306.52\\n', '\\n', '302.31\\n', '\\n', '301.7\\n', '\\n', '305.25\\n', '\\n', '314.15\\n', '\\n', '311.21\\n', '\\n', '299.9\\n', '\\n', '306.75\\n', '\\n', '300.1\\n', '\\n', '304.43\\n', '\\n', '301.53\\n', '\\n', '295.47\\n', '\\n', '296.87\\n', '\\n', '293.82\\n', '\\n', '290.14\\n', '\\n', '285.2\\n', '\\n', '289.01\\n', '\\n', '284.92\\n', '\\n', '289.99\\n', '\\n', '288.83\\n', '\\n', '289.93\\n', '\\n', '283.97\\n', '\\n', '282.27\\n', '\\n', '280.26\\n', '\\n', '279.25\\n', '\\n', '281.97\\n', '\\n', '285.14\\n', '\\n', '290.47\\n', '\\n', '288.47\\n', '\\n', '282.32\\n', '\\n', '285.45\\n', '\\n', '280.07\\n', '\\n', '282.06\\n', '\\n', '284.36\\n', '\\n', '281.87\\n', '\\n', '289.74\\n', '\\n', '289.94\\n', '\\n', '293.62\\n', '\\n', '297.66\\n', '\\n', '292.7\\n', '\\n', '292.71\\n', '\\n', '290.56\\n', '\\n', '285.31\\n', '\\n', '284.95\\n', '\\n', '287.97\\n', '\\n', '287.17\\n', '\\n', '288.08\\n', '\\n', '290.09\\n', '\\n', '296.23\\n', '\\n', '305.1\\n', '\\n', '307.45\\n', '\\n', '303.48\\n', '\\n', '303.69\\n', '\\n', '306.37\\n', '\\n', '317.16\\n', '\\n', '315.83\\n', '\\n', '316.17\\n', '\\n', '316.02\\n', '\\n', '314.06\\n', '\\n', '320.34\\n', '\\n', '321.09\\n', '\\n', '319.95\\n', '\\n', '320.79\\n', '\\n', '320.85\\n', '\\n', '320.68\\n', '\\n', '329.67\\n', '\\n', '334\\n', '\\n', '333.44\\n', '\\n', '336.1\\n', '\\n', '338.23\\n', '\\n', '337.43\\n', '\\n', '334.42\\n', '\\n', '338.25\\n', '\\n', '338.06\\n', '\\n', '338.98\\n', '\\n', '334.28\\n', '\\n', '338.29\\n', '\\n', '343.66\\n', '\\n', '340.5\\n', '\\n', '342.2\\n', '\\n', '340.18\\n', '\\n', '340.02\\n', '\\n', '349.35\\n', '\\n', '352.72\\n', '\\n', '350.03\\n', '\\n', '345.75\\n', '\\n', '345.1\\n', '\\n', '352.67\\n', '\\n', '354.49\\n', '\\n', '354.64\\n', '\\n', '358.78\\n', '\\n', '363.39\\n', '\\n', '363.69\\n', '\\n', '366.63\\n', '\\n', '374.32\\n', '\\n', '374.21\\n', '\\n', '376.35\\n', '\\n', '377.87\\n', '\\n', '376.87\\n', '\\n', '380.51\\n', '\\n', '378.12\\n', '\\n', '380.87\\n', '\\n', '383.64\\n', '\\n', '383.44\\n', '\\n', '378.54\\n', '\\n', '371.67\\n', '\\n', '371.91\\n', '\\n', '375.36\\n', '\\n', '372\\n', '\\n', '370.12\\n', '\\n', '371.98\\n', '\\n', '377.37\\n', '\\n', '347.15\\n', '\\n', '340.55\\n', '\\n', '339\\n', '\\n', '339.83\\n', '\\n', '338.31\\n', '\\n', '338.54\\n', '\\n', '337.24\\n', '\\n', '339.81\\n', '\\n', '343.45\\n', '\\n', '343.62\\n', '\\n', '341.14\\n', '\\n', '340.52\\n', '\\n', '333.23\\n', '\\n', '325.82\\n', '\\n', '331.18\\n', '\\n', '332.62\\n', '\\n', '329.2\\n', '\\n', '325.95\\n', '\\n', '323.31\\n', '\\n', '323.27\\n', '\\n', '333.77\\n', '\\n', '334.65\\n', '\\n', '332.6\\n', '\\n', '333.65\\n', '\\n', '330.24\\n', '\\n', '335.02\\n', '\\n', '341.49\\n', '\\n', '345.6\\n', '\\n', '348.84\\n', '\\n', '347.28\\n', '\\n', '345.17\\n', '\\n', '343.57\\n', '\\n', '345.22\\n', '\\n', '341.76\\n', '\\n', '342.37\\n', '\\n', '348.09\\n', '\\n', '348.43\\n', '\\n', '351\\n', '\\n', '350.63\\n', '\\n', '360.03\\n', '\\n', '360.17\\n', '\\n', '359.69\\n', '\\n', '360.82\\n', '\\n', '357.46\\n', '\\n', '354.4\\n', '\\n', '354.08\\n', '\\n', '352.79\\n', '\\n', '349.65\\n', '\\n', '353.34\\n', '\\n', '361.26\\n', '\\n', '361.47\\n', '\\n', '368.62\\n', '\\n', '367.01\\n', '\\n', '366.28\\n', '\\n', '368.69\\n', '\\n', '370.37\\n', '\\n', '369.62\\n', '\\n', '361.26\\n', '\\n', '362.1\\n', '\\n', '357.24\\n', '\\n', '355.3\\n', '\\n', '351.9\\n', '\\n', '351.08\\n', '\\n', '370.38\\n', '\\n', '376.54\\n', '\\n', '376.46\\n', '\\n', '374.99\\n', '\\n', '376.46\\n', '\\n', '376.54\\n', '\\n', '377.47\\n', '\\n', '387.4\\n', '\\n', '379.13\\n', '\\n', '382.49\\n', '\\n', '384.7\\n', '\\n', '386.59\\n', '\\n', '392.29\\n', '\\n', '390.82\\n', '\\n', '389.96\\n', '\\n', '391.04\\n', '\\n', '393.52\\n', '\\n', '396.05\\n', '\\n', '403.02\\n', '\\n', '395.83\\n', '\\n', '397.37\\n', '\\n', '399.46\\n', '\\n', '394.99\\n', '\\n', '394.67\\n', '\\n', '399.49\\n', '\\n', '400.2\\n', '\\n', '402.69\\n', '\\n', '410.34\\n', '\\n', '418.88\\n', '\\n', '415.27\\n', '\\n', '415.88\\n', '\\n', '415.34\\n', '\\n', '416.99\\n', '\\n', '413.39\\n', '\\n', '412.24\\n', '\\n', '410.36\\n', '\\n', '406.74\\n', '\\n', '403.49\\n', '\\n', '405.25\\n', '\\n', '406.95\\n', '\\n', '405.22\\n', '\\n', '404.75\\n', '\\n', '404.42\\n', '\\n', '405.8\\n', '\\n', '400.93\\n', '\\n', '396.7\\n', '\\n', '400.19\\n', '\\n', '406.11\\n', '\\n', '402.7\\n', '\\n', '397.14\\n', '\\n', '391.13\\n', '\\n', '387.04\\n', '\\n', '388.44\\n', '\\n', '394.69\\n', '\\n', '394.8\\n', '\\n', '394.63\\n', '\\n', '390.57\\n', '\\n', '396.29\\n', '\\n', '390.89\\n', '\\n', '382.57\\n', '\\n', '399.54\\n', '\\n', '399.66\\n', '\\n', '403.55\\n', '\\n', '406.32\\n', '\\n', '404.15\\n', '\\n', '400.31\\n', '\\n', '409.12\\n', '\\n', '411.87\\n', '\\n', '409.8\\n', '\\n', '414.39\\n', '\\n', '422.44\\n', '\\n', '430.34\\n', '\\n', '428.19\\n', '\\n', '436.38\\n', '\\n', '435.3\\n', '\\n', '439.67\\n', '\\n', '438.33\\n', '\\n', '443.11\\n', '\\n', '457.49\\n', '\\n', '451.48\\n', '\\n', '454.14\\n', '\\n', '453.81\\n', '\\n', '453.03\\n', '\\n', '444.27\\n', '\\n', '440.95\\n', '\\n', '436.22\\n', '\\n', '440.19\\n', '\\n', '433.72\\n', '\\n', '434.94\\n', '\\n', '435.17\\n', '\\n', '433.38\\n', '\\n', '429.12\\n', '\\n', '429.42\\n', '\\n', '431.89\\n', '\\n', '439.43\\n', '\\n', '444.66\\n', '\\n', '439.47\\n', '\\n', '435.55\\n', '\\n', '438.06\\n', '\\n', '437.08\\n', '\\n', '442.68\\n', '\\n', '449.86\\n', '\\n', '449.89\\n', '\\n', '441.93\\n', '\\n', '440.02\\n', '\\n', '434.46\\n', '\\n', '432.67\\n', '\\n', '436.39\\n', '\\n', '438.1\\n', '\\n', '439.74\\n', '\\n', '443.5\\n', '\\n', '440.71\\n', '\\n', '442.77\\n', '\\n', '446.3\\n', '\\n', '452.09\\n', '\\n', '452.17\\n', '\\n', '452.54\\n', '\\n', '459.66\\n', '\\n', '461.04\\n', '\\n', '461.88\\n', '\\n', '459.34\\n', '\\n', '458.82\\n', '\\n', '454.88\\n', '\\n', '447.85\\n', '\\n', '454.89\\n', '\\n', '451.45\\n', '\\n', '451\\n', '\\n', '443.41\\n', '\\n', '442.23\\n', '\\n', '440.69\\n', '\\n', '445.01\\n', '\\n', '443.43\\n', '\\n', '451.66\\n', '\\n', '452.83\\n', '\\n', '452.05\\n', '\\n', '447.84\\n', '\\n', '444.88\\n', '\\n', '445.88\\n', '\\n', '444.76\\n', '\\n', '442.31\\n', '\\n', '440.18\\n', '\\n', '434.47\\n', '\\n', '429.4\\n', '\\n', '428.03\\n', '\\n', '432.39\\n', '\\n', '432.28\\n', '\\n', '434.23\\n', '\\n', '436.42\\n', '\\n', '434.67\\n', '\\n', '432.76\\n', '\\n', '424.65\\n', '\\n', '423.85\\n', '\\n', '427.29\\n', '\\n', '423.03\\n', '\\n', '429.76\\n', '\\n', '435.38\\n', '\\n', '439.34\\n', '\\n', '439.35\\n', '\\n', '443.58\\n', '\\n', '443.89\\n', '\\n', '447.65\\n', '\\n', '446.08\\n', '\\n', '444.09\\n', '\\n', '443.44\\n', '\\n', '442.61\\n', '\\n', '451.21\\n', '\\n', '448.75\\n', '\\n', '451.1\\n', '\\n', '442.81\\n', '\\n', '442.98\\n', '\\n', '438.18\\n', '\\n', '438.65\\n', '\\n', '437.76\\n', '\\n', '437.52\\n', '\\n', '443.06\\n', '\\n', '443.55\\n', '\\n', '437.61\\n', '\\n', '435.74\\n', '\\n', '432.44\\n', '\\n', '426.41\\n', '\\n', '427.5\\n', '\\n', '433.69\\n', '\\n', '435.56\\n', '\\n', '437.62\\n', '\\n', '440.56\\n', '\\n', '448.56\\n', '\\n', '443.95\\n', '\\n', '505.2\\n', '\\n', '501.15\\n', '\\n', '503\\n', '\\n', '515.19\\n', '\\n', '512.26\\n', '\\n', '507.09\\n', '\\n', '506.99\\n', '\\n', '517.6\\n', '\\n', '514.69\\n', '\\n', '514.77\\n', '\\n', '513.01\\n', '\\n', '512.54\\n', '\\n', '510.25\\n', '\\n', '510.86\\n', '\\n', '503.47\\n', '\\n', '507.51\\n', '\\n', '504.79\\n', '\\n', '505.38\\n', '\\n', '515.72\\n', '\\n', '517.1\\n', '\\n', '516.26\\n', '\\n', '515.26\\n', '\\n', '512.09\\n', '\\n', '510.64\\n', '\\n', '516.52\\n', '\\n', '515.43\\n', '\\n', '522.44\\n', '\\n', '528.68\\n', '\\n', '531.02\\n', '\\n', '529.27\\n', '\\n', '526.71\\n', '\\n', '526.1\\n', '\\n', '528.56\\n', '\\n', '528.14\\n', '\\n', '534.4\\n', '\\n', '538.53\\n', '\\n', '541.79\\n', '\\n', '538.11\\n', '\\n', '534.45\\n', '\\n', '529.86\\n', '\\n', '535.95\\n', '\\n', '534.4\\n', '\\n', '541.83\\n', '\\n', '542.57\\n', '\\n', '549.76\\n', '\\n', '556.99\\n', '\\n', '555.36\\n', '\\n', '558.17\\n', '\\n', '558.64\\n', '\\n', '554.18\\n', '\\n', '559.79\\n', '\\n', '556\\n', '\\n', '551.95\\n', '\\n', '558.1\\n', '\\n', '568.86\\n', '\\n', '570.04\\n', '\\n', '564.55\\n', '\\n', '564.52\\n', '\\n', '560.93\\n', '\\n', '574.13\\n', '\\n', '573.74\\n', '\\n', '577.53\\n', '\\n', '574.69\\n', '\\n', '581.27\\n', '\\n', '581.93\\n', '\\n', '579.47\\n', '\\n', '561.35\\n', '\\n', '550.06\\n', '\\n', '560.94\\n', '\\n', '552.91\\n', '\\n', '567.13\\n', '\\n', '589.89\\n', '\\n', '566.15\\n', '\\n', '568.51\\n', '\\n', '571.03\\n', '\\n', '579.4\\n', '\\n', '588.13\\n', '\\n', '585.88\\n', '\\n', '594.49\\n', '\\n', '592.75\\n', '\\n', '599.35\\n', '\\n', '600.8\\n', '\\n', '604.83\\n', '\\n', '600.57\\n', '\\n', '601.45\\n', '\\n', '601.29\\n', '\\n', '605.65\\n', '\\n', '609.39\\n', '\\n', '609.47\\n', '\\n', '609\\n', '\\n', '607.22\\n', '\\n', '600.74\\n', '\\n', '606.85\\n', '\\n', '608.52\\n', '\\n', '609.2\\n', '\\n', '606.79\\n', '\\n', '605.18\\n', '\\n', '599.4\\n', '\\n', '603.05\\n', '\\n', '593.94\\n', '\\n', '585.81\\n', '\\n', '595.45\\n', '\\n', '605.02\\n', '\\n', '599.03\\n', '\\n', '597.98\\n', '\\n', '590.93\\n', '\\n', '578.39\\n', '\\n', '578.78\\n', '\\n', '565.42\\n', '\\n', '556.58\\n', '\\n', '559.51\\n', '\\n', '556.7\\n', '\\n', '566.88\\n', '\\n', '566.98\\n', '\\n', '569.74\\n', '\\n', '543.14\\n', '\\n', '538.15\\n', '\\n', '554.9\\n', '\\n', '564.14\\n', '\\n', '540.95\\n', '\\n', '530.6\\n', '\\n', '532.52\\n', '\\n', '536.44\\n', '\\n', '556.54\\n', '\\n', '536.1\\n', '\\n', '528.62\\n', '\\n', '534.81\\n', '\\n', '526.94\\n', '\\n', '525.16\\n', '\\n', '516.18\\n', '\\n', '517.15\\n', '\\n', '527.7\\n', '\\n', '526.66\\n', '\\n', '531.35\\n', '\\n', '527.93\\n', '\\n', '527.81\\n', '\\n', '515.14\\n', '\\n', '509.96\\n', '\\n', '511\\n', '\\n', '518.73\\n', '\\n', '529.92\\n', '\\n', '533.09\\n', '\\n', '526.65\\n', '\\n', '519.98\\n', '\\n', '520.63\\n', '\\n', '528.86\\n', '\\n', '529.77\\n', '\\n', '538.94\\n', '\\n', '545.06\\n', '\\n', '552.7\\n', '\\n', '565.95\\n', '\\n', '561.68\\n', '\\n', '560.08\\n', '\\n', '559.89\\n', '\\n', '553.93\\n', '\\n', '544.94\\n', '\\n', '544.66\\n', '\\n', '553.9\\n', '\\n', '556.33\\n', '\\n', '562.12\\n', '\\n', '560.55\\n', '\\n', '558.84\\n', '\\n', '551.35\\n', '\\n', '551.76\\n', '\\n', '544.28\\n', '\\n', '543.01\\n', '\\n', '553.37\\n', '\\n', '554.9\\n', '\\n', '556.36\\n', '\\n', '564.95\\n', '\\n', '564.62\\n', '\\n', '578.65\\n', '\\n', '576\\n', '\\n', '577.24\\n', '\\n', '575.28\\n', '\\n', '582.67\\n', '\\n', '582.34\\n', '\\n', '584.73\\n', '\\n', '582.25\\n', '\\n', '571.09\\n', '\\n', '576.08\\n', '\\n', '571.1\\n', '\\n', '579.18\\n', '\\n', '584.87\\n', '\\n', '584.78\\n', '\\n', '582.66\\n', '\\n', '573.73\\n', '\\n', '595.08\\n', '\\n', '589.47\\n', '\\n', '594.74\\n', '\\n', '595.98\\n', '\\n', '593.35\\n', '\\n', '589.02\\n', '\\n', '590.6\\n', '\\n', '585.61\\n', '\\n', '587.42\\n', '\\n', '571.6\\n', '\\n', '566.07\\n', '\\n', '573.15\\n', '\\n', '565.07\\n', '\\n', '566.37\\n', '\\n', '563.36\\n', '\\n', '568.77\\n', '\\n', '567.88\\n', '\\n', '562.73\\n', '\\n', '574.78\\n', '\\n', '574.65\\n', '\\n', '573.48\\n', '\\n', '582.16\\n', '\\n', '586.86\\n', '\\n', '584.49\\n', '\\n', '583.37\\n', '\\n', '582.56\\n', '\\n', '580.2\\n', '\\n', '577.86\\n', '\\n', '571\\n', '\\n', '569.2\\n', '\\n', '571.6\\n', '\\n', '577.33\\n', '\\n', '577.94\\n', '\\n', '581.98\\n', '\\n', '586.08\\n', '\\n', '589.72\\n', '\\n', '581.01\\n', '\\n', '583.1\\n', '\\n', '581.35\\n', '\\n', '575.62\\n', '\\n', '573.1\\n', '\\n', '579.95\\n', '\\n', '584.77\\n', '\\n', '589.27\\n', '\\n', '596.08\\n', '\\n', '587.37\\n', '\\n', '581.13\\n', '\\n', '587.99\\n', '\\n', '575.06\\n', '\\n', '577.1\\n', '\\n', '576.36\\n', '\\n', '577.36\\n', '\\n', '568.27\\n', '\\n', '570.08\\n', '\\n', '575.28\\n', '\\n', '577.35\\n', '\\n', '563.74\\n', '\\n', '572.5\\n', '\\n', '560.88\\n', '\\n', '544.49\\n', '\\n', '533.21\\n', '\\n', '537.94\\n', '\\n', '530.03\\n', '\\n', '524.51\\n', '\\n', '511.17\\n', '\\n', '520.84\\n', '\\n', '526.54\\n', '\\n', '532.71\\n', '\\n', '543.98\\n', '\\n', '539.78\\n', '\\n', '540.77\\n', '\\n', '548.9\\n', '\\n', '549.33\\n', '\\n', '550.31\\n', '\\n', '559.08\\n', '\\n', '555.22\\n', '\\n', '554.11\\n', '\\n', '545.92\\n', '\\n', '542.04\\n', '\\n', '541.01\\n', '\\n', '547.49\\n', '\\n', '550.29\\n', '\\n', '547.31\\n', '\\n', '545.38\\n', '\\n', '544.4\\n', '\\n', '536.51\\n', '\\n', '535.03\\n', '\\n', '536.99\\n', '\\n', '534.83\\n', '\\n', '537.5\\n', '\\n', '539.27\\n', '\\n', '541.08\\n', '\\n', '540.37\\n', '\\n', '541.83\\n', '\\n', '533.8\\n', '\\n', '533.75\\n', '\\n', '531.32\\n', '\\n', '537.31\\n', '\\n', '525.26\\n', '\\n', '526.98\\n', '\\n', '533.37\\n', '\\n', '526.06\\n', '\\n', '528.34\\n', '\\n', '518.66\\n', '\\n', '513.8\\n', '\\n', '495.39\\n', '\\n', '504.89\\n', '\\n', '511.1\\n', '\\n', '516.35\\n', '\\n', '524.87\\n', '\\n', '530.59\\n', '\\n', '528.77\\n', '\\n', '534.03\\n', '\\n', '530.33\\n', '\\n', '530.42\\n', '\\n', '526.4\\n', '\\n', '524.81\\n', '\\n', '513.87\\n', '\\n', '501.96\\n', '\\n', '501.1\\n', '\\n', '502.68\\n', '\\n', '496.17\\n', '\\n', '492.55\\n', '\\n', '496.18\\n', '\\n', '500.87\\n', '\\n', '501.79\\n', '\\n', '508.08\\n', '\\n', '506.9\\n', '\\n', '518.04\\n', '\\n', '534.39\\n', '\\n', '539.95\\n', '\\n', '535.21\\n', '\\n', '518.63\\n', '\\n', '510\\n', '\\n', '510.66\\n', '\\n', '534.52\\n', '\\n', '528.48\\n', '\\n', '529.24\\n', '\\n', '522.76\\n', '\\n', '527.58\\n', '\\n', '531\\n', '\\n', '527.83\\n', '\\n', '536.94\\n', '\\n', '535.97\\n', '\\n', '542.93\\n', '\\n', '549.01\\n', '\\n', '542.84\\n', '\\n', '539.7\\n', '\\n', '542.87\\n', '\\n', '538.95\\n', '\\n', '531.91\\n', '\\n', '536.09\\n', '\\n', '543.87\\n', '\\n', '555.48\\n', '\\n', '558.4\\n', '\\n', '571.34\\n', '\\n', '573.64\\n', '\\n', '573.37\\n', '\\n', '575.33\\n', '\\n', '567.68\\n', '\\n', '568.85\\n', '\\n', '555.01\\n', '\\n', '551.18\\n', '\\n', '555.51\\n', '\\n', '547.32\\n', '\\n', '554.51\\n', '\\n', '550.84\\n', '\\n', '559.5\\n', '\\n', '557.99\\n', '\\n', '560.36\\n', '\\n', '558.81\\n', '\\n', '570.19\\n', '\\n', '558.78\\n', '\\n', '555.17\\n', '\\n', '548.34\\n', '\\n', '552.03\\n', '\\n', '548\\n', '\\n', '542.56\\n', '\\n', '535.53\\n', '\\n', '536.76\\n', '\\n', '537.02\\n', '\\n', '541.61\\n', '\\n', '540.78\\n', '\\n', '540.01\\n', '\\n', '539.17\\n', '\\n', '530.39\\n', '\\n', '532.53\\n', '\\n', '533.8\\n', '\\n', '524.05\\n', '\\n', '535.38\\n', '\\n', '533.97\\n', '\\n', '539.36\\n', '\\n', '547\\n', '\\n', '565.06\\n', '\\n', '555.37\\n', '\\n', '553.68\\n', '\\n', '549.08\\n', '\\n', '537.34\\n', '\\n', '537.9\\n', '\\n', '540.78\\n', '\\n', '530.8\\n', '\\n', '524.22\\n', '\\n', '530.7\\n', '\\n', '538.22\\n', '\\n', '535.7\\n', '\\n', '529.04\\n', '\\n', '529.62\\n', '\\n', '538.4\\n', '\\n', '533.85\\n', '\\n', '532.3\\n', '\\n', '537.36\\n', '\\n', '539.27\\n', '\\n', '542.51\\n', '\\n', '540.11\\n', '\\n', '532.32\\n', '\\n', '539.79\\n', '\\n', '539.78\\n', '\\n', '532.11\\n', '\\n', '533.99\\n', '\\n', '539.18\\n', '\\n', '540.31\\n', '\\n', '536.7\\n', '\\n', '533.33\\n', '\\n', '526.83\\n', '\\n', '526.69\\n', '\\n', '536.69\\n', '\\n', '534.61\\n', '\\n', '532.33\\n', '\\n', '527.2\\n', '\\n', '528.15\\n', '\\n', '529.26\\n', '\\n', '536.73\\n', '\\n', '536.69\\n', '\\n', '538.19\\n', '\\n', '540.48\\n', '\\n', '537.84\\n', '\\n', '535.23\\n', '\\n', '531.69\\n', '\\n', '521.52\\n', '\\n', '520.51\\n', '\\n', '521.84\\n', '\\n', '523.4\\n', '\\n', '522.86\\n', '\\n', '525.02\\n', '\\n', '516.83\\n', '\\n', '520.68\\n', '\\n', '530.13\\n', '\\n', '546.55\\n', '\\n', '561.1\\n', '\\n', '560.22\\n', '\\n', '579.85\\n', '\\n', '672.93\\n', '\\n', '663.02\\n', '\\n', '662.3\\n', '\\n', '662.1\\n', '\\n', '644.28\\n', '\\n', '623.56\\n', '\\n', '627.26\\n', '\\n', '628\\n', '\\n', '631.93\\n', '\\n', '632.59\\n', '\\n', '625.61\\n', '\\n', '631.21\\n', '\\n', '629.25\\n', '\\n', '643.78\\n', '\\n', '642.68\\n', '\\n', '635.3\\n', '\\n', '633.73\\n', '\\n', '660.78\\n', '\\n', '659.56\\n', '\\n', '656.45\\n', '\\n', '657.12\\n', '\\n', '660.87\\n', '\\n', '656.13\\n', '\\n', '660.9\\n', '\\n', '646.83\\n', '\\n', '612.48\\n', '\\n', '589.61\\n', '\\n', '582.06\\n', '\\n', '628.62\\n', '\\n', '637.61\\n', '\\n', '630.38\\n', '\\n', '618.25\\n', '\\n', '597.79\\n', '\\n', '614.34\\n', '\\n', '606.25\\n', '\\n', '600.7\\n', '\\n', '614.66\\n', '\\n', '612.72\\n', '\\n', '621.35\\n', '\\n', '625.77\\n', '\\n', '623.24\\n', '\\n', '635.14\\n', '\\n', '635.98\\n', '\\n', '642.9\\n', '\\n', '629.25\\n', '\\n', '635.44\\n', '\\n', '622.69\\n', '\\n', '622.36\\n', '\\n', '625.8\\n', '\\n', '611.97\\n', '\\n', '594.89\\n', '\\n', '594.97\\n', '\\n', '608.42\\n', '\\n', '611.29\\n', '\\n', '626.91\\n', '\\n', '641.47\\n', '\\n', '645.44\\n', '\\n', '642.36\\n', '\\n', '639.16\\n', '\\n', '643.61\\n', '\\n', '646.67\\n', '\\n', '652.3\\n', '\\n', '651.16\\n', '\\n', '661.74\\n', '\\n', '662.2\\n', '\\n', '666.1\\n', '\\n', '650.28\\n', '\\n', '642.61\\n', '\\n', '651.79\\n', '\\n', '702\\n', '\\n', '712.78\\n', '\\n', '708.49\\n', '\\n', '712.95\\n', '\\n', '716.92\\n', '\\n', '710.81\\n', '\\n', '721.11\\n', '\\n', '722.16\\n', '\\n', '728.11\\n', '\\n', '731.25\\n', '\\n', '733.76\\n', '\\n', '724.89\\n', '\\n', '728.32\\n', '\\n', '735.4\\n', '\\n', '731.23\\n', '\\n', '717\\n', '\\n', '728.96\\n', '\\n', '725.3\\n', '\\n', '740\\n', '\\n', '738.41\\n', '\\n', '756.6\\n', '\\n', '755.98\\n', '\\n', '748.28\\n', '\\n', '748.15\\n', '\\n', '750.26\\n', '\\n', '742.6\\n', '\\n', '767.04\\n', '\\n', '762.38\\n', '\\n', '752.54\\n', '\\n', '766.81\\n', '\\n', '763.25\\n', '\\n', '762.37\\n', '\\n', '751.61\\n', '\\n', '749.46\\n', '\\n', '738.87\\n', '\\n', '747.77\\n', '\\n', '743.4\\n', '\\n', '758.09\\n', '\\n', '749.43\\n', '\\n', '739.31\\n', '\\n', '747.77\\n', '\\n', '750\\n', '\\n', '750.31\\n', '\\n', '748.4\\n', '\\n', '762.51\\n', '\\n', '776.6\\n', '\\n', '771\\n', '\\n', '758.88\\n', '\\n', '741.84\\n', '\\n', '742.58\\n', '\\n', '743.62\\n', '\\n', '726.39\\n', '\\n', '714.47\\n', '\\n', '716.03\\n', '\\n', '726.07\\n', '\\n', '700.56\\n', '\\n', '714.72\\n', '\\n', '694.45\\n', '\\n', '701.79\\n', '\\n', '698.45\\n', '\\n', '706.59\\n', '\\n', '725.25\\n', '\\n', '711.67\\n', '\\n', '713.04\\n', '\\n', '699.99\\n', '\\n', '730.96\\n', '\\n', '742.95\\n', '\\n', '752\\n', '\\n', '764.65\\n', '\\n', '726.95\\n', '\\n', '708.01\\n', '\\n', '683.57\\n', '\\n', '682.74\\n', '\\n', '678.11\\n', '\\n', '684.12\\n', '\\n', '683.11\\n', '\\n', '682.4\\n', '\\n', '691\\n', '\\n', '708.4\\n', '\\n', '697.35\\n', '\\n', '700.91\\n', '\\n', '706.46\\n', '\\n', '695.85\\n', '\\n', '699.56\\n', '\\n', '705.75\\n', '\\n', '705.07\\n', '\\n', '697.77\\n', '\\n', '718.81\\n', '\\n', '718.85\\n', '\\n', '712.42\\n', '\\n', '710.89\\n', '\\n', '695.16\\n', '\\n', '693.97\\n', '\\n', '705.24\\n', '\\n', '712.82\\n', '\\n', '726.82\\n', '\\n', '730.49\\n', '\\n', '728.33\\n', '\\n', '736.09\\n', '\\n', '737.78\\n', '\\n', '737.6\\n', '\\n', '742.09\\n', '\\n', '740.75\\n', '\\n', '738.06\\n', '\\n', '735.3\\n', '\\n', '733.53\\n', '\\n', '744.77\\n', '\\n', '750.53\\n', '\\n', '744.95\\n', '\\n', '749.91\\n', '\\n', '745.29\\n', '\\n', '737.8\\n', '\\n', '745.69\\n', '\\n', '740.28\\n', '\\n', '739.15\\n', '\\n', '736.1\\n', '\\n', '743.09\\n', '\\n', '751.72\\n', '\\n', '753.2\\n', '\\n', '759\\n', '\\n', '766.61\\n', '\\n', '753.93\\n', '\\n', '752.67\\n', '\\n', '759.14\\n', '\\n', '718.77\\n', '\\n', '723.15\\n', '\\n', '708.14\\n', '\\n', '705.84\\n', '\\n', '691.02\\n', '\\n', '693.01\\n', '\\n', '698.21\\n', '\\n', '692.36\\n', '\\n', '695.7\\n', '\\n', '701.43\\n', '\\n', '711.12\\n', '\\n', '712.9\\n', '\\n', '723.18\\n', '\\n', '715.29\\n', '\\n', '713.31\\n', '\\n', '710.83\\n', '\\n', '716.49\\n', '\\n', '706.23\\n', '\\n', '706.63\\n', '\\n', '700.32\\n', '\\n', '709.74\\n', '\\n', '704.24\\n', '\\n', '720.09\\n', '\\n', '725.27\\n', '\\n', '724.12\\n', '\\n', '732.66\\n', '\\n', '735.72\\n', '\\n', '734.15\\n', '\\n', '730.4\\n', '\\n', '722.34\\n', '\\n', '716.55\\n', '\\n', '716.65\\n', '\\n', '728.28\\n', '\\n', '728.58\\n', '\\n', '719.41\\n', '\\n', '718.36\\n', '\\n', '718.27\\n', '\\n', '718.92\\n', '\\n', '710.36\\n', '\\n', '691.72\\n', '\\n', '693.71\\n', '\\n', '695.94\\n', '\\n', '697.46\\n', '\\n', '701.87\\n', '\\n', '675.22\\n', '\\n', '668.26\\n', '\\n', '680.04\\n', '\\n', '684.11\\n', '\\n', '692.1\\n', '\\n', '699.21\\n', '\\n', '694.49\\n', '\\n', '697.77\\n', '\\n', '695.36\\n', '\\n', '705.63\\n', '\\n', '715.09\\n', '\\n', '720.64\\n', '\\n', '716.98\\n', '\\n', '720.95\\n', '\\n', '719.85\\n', '\\n', '733.78\\n', '\\n', '736.96\\n', '\\n', '741.19\\n', '\\n', '738.63\\n', '\\n', '742.74\\n', '\\n', '739.77\\n', '\\n', '738.42\\n', '\\n', '741.77\\n', '\\n', '745.91\\n', '\\n', '768.79\\n', '\\n', '772.88\\n', '\\n', '771.07\\n', '\\n', '773.18\\n', '\\n', '771.61\\n', '\\n', '782.22']\n",
            "['\\n', '50.12\\n', '\\n', '54.1\\n', '\\n', '54.65\\n', '\\n', '52.38\\n', '\\n', '52.95\\n', '\\n', '53.9\\n', '\\n', '53.02\\n', '\\n', '50.95\\n', '\\n', '51.13\\n', '\\n', '50.07\\n', '\\n', '50.7\\n', '\\n', '49.95\\n', '\\n', '50.74\\n', '\\n', '51.1\\n', '\\n', '51.1\\n', '\\n', '52.61\\n', '\\n', '53.7\\n', '\\n', '55.69\\n', '\\n', '55.94\\n', '\\n', '56.93\\n', '\\n', '58.69\\n', '\\n', '59.62\\n', '\\n', '58.86\\n', '\\n', '59.13\\n', '\\n', '60.35\\n', '\\n', '59.86\\n', '\\n', '59.07\\n', '\\n', '63.37\\n', '\\n', '65.47\\n', '\\n', '64.74\\n', '\\n', '66.22\\n', '\\n', '67.46\\n', '\\n', '69.12\\n', '\\n', '68.47\\n', '\\n', '69.36\\n', '\\n', '68.8\\n', '\\n', '67.56\\n', '\\n', '68.63\\n', '\\n', '70.38\\n', '\\n', '70.93\\n', '\\n', '71.98\\n', '\\n', '74.51\\n', '\\n', '73.9\\n', '\\n', '70.17\\n', '\\n', '74.62\\n', '\\n', '86.13\\n', '\\n', '93.61\\n', '\\n', '90.81\\n', '\\n', '92.89\\n', '\\n', '96.55\\n', '\\n', '95.22\\n', '\\n', '97.92\\n', '\\n', '97.34\\n', '\\n', '95.74\\n', '\\n', '92.26\\n', '\\n', '84.59\\n', '\\n', '86.19\\n', '\\n', '84.27\\n', '\\n', '83.85\\n', '\\n', '91.42\\n', '\\n', '90.91\\n', '\\n', '92.34\\n', '\\n', '86.19\\n', '\\n', '86.16\\n', '\\n', '83.69\\n', '\\n', '84.62\\n', '\\n', '82.47\\n', '\\n', '83.68\\n', '\\n', '87.29\\n', '\\n', '89.61\\n', '\\n', '90.43\\n', '\\n', '90.9\\n', '\\n', '89.89\\n', '\\n', '89.61\\n', '\\n', '90.11\\n', '\\n', '88.06\\n', '\\n', '85.63\\n', '\\n', '84.91\\n', '\\n', '86.63\\n', '\\n', '85.74\\n', '\\n', '85.14\\n', '\\n', '89.26\\n', '\\n', '89.8\\n', '\\n', '88.15\\n', '\\n', '89.95\\n', '\\n', '92.42\\n', '\\n', '91.78\\n', '\\n', '93.06\\n', '\\n', '93.86\\n', '\\n', '95.86\\n', '\\n', '96.28\\n', '\\n', '96.35\\n', '\\n', '98.7\\n', '\\n', '96.3\\n', '\\n', '101.25\\n', '\\n', '97.15\\n', '\\n', '96.66\\n', '\\n', '94.18\\n', '\\n', '96.83\\n', '\\n', '97.43\\n', '\\n', '96.67\\n', '\\n', '97.59\\n', '\\n', '97.57\\n', '\\n', '99.89\\n', '\\n', '101.85\\n', '\\n', '98.55\\n', '\\n', '96.86\\n', '\\n', '94.05\\n', '\\n', '90.27\\n', '\\n', '88.47\\n', '\\n', '94.53\\n', '\\n', '93.95\\n', '\\n', '95.07\\n', '\\n', '97.71\\n', '\\n', '95.85\\n', '\\n', '102.88\\n', '\\n', '105.32\\n', '\\n', '102.08\\n', '\\n', '97.92\\n', '\\n', '99.22\\n', '\\n', '95.69\\n', '\\n', '93.9\\n', '\\n', '93.61\\n', '\\n', '96.4\\n', '\\n', '97.52\\n', '\\n', '99.11\\n', '\\n', '98.85\\n', '\\n', '98.88\\n', '\\n', '95.59\\n', '\\n', '96.88\\n', '\\n', '94.35\\n', '\\n', '92.84\\n', '\\n', '93.9\\n', '\\n', '92.94\\n', '\\n', '92.5\\n', '\\n', '93.41\\n', '\\n', '92.86\\n', '\\n', '94.31\\n', '\\n', '92.51\\n', '\\n', '90.58\\n', '\\n', '89.9\\n', '\\n', '88.81\\n', '\\n', '87.41\\n', '\\n', '89.22\\n', '\\n', '87.71\\n', '\\n', '89.56\\n', '\\n', '89.93\\n', '\\n', '90.35\\n', '\\n', '89.21\\n', '\\n', '89.4\\n', '\\n', '89.54\\n', '\\n', '90.62\\n', '\\n', '89.7\\n', '\\n', '90.13\\n', '\\n', '90.16\\n', '\\n', '89.93\\n', '\\n', '92.55\\n', '\\n', '94.19\\n', '\\n', '94.52\\n', '\\n', '96.78\\n', '\\n', '95.93\\n', '\\n', '96.52\\n', '\\n', '96.88\\n', '\\n', '96.37\\n', '\\n', '95.63\\n', '\\n', '92.41\\n', '\\n', '93.39\\n', '\\n', '95.6\\n', '\\n', '98.95\\n', '\\n', '102.01\\n', '\\n', '107.8\\n', '\\n', '111.65\\n', '\\n', '109.27\\n', '\\n', '109.78\\n', '\\n', '109.62\\n', '\\n', '109.89\\n', '\\n', '111.03\\n', '\\n', '112.98\\n', '\\n', '114.14\\n', '\\n', '113.38\\n', '\\n', '113.9\\n', '\\n', '112.9\\n', '\\n', '113.79\\n', '\\n', '115.53\\n', '\\n', '114.25\\n', '\\n', '114.51\\n', '\\n', '115.41\\n', '\\n', '116.45\\n', '\\n', '119.46\\n', '\\n', '119.47\\n', '\\n', '120.68\\n', '\\n', '127.6\\n', '\\n', '127.87\\n', '\\n', '130.27\\n', '\\n', '129.47\\n', '\\n', '132.87\\n', '\\n', '138.5\\n', '\\n', '143.86\\n', '\\n', '143.81\\n', '\\n', '139.99\\n', '\\n', '145.32\\n', '\\n', '146.41\\n', '\\n', '139.64\\n', '\\n', '143.01\\n', '\\n', '141.11\\n', '\\n', '141.23\\n', '\\n', '139.04\\n', '\\n', '137.26\\n', '\\n', '138.58\\n', '\\n', '140\\n', '\\n', '143.21\\n', '\\n', '143.78\\n', '\\n', '144.51\\n', '\\n', '144.71\\n', '\\n', '148.48\\n', '\\n', '151.9\\n', '\\n', '150.85\\n', '\\n', '146.21\\n', '\\n', '146.93\\n', '\\n', '145.48\\n', '\\n', '147.71\\n', '\\n', '145.62\\n', '\\n', '147.62\\n', '\\n', '147.97\\n', '\\n', '146.53\\n', '\\n', '145.75\\n', '\\n', '149.28\\n', '\\n', '150.29\\n', '\\n', '150.44\\n', '\\n', '149.62\\n', '\\n', '154.8\\n', '\\n', '155.84\\n', '\\n', '156.81\\n', '\\n', '151.05\\n', '\\n', '147.78\\n', '\\n', '147.9\\n', '\\n', '148.32\\n', '\\n', '146.6\\n', '\\n', '143.74\\n', '\\n', '145.66\\n', '\\n', '149.45\\n', '\\n', '148.5\\n', '\\n', '148.72\\n', '\\n', '146.03\\n', '\\n', '145.48\\n', '\\n', '145.64\\n', '\\n', '142.7\\n', '\\n', '141.88\\n', '\\n', '144.72\\n', '\\n', '141.86\\n', '\\n', '142.68\\n', '\\n', '142.41\\n', '\\n', '139.86\\n', '\\n', '139.86\\n', '\\n', '136.87\\n', '\\n', '139.65\\n', '\\n', '141.14\\n', '\\n', '141.15\\n', '\\n', '141.65\\n', '\\n', '144.08\\n', '\\n', '143.49\\n', '\\n', '142.86\\n', '\\n', '142.98\\n', '\\n', '144.08\\n', '\\n', '143.41\\n', '\\n', '147.29\\n', '\\n', '147.55\\n', '\\n', '149.4\\n', '\\n', '154.72\\n', '\\n', '155.68\\n', '\\n', '151.35\\n', '\\n', '151.16\\n', '\\n', '149.95\\n', '\\n', '151.74\\n', '\\n', '153.8\\n', '\\n', '155.79\\n', '\\n', '155.53\\n', '\\n', '157.52\\n', '\\n', '156.98\\n', '\\n', '156.81\\n', '\\n', '152.85\\n', '\\n', '154.66\\n', '\\n', '158.07\\n', '\\n', '159.18\\n', '\\n', '155.34\\n', '\\n', '155.2\\n', '\\n', '156.22\\n', '\\n', '156.34\\n', '\\n', '155.17\\n', '\\n', '152.9\\n', '\\n', '150.33\\n', '\\n', '148.57\\n', '\\n', '147.92\\n', '\\n', '152.35\\n', '\\n', '151.49\\n', '\\n', '154.2\\n', '\\n', '151.45\\n', '\\n', '169.78\\n', '\\n', '174.15\\n', '\\n', '173.28\\n', '\\n', '177.54\\n', '\\n', '176.35\\n', '\\n', '178.91\\n', '\\n', '185.88\\n', '\\n', '189.5\\n', '\\n', '189.65\\n', '\\n', '192.78\\n', '\\n', '195.02\\n', '\\n', '197.32\\n', '\\n', '194.76\\n', '\\n', '189.39\\n', '\\n', '195.35\\n', '\\n', '195\\n', '\\n', '198.29\\n', '\\n', '196.2\\n', '\\n', '198.88\\n', '\\n', '201.52\\n', '\\n', '199.9\\n', '\\n', '204.48\\n', '\\n', '208.03\\n', '\\n', '211.22\\n', '\\n', '214.1\\n', '\\n', '211.53\\n', '\\n', '201.57\\n', '\\n', '202.25\\n', '\\n', '206.84\\n', '\\n', '208.64\\n', '\\n', '202.72\\n', '\\n', '202.07\\n', '\\n', '201.91\\n', '\\n', '205.12\\n', '\\n', '204.4\\n', '\\n', '206.1\\n', '\\n', '208.54\\n', '\\n', '209.27\\n', '\\n', '211.05\\n', '\\n', '214.86\\n', '\\n', '212.09\\n', '\\n', '214.66\\n', '\\n', '212.95\\n', '\\n', '215.8\\n', '\\n', '215.25\\n', '\\n', '212.11\\n', '\\n', '213.13\\n', '\\n', '209.86\\n', '\\n', '207.22\\n', '\\n', '217.4\\n', '\\n', '222.4\\n', '\\n', '225.39\\n', '\\n', '232.6\\n', '\\n', '233.22\\n', '\\n', '234.65\\n', '\\n', '235.58\\n', '\\n', '231.58\\n', '\\n', '232.89\\n', '\\n', '233.32\\n', '\\n', '222.23\\n', '\\n', '218\\n', '\\n', '199.53\\n', '\\n', '213.54\\n', '\\n', '221.29\\n', '\\n', '216.28\\n', '\\n', '216.92\\n', '\\n', '216.53\\n', '\\n', '213.2\\n', '\\n', '216.11\\n', '\\n', '200.69\\n', '\\n', '197.82\\n', '\\n', '190.59\\n', '\\n', '192.36\\n', '\\n', '183.78\\n', '\\n', '184.36\\n', '\\n', '179.21\\n', '\\n', '181.12\\n', '\\n', '172.68\\n', '\\n', '171.49\\n', '\\n', '171.02\\n', '\\n', '183.05\\n', '\\n', '184.19\\n', '\\n', '183.11\\n', '\\n', '182.56\\n', '\\n', '188.85\\n', '\\n', '188.51\\n', '\\n', '194.99\\n', '\\n', '181.13\\n', '\\n', '182.22\\n', '\\n', '188.04\\n', '\\n', '188.9\\n', '\\n', '183.87\\n', '\\n', '182.04\\n', '\\n', '176.76\\n', '\\n', '171.33\\n', '\\n', '168.58\\n', '\\n', '168.36\\n', '\\n', '175.4\\n', '\\n', '172.08\\n', '\\n', '169.22\\n', '\\n', '169.73\\n', '\\n', '173.92\\n', '\\n', '169.79\\n', '\\n', '169.94\\n', '\\n', '170.77\\n', '\\n', '182.72\\n', '\\n', '184.66\\n', '\\n', '188.41\\n', '\\n', '197.29\\n', '\\n', '194.03\\n', '\\n', '194.8\\n', '\\n', '194.66\\n', '\\n', '201.97\\n', '\\n', '203.79\\n', '\\n', '205.38\\n', '\\n', '202.88\\n', '\\n', '207.98\\n', '\\n', '204.63\\n', '\\n', '204.27\\n', '\\n', '200.88\\n', '\\n', '203.21\\n', '\\n', '201.92\\n', '\\n', '205.04\\n', '\\n', '207.29\\n', '\\n', '218.33\\n', '\\n', '220.03\\n', '\\n', '213.37\\n', '\\n', '212.77\\n', '\\n', '209.8\\n', '\\n', '208.76\\n', '\\n', '199.25\\n', '\\n', '197.2\\n', '\\n', '196.89\\n', '\\n', '197.18\\n', '\\n', '196.95\\n', '\\n', '197.19\\n', '\\n', '204.2\\n', '\\n', '201.29\\n', '\\n', '193.31\\n', '\\n', '186.88\\n', '\\n', '187.91\\n', '\\n', '185.46\\n', '\\n', '187.06\\n', '\\n', '185.31\\n', '\\n', '184.82\\n', '\\n', '185.29\\n', '\\n', '187.6\\n', '\\n', '190.43\\n', '\\n', '191.3\\n', '\\n', '190.48\\n', '\\n', '185.78\\n', '\\n', '185.72\\n', '\\n', '191.12\\n', '\\n', '189.53\\n', '\\n', '187.03\\n', '\\n', '194.8\\n', '\\n', '193.06\\n', '\\n', '196.45\\n', '\\n', '193.09\\n', '\\n', '190.58\\n', '\\n', '193.07\\n', '\\n', '192\\n', '\\n', '195.3\\n', '\\n', '195.15\\n', '\\n', '193.88\\n', '\\n', '193.39\\n', '\\n', '200.86\\n', '\\n', '199.78\\n', '\\n', '202.23\\n', '\\n', '201.91\\n', '\\n', '200.96\\n', '\\n', '202.85\\n', '\\n', '208.7\\n', '\\n', '209.46\\n', '\\n', '211.39\\n', '\\n', '210.52\\n', '\\n', '211.38\\n', '\\n', '210.01\\n', '\\n', '208.89\\n', '\\n', '212.07\\n', '\\n', '208.42\\n', '\\n', '204.21\\n', '\\n', '201.55\\n', '\\n', '203.74\\n', '\\n', '201.32\\n', '\\n', '199.3\\n', '\\n', '193.37\\n', '\\n', '194.86\\n', '\\n', '195.25\\n', '\\n', '194.49\\n', '\\n', '192.56\\n', '\\n', '191.01\\n', '\\n', '193.87\\n', '\\n', '193.11\\n', '\\n', '187.57\\n', '\\n', '183.43\\n', '\\n', '187.51\\n', '\\n', '186.74\\n', '\\n', '188.79\\n', '\\n', '190.31\\n', '\\n', '188.28\\n', '\\n', '186.91\\n', '\\n', '184.07\\n', '\\n', '184.53\\n', '\\n', '190.29\\n', '\\n', '193.67\\n', '\\n', '192.71\\n', '\\n', '191.49\\n', '\\n', '188.46\\n', '\\n', '188.96\\n', '\\n', '186.53\\n', '\\n', '186.68\\n', '\\n', '186.44\\n', '\\n', '190.28\\n', '\\n', '189.29\\n', '\\n', '190.18\\n', '\\n', '189.08\\n', '\\n', '189.11\\n', '\\n', '191.99\\n', '\\n', '189.88\\n', '\\n', '189.06\\n', '\\n', '188.74\\n', '\\n', '191.85\\n', '\\n', '195.75\\n', '\\n', '203.08\\n', '\\n', '201.79\\n', '\\n', '204.74\\n', '\\n', '207.14\\n', '\\n', '201.7\\n', '\\n', '198.3\\n', '\\n', '203.22\\n', '\\n', '201.69\\n', '\\n', '201.79\\n', '\\n', '203.23\\n', '\\n', '201.26\\n', '\\n', '201.59\\n', '\\n', '200.75\\n', '\\n', '200.52\\n', '\\n', '201.82\\n', '\\n', '207.64\\n', '\\n', '205.7\\n', '\\n', '210.04\\n', '\\n', '214.29\\n', '\\n', '213.11\\n', '\\n', '213.04\\n', '\\n', '213.51\\n', '\\n', '213.44\\n', '\\n', '210.66\\n', '\\n', '210.11\\n', '\\n', '209.44\\n', '\\n', '212.82\\n', '\\n', '229.61\\n', '\\n', '240.15\\n', '\\n', '236.42\\n', '\\n', '243.06\\n', '\\n', '242.31\\n', '\\n', '237.36\\n', '\\n', '238.05\\n', '\\n', '237.96\\n', '\\n', '233.52\\n', '\\n', '234.72\\n', '\\n', '235.66\\n', '\\n', '238.24\\n', '\\n', '236.05\\n', '\\n', '237.26\\n', '\\n', '236.08\\n', '\\n', '236.54\\n', '\\n', '240.27\\n', '\\n', '244.41\\n', '\\n', '245.72\\n', '\\n', '247.7\\n', '\\n', '249.15\\n', '\\n', '247.28\\n', '\\n', '254.57\\n', '\\n', '253.75\\n', '\\n', '252.2\\n', '\\n', '242.13\\n', '\\n', '244.51\\n', '\\n', '242.08\\n', '\\n', '242.16\\n', '\\n', '240.16\\n', '\\n', '242.18\\n', '\\n', '243.26\\n', '\\n', '244.11\\n', '\\n', '241.08\\n', '\\n', '241.81\\n', '\\n', '241.72\\n', '\\n', '240.65\\n', '\\n', '239.26\\n', '\\n', '240.82\\n', '\\n', '239.91\\n', '\\n', '231.17\\n', '\\n', '234.08\\n', '\\n', '231.22\\n', '\\n', '227.87\\n', '\\n', '227.56\\n', '\\n', '228.54\\n', '\\n', '233.78\\n', '\\n', '231.05\\n', '\\n', '230.01\\n', '\\n', '233.56\\n', '\\n', '241.39\\n', '\\n', '243.35\\n', '\\n', '241.55\\n', '\\n', '242.51\\n', '\\n', '244.49\\n', '\\n', '249.61\\n', '\\n', '252.25\\n', '\\n', '251.89\\n', '\\n', '248.39\\n', '\\n', '243.67\\n', '\\n', '244.63\\n', '\\n', '240.18\\n', '\\n', '239.29\\n', '\\n', '249.28\\n', '\\n', '243.8\\n', '\\n', '247.67\\n', '\\n', '245.99\\n', '\\n', '246.91\\n', '\\n', '250.5\\n', '\\n', '240.63\\n', '\\n', '240.51\\n', '\\n', '233.35\\n', '\\n', '235.5\\n', '\\n', '234.77\\n', '\\n', '235.28\\n', '\\n', '230.71\\n', '\\n', '228.92\\n', '\\n', '229.32\\n', '\\n', '232.73\\n', '\\n', '230.5\\n', '\\n', '234.74\\n', '\\n', '235.81\\n', '\\n', '237.69\\n', '\\n', '237.69\\n', '\\n', '235.07\\n', '\\n', '232.23\\n', '\\n', '224.16\\n', '\\n', '224.5\\n', '\\n', '223.89\\n', '\\n', '219.12\\n', '\\n', '220.25\\n', '\\n', '228.55\\n', '\\n', '227.59\\n', '\\n', '227.13\\n', '\\n', '226.25\\n', '\\n', '227.15\\n', '\\n', '221.29\\n', '\\n', '223.78\\n', '\\n', '222.87\\n', '\\n', '220.2\\n', '\\n', '223.39\\n', '\\n', '222.42\\n', '\\n', '228.05\\n', '\\n', '230.79\\n', '\\n', '230.68\\n', '\\n', '232.27\\n', '\\n', '231.58\\n', '\\n', '230.71\\n', '\\n', '230.23\\n', '\\n', '228.85\\n', '\\n', '229.04\\n', '\\n', '236.06\\n', '\\n', '235.27\\n', '\\n', '235.52\\n', '\\n', '233.87\\n', '\\n', '233.02\\n', '\\n', '232.03\\n', '\\n', '233.46\\n', '\\n', '232.91\\n', '\\n', '236.9\\n', '\\n', '236.16\\n', '\\n', '237.77\\n', '\\n', '235.59\\n', '\\n', '241\\n', '\\n', '239.3\\n', '\\n', '238.53\\n', '\\n', '238.76\\n', '\\n', '240.35\\n', '\\n', '239.27\\n', '\\n', '235.45\\n', '\\n', '234.27\\n', '\\n', '232.66\\n', '\\n', '236.38\\n', '\\n', '235.32\\n', '\\n', '233.4\\n', '\\n', '233.17\\n', '\\n', '234.39\\n', '\\n', '230.5\\n', '\\n', '233.14\\n', '\\n', '230.66\\n', '\\n', '228.77\\n', '\\n', '236.07\\n', '\\n', '235.24\\n', '\\n', '234.92\\n', '\\n', '235.06\\n', '\\n', '237.69\\n', '\\n', '236.75\\n', '\\n', '236.93\\n', '\\n', '241.52\\n', '\\n', '243.31\\n', '\\n', '249.05\\n', '\\n', '248.71\\n', '\\n', '249.95\\n', '\\n', '253.28\\n', '\\n', '259.16\\n', '\\n', '258.87\\n', '\\n', '257.27\\n', '\\n', '257.49\\n', '\\n', '255.41\\n', '\\n', '252.13\\n', '\\n', '252.37\\n', '\\n', '251.17\\n', '\\n', '252.69\\n', '\\n', '257.34\\n', '\\n', '256.9\\n', '\\n', '254.73\\n', '\\n', '256.8\\n', '\\n', '262.23\\n', '\\n', '263.45\\n', '\\n', '264.86\\n', '\\n', '262.88\\n', '\\n', '262.24\\n', '\\n', '261.09\\n', '\\n', '264.92\\n', '\\n', '266.9\\n', '\\n', '270.54\\n', '\\n', '269.43\\n', '\\n', '271.01\\n', '\\n', '271.4\\n', '\\n', '271.96\\n', '\\n', '272.39\\n', '\\n', '275.8\\n', '\\n', '276.22\\n', '\\n', '277.22\\n', '\\n', '274.48\\n', '\\n', '274.02\\n', '\\n', '259.8\\n', '\\n', '256\\n', '\\n', '256.74\\n', '\\n', '254.63\\n', '\\n', '253.75\\n', '\\n', '255.69\\n', '\\n', '257.8\\n', '\\n', '254.74\\n', '\\n', '256.21\\n', '\\n', '255.25\\n', '\\n', '251.25\\n', '\\n', '254.74\\n', '\\n', '257.75\\n', '\\n', '262.63\\n', '\\n', '257.11\\n', '\\n', '257.62\\n', '\\n', '257.49\\n', '\\n', '254.05\\n', '\\n', '248.53\\n', '\\n', '245.51\\n', '\\n', '249.77\\n', '\\n', '248.71\\n', '\\n', '253.05\\n', '\\n', '256.12\\n', '\\n', '255.84\\n', '\\n', '257.24\\n', '\\n', '256.37\\n', '\\n', '252.95\\n', '\\n', '256.18\\n', '\\n', '255.44\\n', '\\n', '257.37\\n', '\\n', '262.31\\n', '\\n', '263.64\\n', '\\n', '261.5\\n', '\\n', '259.42\\n', '\\n', '256.98\\n', '\\n', '260.4\\n', '\\n', '261.06\\n', '\\n', '262.13\\n', '\\n', '264.11\\n', '\\n', '262.39\\n', '\\n', '267.37\\n', '\\n', '273.15\\n', '\\n', '276.14\\n', '\\n', '279.77\\n', '\\n', '283.73\\n', '\\n', '284.22\\n', '\\n', '283.8\\n', '\\n', '283.47\\n', '\\n', '283.35\\n', '\\n', '290.98\\n', '\\n', '291.9\\n', '\\n', '291.72\\n', '\\n', '289.23\\n', '\\n', '296.73\\n', '\\n', '304.51\\n', '\\n', '307.28\\n', '\\n', '312.38\\n', '\\n', '310.69\\n', '\\n', '318.38\\n', '\\n', '309.74\\n', '\\n', '307.69\\n', '\\n', '316.42\\n', '\\n', '319.49\\n', '\\n', '322.03\\n', '\\n', '325.05\\n', '\\n', '337.55\\n', '\\n', '337.57\\n', '\\n', '333.92\\n', '\\n', '336.96\\n', '\\n', '339.28\\n', '\\n', '347.04\\n', '\\n', '353.15\\n', '\\n', '351.25\\n', '\\n', '355.27\\n', '\\n', '362.46\\n', '\\n', '370.52\\n', '\\n', '366.1\\n', '\\n', '346.57\\n', '\\n', '331.65\\n', '\\n', '315.72\\n', '\\n', '329.94\\n', '\\n', '320.52\\n', '\\n', '314.51\\n', '\\n', '316.5\\n', '\\n', '312.61\\n', '\\n', '323.95\\n', '\\n', '329.93\\n', '\\n', '338.01\\n', '\\n', '332.7\\n', '\\n', '336.45\\n', '\\n', '345.78\\n', '\\n', '348.15\\n', '\\n', '346.15\\n', '\\n', '340.42\\n', '\\n', '341.74\\n', '\\n', '348.91\\n', '\\n', '357.27\\n', '\\n', '357.08\\n', '\\n', '358.85\\n', '\\n', '349.25\\n', '\\n', '349.33\\n', '\\n', '346.68\\n', '\\n', '344.64\\n', '\\n', '334.28\\n', '\\n', '336.34\\n', '\\n', '338.35\\n', '\\n', '344.5\\n', '\\n', '348\\n', '\\n', '350.01\\n', '\\n', '355.06\\n', '\\n', '350.02\\n', '\\n', '350.91\\n', '\\n', '345.39\\n', '\\n', '342.25\\n', '\\n', '342.32\\n', '\\n', '328.17\\n', '\\n', '324.3\\n', '\\n', '315.52\\n', '\\n', '326.27\\n', '\\n', '323.04\\n', '\\n', '318.81\\n', '\\n', '326.58\\n', '\\n', '318.51\\n', '\\n', '307.67\\n', '\\n', '300.09\\n', '\\n', '299.82\\n', '\\n', '291.88\\n', '\\n', '274.04\\n', '\\n', '286.96\\n', '\\n', '282.92\\n', '\\n', '277.71\\n', '\\n', '274.98\\n', '\\n', '273.86\\n', '\\n', '281.87\\n', '\\n', '257.69\\n', '\\n', '247.47\\n', '\\n', '253.15\\n', '\\n', '250.6\\n', '\\n', '252.22\\n', '\\n', '258.09\\n', '\\n', '260.32\\n', '\\n', '258.79\\n', '\\n', '267.04\\n', '\\n', '265.86\\n', '\\n', '264.56\\n', '\\n', '254.22\\n', '\\n', '254.25\\n', '\\n', '251.18\\n', '\\n', '253.65\\n', '\\n', '242.98\\n', '\\n', '231.86\\n', '\\n', '236.19\\n', '\\n', '237.46\\n', '\\n', '235.35\\n', '\\n', '228.28\\n', '\\n', '222.08\\n', '\\n', '223.63\\n', '\\n', '216.13\\n', '\\n', '216.46\\n', '\\n', '206.6\\n', '\\n', '219.7\\n', '\\n', '219.87\\n', '\\n', '221.28\\n', '\\n', '218.74\\n', '\\n', '209.73\\n', '\\n', '219.36\\n', '\\n', '215.78\\n', '\\n', '216.56\\n', '\\n', '230.05\\n', '\\n', '225.16\\n', '\\n', '228.87\\n', '\\n', '221.82\\n', '\\n', '218.82\\n', '\\n', '220.01\\n', '\\n', '232.62\\n', '\\n', '232.62\\n', '\\n', '227.33\\n', '\\n', '235.31\\n', '\\n', '238.17\\n', '\\n', '233.67\\n', '\\n', '231.86\\n', '\\n', '234.3\\n', '\\n', '228.5\\n', '\\n', '225.6\\n', '\\n', '223.2\\n', '\\n', '227.29\\n', '\\n', '224.55\\n', '\\n', '269.44\\n', '\\n', '268.63\\n', '\\n', '277.22\\n', '\\n', '272.97\\n', '\\n', '271.25\\n', '\\n', '271.76\\n', '\\n', '275.78\\n', '\\n', '278.96\\n', '\\n', '286.86\\n', '\\n', '296.24\\n', '\\n', '290.35\\n', '\\n', '297.15\\n', '\\n', '292.89\\n', '\\n', '289.21\\n', '\\n', '291.21\\n', '\\n', '286.3\\n', '\\n', '292.18\\n', '\\n', '291.21\\n', '\\n', '287.86\\n', '\\n', '290.21\\n', '\\n', '289.74\\n', '\\n', '288.47\\n', '\\n', '289.01\\n', '\\n', '274.72\\n', '\\n', '274.46\\n', '\\n', '272.04\\n', '\\n', '280.17\\n', '\\n', '283.84\\n', '\\n', '291.21\\n', '\\n', '292.61\\n', '\\n', '287.21\\n', '\\n', '283.37\\n', '\\n', '285.82\\n', '\\n', '292.86\\n', '\\n', '283.22\\n', '\\n', '278.66\\n', '\\n', '276.81\\n', '\\n', '272.33\\n', '\\n', '276.2\\n', '\\n', '285.47\\n', '\\n', '286.12\\n', '\\n', '284.45\\n', '\\n', '280.91\\n', '\\n', '279.82\\n', '\\n', '272.94\\n', '\\n', '272.33\\n', '\\n', '270.88\\n', '\\n', '275.22\\n', '\\n', '264.15\\n', '\\n', '263.77\\n', '\\n', '262.95\\n', '\\n', '267.1\\n', '\\n', '263.26\\n', '\\n', '268.23\\n', '\\n', '271.68\\n', '\\n', '276.99\\n', '\\n', '270.5\\n', '\\n', '270.02\\n', '\\n', '266.63\\n', '\\n', '260.55\\n', '\\n', '257.79\\n', '\\n', '267.53\\n', '\\n', '266.45\\n', '\\n', '240.42\\n', '\\n', '234.17\\n', '\\n', '238.32\\n', '\\n', '244.37\\n', '\\n', '237.57\\n', '\\n', '245.74\\n', '\\n', '238.32\\n', '\\n', '241.31\\n', '\\n', '241.11\\n', '\\n', '236.64\\n', '\\n', '233.7\\n', '\\n', '231.27\\n', '\\n', '239.69\\n', '\\n', '242.93\\n', '\\n', '239.32\\n', '\\n', '247.26\\n', '\\n', '250.17\\n', '\\n', '251.05\\n', '\\n', '249.76\\n', '\\n', '252.49\\n', '\\n', '254.82\\n', '\\n', '248.9\\n', '\\n', '245\\n', '\\n', '242.26\\n', '\\n', '243.02\\n', '\\n', '245.05\\n', '\\n', '241.26\\n', '\\n', '236.84\\n', '\\n', '234.06\\n', '\\n', '236.65\\n', '\\n', '231.41\\n', '\\n', '232.39\\n', '\\n', '231.97\\n', '\\n', '224.9\\n', '\\n', '221.9\\n', '\\n', '209.76\\n', '\\n', '209.12\\n', '\\n', '206.87\\n', '\\n', '216.66\\n', '\\n', '218.61\\n', '\\n', '216.71\\n', '\\n', '221.24\\n', '\\n', '207.04\\n', '\\n', '219.32\\n', '\\n', '224.35\\n', '\\n', '214.85\\n', '\\n', '214.42\\n', '\\n', '217.34\\n', '\\n', '219.58\\n', '\\n', '215.3\\n', '\\n', '190.31\\n', '\\n', '200.06\\n', '\\n', '205.65\\n', '\\n', '195.05\\n', '\\n', '193.26\\n', '\\n', '185.42\\n', '\\n', '172.83\\n', '\\n', '168.89\\n', '\\n', '164.33\\n', '\\n', '165.83\\n', '\\n', '190.32\\n', '\\n', '181.17\\n', '\\n', '169.42\\n', '\\n', '176.33\\n', '\\n', '186.08\\n', '\\n', '189.47\\n', '\\n', '181.19\\n', '\\n', '177.66\\n', '\\n', '175.98\\n', '\\n', '169.48\\n', '\\n', '164.58\\n', '\\n', '184.19\\n', '\\n', '178.82\\n', '\\n', '179.67\\n', '\\n', '179.5\\n', '\\n', '173.07\\n', '\\n', '183.29\\n', '\\n', '170.95\\n', '\\n', '165.44\\n', '\\n', '165.4\\n', '\\n', '159.23\\n', '\\n', '155.57\\n', '\\n', '145.35\\n', '\\n', '155.88\\n', '\\n', '154.85\\n', '\\n', '149.91\\n', '\\n', '148.56\\n', '\\n', '139.95\\n', '\\n', '129.65\\n', '\\n', '131.08\\n', '\\n', '128.59\\n', '\\n', '140.88\\n', '\\n', '145.9\\n', '\\n', '146.33\\n', '\\n', '132.86\\n', '\\n', '137.42\\n', '\\n', '139.58\\n', '\\n', '137.03\\n', '\\n', '141.85\\n', '\\n', '150.9\\n', '\\n', '152.83\\n', '\\n', '154.26\\n', '\\n', '149.96\\n', '\\n', '157.72\\n', '\\n', '155.18\\n', '\\n', '162.48\\n', '\\n', '157.46\\n', '\\n', '154.98\\n', '\\n', '154.93\\n', '\\n', '148.41\\n', '\\n', '148.86\\n', '\\n', '151.32\\n', '\\n', '150.03\\n', '\\n', '148.56\\n', '\\n', '151.4\\n', '\\n', '153.67\\n', '\\n', '160.5\\n', '\\n', '163.86\\n', '\\n', '166.86\\n', '\\n', '160.84\\n', '\\n', '162.43\\n', '\\n', '157.38\\n', '\\n', '156.19\\n', '\\n', '157\\n', '\\n', '150.33\\n', '\\n', '149.35\\n', '\\n', '149.69\\n', '\\n', '141.23\\n', '\\n', '151.39\\n', '\\n', '153.1\\n', '\\n', '162.19\\n', '\\n', '161.77\\n', '\\n', '165.57\\n', '\\n', '174.16\\n', '\\n', '171.49\\n', '\\n', '169.1\\n', '\\n', '170.11\\n', '\\n', '170.05\\n', '\\n', '171.33\\n', '\\n', '176.68\\n', '\\n', '185.45\\n', '\\n', '189.2\\n', '\\n', '179.08\\n', '\\n', '178.84\\n', '\\n', '181.34\\n', '\\n', '178.66\\n', '\\n', '171.16\\n', '\\n', '176.38\\n', '\\n', '171.15\\n', '\\n', '173.05\\n', '\\n', '164.86\\n', '\\n', '172.55\\n', '\\n', '170.65\\n', '\\n', '168.42\\n', '\\n', '168.83\\n', '\\n', '163.42\\n', '\\n', '162.58\\n', '\\n', '159.3\\n', '\\n', '152.67\\n', '\\n', '154.13\\n', '\\n', '145.3\\n', '\\n', '153.93\\n', '\\n', '158.8\\n', '\\n', '161.6\\n', '\\n', '162.05\\n', '\\n', '159.69\\n', '\\n', '167.5\\n', '\\n', '166.38\\n', '\\n', '164.81\\n', '\\n', '164.91\\n', '\\n', '174.13\\n', '\\n', '173.41\\n', '\\n', '171.86\\n', '\\n', '176.47\\n', '\\n', '173.68\\n', '\\n', '171.17\\n', '\\n', '173.86\\n', '\\n', '176.87\\n', '\\n', '181.07\\n', '\\n', '184.71\\n', '\\n', '183.94\\n', '\\n', '179.15\\n', '\\n', '180.82\\n', '\\n', '186.06\\n', '\\n', '188.87\\n', '\\n', '184.27\\n', '\\n', '189.56\\n', '\\n', '194.18\\n', '\\n', '195.92\\n', '\\n', '189.46\\n', '\\n', '190.54\\n', '\\n', '191.74\\n', '\\n', '192.15\\n', '\\n', '194.55\\n', '\\n', '192.78\\n', '\\n', '191.66\\n', '\\n', '195.54\\n', '\\n', '197.79\\n', '\\n', '196.65\\n', '\\n', '200.79\\n', '\\n', '201.29\\n', '\\n', '201.53\\n', '\\n', '198.11\\n', '\\n', '203.46\\n', '\\n', '203.79\\n', '\\n', '199.31\\n', '\\n', '194.58\\n', '\\n', '193.56\\n', '\\n', '194.8\\n', '\\n', '198.22\\n', '\\n', '199.24\\n', '\\n', '198.39\\n', '\\n', '198.05\\n', '\\n', '196.55\\n', '\\n', '201.98\\n', '\\n', '202.58\\n', '\\n', '204.99\\n', '\\n', '208.41\\n', '\\n', '213.07\\n', '\\n', '213.99\\n', '\\n', '215.61\\n', '\\n', '219.92\\n', '\\n', '221.94\\n', '\\n', '219.17\\n', '\\n', '217.59\\n', '\\n', '216.08\\n', '\\n', '214.29\\n', '\\n', '212.21\\n', '\\n', '208.18\\n', '\\n', '207.79\\n', '\\n', '207.37\\n', '\\n', '206.82\\n', '\\n', '209.83\\n', '\\n', '203.47\\n', '\\n', '202.64\\n', '\\n', '204.44\\n', '\\n', '207.68\\n', '\\n', '212.45\\n', '\\n', '211.86\\n', '\\n', '210.58\\n', '\\n', '209.29\\n', '\\n', '204.04\\n', '\\n', '204.6\\n', '\\n', '198.12\\n', '\\n', '201.04\\n', '\\n', '204.99\\n', '\\n', '206.99\\n', '\\n', '211.94\\n', '\\n', '212.13\\n', '\\n', '218.87\\n', '\\n', '221.08\\n', '\\n', '214.91\\n', '\\n', '214.87\\n', '\\n', '213.74\\n', '\\n', '213.63\\n', '\\n', '218.45\\n', '\\n', '223.14\\n', '\\n', '222.18\\n', '\\n', '219.71\\n', '\\n', '217.9\\n', '\\n', '222.6\\n', '\\n', '221.3\\n', '\\n', '225.88\\n', '\\n', '226.64\\n', '\\n', '225.34\\n', '\\n', '224.95\\n', '\\n', '228.32\\n', '\\n', '228.08\\n', '\\n', '226.74\\n', '\\n', '229.06\\n', '\\n', '230.91\\n', '\\n', '229.77\\n', '\\n', '222.22\\n', '\\n', '222.42\\n', '\\n', '221.76\\n', '\\n', '229.97\\n', '\\n', '232.39\\n', '\\n', '234.13\\n', '\\n', '235.45\\n', '\\n', '233.77\\n', '\\n', '232.8\\n', '\\n', '232.14\\n', '\\n', '230.6\\n', '\\n', '227.65\\n', '\\n', '226.28\\n', '\\n', '228.53\\n', '\\n', '230.42\\n', '\\n', '229.08\\n', '\\n', '231.75\\n', '\\n', '235.23\\n', '\\n', '235.83\\n', '\\n', '237.32\\n', '\\n', '238.53\\n', '\\n', '243.9\\n', '\\n', '245.61\\n', '\\n', '245.48\\n', '\\n', '248.25\\n', '\\n', '249.28\\n', '\\n', '248.98\\n', '\\n', '248.14\\n', '\\n', '245.99\\n', '\\n', '249.02\\n', '\\n', '249.02\\n', '\\n', '247.68\\n', '\\n', '243.36\\n', '\\n', '242.05\\n', '\\n', '244.02\\n', '\\n', '249.12\\n', '\\n', '258.51\\n', '\\n', '256.83\\n', '\\n', '257.87\\n', '\\n', '261.76\\n', '\\n', '262.79\\n', '\\n', '267.39\\n', '\\n', '264.69\\n', '\\n', '274.65\\n', '\\n', '275.77\\n', '\\n', '275.58\\n', '\\n', '275.27\\n', '\\n', '276.77\\n', '\\n', '276.57\\n', '\\n', '276.83\\n', '\\n', '273.87\\n', '\\n', '269.88\\n', '\\n', '275.25\\n', '\\n', '267.79\\n', '\\n', '266.73\\n', '\\n', '268.38\\n', '\\n', '269.89\\n', '\\n', '274.05\\n', '\\n', '275.27\\n', '\\n', '280.97\\n', '\\n', '283.1\\n', '\\n', '284.99\\n', '\\n', '283.64\\n', '\\n', '285.74\\n', '\\n', '287.85\\n', '\\n', '288.46\\n', '\\n', '288.04\\n', '\\n', '286.21\\n', '\\n', '284.7\\n', '\\n', '290.88\\n', '\\n', '291.25\\n', '\\n', '292.58\\n', '\\n', '289.59\\n', '\\n', '291.21\\n', '\\n', '294.64\\n', '\\n', '293.46\\n', '\\n', '292.58\\n', '\\n', '292.21\\n', '\\n', '292.83\\n', '\\n', '293.23\\n', '\\n', '294.22\\n', '\\n', '295.45\\n', '\\n', '294.96\\n', '\\n', '297.57\\n', '\\n', '296.27\\n', '\\n', '298.58\\n', '\\n', '296.67\\n', '\\n', '297.91\\n', '\\n', '299.04\\n', '\\n', '300.26\\n', '\\n', '305.53\\n', '\\n', '308.93\\n', '\\n', '311.12\\n', '\\n', '309.39\\n', '\\n', '311.05\\n', '\\n', '309.68\\n', '\\n', '313.06\\n', '\\n', '311.68\\n', '\\n', '303.83\\n', '\\n', '296.75\\n', '\\n', '300.71\\n', '\\n', '300.25\\n', '\\n', '294.94\\n', '\\n', '293.25\\n', '\\n', '294.63\\n', '\\n', '289.71\\n', '\\n', '293.52\\n', '\\n', '289.91\\n', '\\n', '291.2\\n', '\\n', '274.73\\n', '\\n', '269.73\\n', '\\n', '270.94\\n', '\\n', '270.78\\n', '\\n', '266.88\\n', '\\n', '264.71\\n', '\\n', '266.24\\n', '\\n', '265.29\\n', '\\n', '270.14\\n', '\\n', '263.13\\n', '\\n', '265.38\\n', '\\n', '266.47\\n', '\\n', '267.95\\n', '\\n', '266.96\\n', '\\n', '267.93\\n', '\\n', '266.29\\n', '\\n', '270.38\\n', '\\n', '268.83\\n', '\\n', '271.34\\n', '\\n', '270.11\\n', '\\n', '271.13\\n', '\\n', '267.27\\n', '\\n', '265.47\\n', '\\n', '262.95\\n', '\\n', '263.14\\n', '\\n', '266.08\\n', '\\n', '270.26\\n', '\\n', '272.39\\n', '\\n', '277.02\\n', '\\n', '281.82\\n', '\\n', '280.96\\n', '\\n', '279.81\\n', '\\n', '287.94\\n', '\\n', '290.28\\n', '\\n', '289.48\\n', '\\n', '281.31\\n', '\\n', '282.32\\n', '\\n', '282.5\\n', '\\n', '282.92\\n', '\\n', '279.72\\n', '\\n', '278.47\\n', '\\n', '274.23\\n', '\\n', '278.39\\n', '\\n', '281.16\\n', '\\n', '281.06\\n', '\\n', '280.94\\n', '\\n', '283.07\\n', '\\n', '283.28\\n', '\\n', '285.22\\n', '\\n', '283.83\\n', '\\n', '281.49\\n', '\\n', '283.46\\n', '\\n', '282.83\\n', '\\n', '286.08\\n', '\\n', '293.09\\n', '\\n', '294.21\\n', '\\n', '297.35\\n', '\\n', '274.8\\n', '\\n', '274.77\\n', '\\n', '277.24\\n', '\\n', '276.87\\n', '\\n', '273.26\\n', '\\n', '272.22\\n', '\\n', '265.55\\n', '\\n', '264.26\\n', '\\n', '264.33\\n', '\\n', '265.73\\n', '\\n', '262.58\\n', '\\n', '265.03\\n', '\\n', '252.93\\n', '\\n', '254.63\\n', '\\n', '249.09\\n', '\\n', '246.32\\n', '\\n', '260.56\\n', '\\n', '254.27\\n', '\\n', '252.44\\n', '\\n', '255.18\\n', '\\n', '253.51\\n', '\\n', '253.73\\n', '\\n', '248.94\\n', '\\n', '246.97\\n', '\\n', '237.27\\n', '\\n', '235.79\\n', '\\n', '238.34\\n', '\\n', '238.3\\n', '\\n', '237.5\\n', '\\n', '244.98\\n', '\\n', '242.57\\n', '\\n', '240.94\\n', '\\n', '246.44\\n', '\\n', '252.55\\n', '\\n', '249.11\\n', '\\n', '242.52\\n', '\\n', '242.15\\n', '\\n', '236.77\\n', '\\n', '243.26\\n', '\\n', '244.01\\n', '\\n', '241.35\\n', '\\n', '248.75\\n', '\\n', '250.38\\n', '\\n', '249.79\\n', '\\n', '249.76\\n', '\\n', '244.04\\n', '\\n', '242.88\\n', '\\n', '240.78\\n', '\\n', '237.31\\n', '\\n', '236.1\\n', '\\n', '235.8\\n', '\\n', '226.9\\n', '\\n', '222.25\\n', '\\n', '219.53\\n', '\\n', '218.06\\n', '\\n', '217.82\\n', '\\n', '224.87\\n', '\\n', '228.05\\n', '\\n', '233.51\\n', '\\n', '237.68\\n', '\\n', '244.36\\n', '\\n', '245.42\\n', '\\n', '246.76\\n', '\\n', '229.57\\n', '\\n', '232.86\\n', '\\n', '240.55\\n', '\\n', '238.51\\n', '\\n', '242.16\\n', '\\n', '244.78\\n', '\\n', '244.24\\n', '\\n', '246.07\\n', '\\n', '241.93\\n', '\\n', '242.25\\n', '\\n', '242.18\\n', '\\n', '244.96\\n', '\\n', '244.67\\n', '\\n', '252.91\\n', '\\n', '253.8\\n', '\\n', '249.86\\n', '\\n', '252.42\\n', '\\n', '251.6\\n', '\\n', '245.62\\n', '\\n', '245.76\\n', '\\n', '242.93\\n', '\\n', '242.55\\n', '\\n', '245.01\\n', '\\n', '240.83\\n', '\\n', '233.75\\n', '\\n', '230.78\\n', '\\n', '231.8\\n', '\\n', '225.47\\n', '\\n', '227.08\\n', '\\n', '225.26\\n', '\\n', '229.19\\n', '\\n', '226.12\\n', '\\n', '224.78\\n', '\\n', '229.94\\n', '\\n', '231.36\\n', '\\n', '234.91\\n', '\\n', '231.97\\n', '\\n', '235.05\\n', '\\n', '237.85\\n', '\\n', '237.83\\n', '\\n', '240.89\\n', '\\n', '239.97\\n', '\\n', '240.08\\n', '\\n', '240.29\\n', '\\n', '244.83\\n', '\\n', '253.89\\n', '\\n', '256.47\\n', '\\n', '257.74\\n', '\\n', '256.48\\n', '\\n', '263.38\\n', '\\n', '264.94\\n', '\\n', '263.32\\n', '\\n', '263.58\\n', '\\n', '262.63\\n', '\\n', '262.55\\n', '\\n', '260.91\\n', '\\n', '268.85\\n', '\\n', '266.91\\n', '\\n', '264.74\\n', '\\n', '267.91\\n', '\\n', '269.15\\n', '\\n', '270.42\\n', '\\n', '271.38\\n', '\\n', '270.19\\n', '\\n', '300.42\\n', '\\n', '308.55\\n', '\\n', '303.61\\n', '\\n', '303.69\\n', '\\n', '305.69\\n', '\\n', '305.96\\n', '\\n', '307.94\\n', '\\n', '308.99\\n', '\\n', '307.93\\n', '\\n', '308.98\\n', '\\n', '306.54\\n', '\\n', '307.19\\n', '\\n', '307.49\\n', '\\n', '309.78\\n', '\\n', '311.82\\n', '\\n', '312.23\\n', '\\n', '313.07\\n', '\\n', '312.1\\n', '\\n', '311.13\\n', '\\n', '308.29\\n', '\\n', '301.34\\n', '\\n', '297.44\\n', '\\n', '291.57\\n', '\\n', '291.48\\n', '\\n', '297.98\\n', '\\n', '295.12\\n', '\\n', '295.31\\n', '\\n', '291.21\\n', '\\n', '297.19\\n', '\\n', '294.7\\n', '\\n', '290.76\\n', '\\n', '277.58\\n', '\\n', '281.89\\n', '\\n', '285.62\\n', '\\n', '286.21\\n', '\\n', '288.89\\n', '\\n', '293.28\\n', '\\n', '294.97\\n', '\\n', '295.45\\n', '\\n', '295.81\\n', '\\n', '297.01\\n', '\\n', '297.16\\n', '\\n', '294.85\\n', '\\n', '295.56\\n', '\\n', '295.1\\n', '\\n', '297.23\\n', '\\n', '301.23\\n', '\\n', '302.44\\n', '\\n', '301.81\\n', '\\n', '300.89\\n', '\\n', '299.16\\n', '\\n', '300.2\\n', '\\n', '299.13\\n', '\\n', '296.69\\n', '\\n', '301.87\\n', '\\n', '300.76\\n', '\\n', '304.23\\n', '\\n', '306.44\\n', '\\n', '307.91\\n', '\\n', '306.8\\n', '\\n', '307.7\\n', '\\n', '308.13\\n', '\\n', '308.04\\n', '\\n', '311.78\\n', '\\n', '319.5\\n', '\\n', '315.56\\n', '\\n', '313.07\\n', '\\n', '305.61\\n', '\\n', '305.23\\n', '\\n', '309.65\\n', '\\n', '307.94\\n', '\\n', '308.09\\n', '\\n', '300.19\\n', '\\n', '299.88\\n', '\\n', '305.21\\n', '\\n', '305.69\\n', '\\n', '304.77\\n', '\\n', '305.18\\n', '\\n', '306.84\\n', '\\n', '308.88\\n', '\\n', '307.94\\n', '\\n', '307.91\\n', '\\n', '311.94\\n', '\\n', '313.76\\n', '\\n', '311.76\\n', '\\n', '311.8\\n', '\\n', '312.32\\n', '\\n', '314.72\\n', '\\n', '304.8\\n', '\\n', '305.35\\n', '\\n', '304.11\\n', '\\n', '304.71\\n', '\\n', '306.39\\n', '\\n', '300.08\\n', '\\n', '300.09\\n', '\\n', '304.48\\n', '\\n', '300.01\\n', '\\n', '295.53\\n', '\\n', '295.86\\n', '\\n', '295.59\\n', '\\n', '289.86\\n', '\\n', '288.07\\n', '\\n', '284.71\\n', '\\n', '284.5\\n', '\\n', '278.27\\n', '\\n', '280.4\\n', '\\n', '280.25\\n', '\\n', '287.96\\n', '\\n', '288.37\\n', '\\n', '290.79\\n', '\\n', '293.15\\n', '\\n', '289.58\\n', '\\n', '287.39\\n', '\\n', '290.57\\n', '\\n', '290.63\\n', '\\n', '293.09\\n', '\\n', '295.6\\n', '\\n', '293.55\\n', '\\n', '284.26\\n', '\\n', '286.8\\n', '\\n', '289.71\\n', '\\n', '288.79\\n', '\\n', '288.4\\n', '\\n', '285.02\\n', '\\n', '287.85\\n', '\\n', '288.97\\n', '\\n', '265.08\\n', '\\n', '263.16\\n', '\\n', '260.5\\n', '\\n', '262.6\\n', '\\n', '262.29\\n', '\\n', '262.26\\n', '\\n', '266.14\\n', '\\n', '268.61\\n', '\\n', '268.72\\n', '\\n', '271.78\\n', '\\n', '269.01\\n', '\\n', '266.68\\n', '\\n', '267.63\\n', '\\n', '266.87\\n', '\\n', '267.38\\n', '\\n', '268.57\\n', '\\n', '271.06\\n', '\\n', '267.46\\n', '\\n', '267.26\\n', '\\n', '264.51\\n', '\\n', '258.95\\n', '\\n', '264.96\\n', '\\n', '264.64\\n', '\\n', '265.36\\n', '\\n', '261.75\\n', '\\n', '258.94\\n', '\\n', '258.87\\n', '\\n', '259.58\\n', '\\n', '258.81\\n', '\\n', '260.19\\n', '\\n', '264.25\\n', '\\n', '262.54\\n', '\\n', '263.77\\n', '\\n', '261.28\\n', '\\n', '260.27\\n', '\\n', '259.26\\n', '\\n', '259.33\\n', '\\n', '258.11\\n', '\\n', '254.5\\n', '\\n', '252.11\\n', '\\n', '253.93\\n', '\\n', '251.22\\n', '\\n', '249.93\\n', '\\n', '242.27\\n', '\\n', '242.05\\n', '\\n', '246.25\\n', '\\n', '243.26\\n', '\\n', '239.87\\n', '\\n', '237.2\\n', '\\n', '241.2\\n', '\\n', '246.58\\n', '\\n', '248.54\\n', '\\n', '252.94\\n', '\\n', '260.25\\n', '\\n', '265.95\\n', '\\n', '267.41\\n', '\\n', '273.03\\n', '\\n', '265.73\\n', '\\n', '263.38\\n', '\\n', '266.74\\n', '\\n', '268.86\\n', '\\n', '264.21\\n', '\\n', '298.51\\n', '\\n', '297.17\\n', '\\n', '300.97\\n', '\\n', '297.38\\n', '\\n', '303.19\\n', '\\n', '308.81\\n', '\\n', '309.18\\n', '\\n', '310.95\\n', '\\n', '303.31\\n', '\\n', '305.16\\n', '\\n', '301.54\\n', '\\n', '303.08\\n', '\\n', '296.77\\n', '\\n', '300.28\\n', '\\n', '288.47\\n', '\\n', '289.23\\n', '\\n', '272.74\\n', '\\n', '286.42\\n', '\\n', '274.23\\n', '\\n', '280.78\\n', '\\n', '281.6\\n', '\\n', '278.34\\n', '\\n', '269.23\\n', '\\n', '266.31\\n', '\\n', '252.19\\n', '\\n', '245.21\\n', '\\n', '248.84\\n', '\\n', '259.15\\n', '\\n', '261.38\\n', '\\n', '259.76\\n', '\\n', '263.17\\n', '\\n', '269.27\\n', '\\n', '270.08\\n', '\\n', '270.21\\n', '\\n', '265.98\\n', '\\n', '262.16\\n', '\\n', '260.83\\n', '\\n', '266.75\\n', '\\n', '267.21\\n', '\\n', '262.16\\n', '\\n', '264.79\\n', '\\n', '264.5\\n', '\\n', '265.77\\n', '\\n', '271.01\\n', '\\n', '273.07\\n', '\\n', '273.06\\n', '\\n', '273.04\\n', '\\n', '269.33\\n', '\\n', '260.07\\n', '\\n', '262.49\\n', '\\n', '265.68\\n', '\\n', '269.4\\n', '\\n', '264.16\\n', '\\n', '263.49\\n', '\\n', '257.26\\n', '\\n', '247.51\\n', '\\n', '250.7\\n', '\\n', '252.1\\n', '\\n', '257.1\\n', '\\n', '257.3\\n', '\\n', '268.32\\n', '\\n', '271.32\\n', '\\n', '273.98\\n', '\\n', '279.22\\n', '\\n', '295.54\\n', '\\n', '290.91\\n', '\\n', '294.96\\n', '\\n', '290.06\\n', '\\n', '291.54\\n', '\\n', '294.95\\n', '\\n', '297.91\\n', '\\n', '291.29\\n', '\\n', '292.86\\n', '\\n', '299.04\\n', '\\n', '299.77\\n', '\\n', '296.02\\n', '\\n', '289.04\\n', '\\n', '292.12\\n', '\\n', '298.45\\n', '\\n', '297.77\\n', '\\n', '303.86\\n', '\\n', '305.86\\n', '\\n', '300.17\\n', '\\n', '297.24\\n', '\\n', '303.87\\n', '\\n', '306.19\\n', '\\n', '307.97\\n', '\\n', '305.43\\n', '\\n', '300.13\\n', '\\n', '297.14\\n', '\\n', '290.18\\n', '\\n', '289.71\\n', '\\n', '284.77\\n', '\\n', '281.22\\n', '\\n', '293.8\\n', '\\n', '291.17\\n', '\\n', '299.4\\n', '\\n', '306.58\\n', '\\n', '309.87\\n', '\\n', '312.51\\n', '\\n', '311.57\\n', '\\n', '311.38\\n', '\\n', '307.72\\n', '\\n', '313.4\\n', '\\n', '312.38\\n', '\\n', '312.5\\n', '\\n', '308.73\\n', '\\n', '309.46\\n', '\\n', '312.67\\n', '\\n', '310.6\\n', '\\n', '314.87\\n', '\\n', '312.6\\n', '\\n', '314.54\\n', '\\n', '316.25\\n', '\\n', '319.8\\n', '\\n', '319.53\\n', '\\n', '320.88\\n', '\\n', '322.63\\n', '\\n', '332.37\\n', '\\n', '333.81\\n', '\\n', '329.18\\n', '\\n', '324.68\\n', '\\n', '310.92\\n', '\\n', '311.26\\n', '\\n', '312.67\\n', '\\n', '314.51\\n', '\\n', '312.18\\n', '\\n', '313.98\\n', '\\n', '316.14\\n', '\\n', '319.47\\n', '\\n', '292.7\\n', '\\n', '292.47\\n', '\\n', '290.17\\n', '\\n', '284.46\\n', '\\n', '283.77\\n', '\\n', '289.7\\n', '\\n', '288.56\\n', '\\n', '289.76\\n', '\\n', '290.12\\n', '\\n', '292.26\\n', '\\n', '297.87\\n', '\\n', '304.24\\n', '\\n', '303.08\\n', '\\n', '304.62\\n', '\\n', '305.42\\n', '\\n', '302.65\\n', '\\n', '305.79\\n', '\\n', '304.58\\n', '\\n', '302.48\\n', '\\n', '302.96\\n', '\\n', '302.02\\n', '\\n', '306.69\\n', '\\n', '303.67\\n', '\\n', '302.75\\n', '\\n', '304.65\\n', '\\n', '304.35\\n', '\\n', '308.89\\n', '\\n', '308.82\\n', '\\n', '310.89\\n', '\\n', '310.31\\n', '\\n', '306.82\\n', '\\n', '302.18\\n', '\\n', '303.1\\n', '\\n', '303.27\\n', '\\n', '299.82\\n', '\\n', '302.27\\n', '\\n', '308.58\\n', '\\n', '307.69\\n', '\\n', '310.25\\n', '\\n', '312.21\\n', '\\n', '316.67\\n', '\\n', '316.43\\n', '\\n', '319.67\\n', '\\n', '322.7\\n', '\\n', '320.97\\n', '\\n', '324.34\\n', '\\n', '323.19\\n', '\\n', '327.55\\n', '\\n', '323.88\\n', '\\n', '320.3\\n', '\\n', '323.14\\n', '\\n', '320.99\\n', '\\n', '317.26\\n', '\\n', '315.84\\n', '\\n', '315.1\\n', '\\n', '313.12\\n', '\\n', '317.66\\n', '\\n', '325.18\\n', '\\n', '311.99\\n', '\\n', '302.73\\n', '\\n', '304.48\\n', '\\n', '303.42\\n', '\\n', '299.35\\n', '\\n', '297.73\\n', '\\n', '298.5\\n', '\\n', '300.33\\n', '\\n', '304.56\\n', '\\n', '307.43\\n', '\\n', '307.18\\n', '\\n', '302.12\\n', '\\n', '301.91\\n', '\\n', '303.33\\n', '\\n', '305.2\\n', '\\n', '298.19\\n', '\\n', '303.47\\n', '\\n', '306.09\\n', '\\n', '304.27\\n', '\\n', '306.52\\n', '\\n', '302.31\\n', '\\n', '301.7\\n', '\\n', '305.25\\n', '\\n', '314.15\\n', '\\n', '311.21\\n', '\\n', '299.9\\n', '\\n', '306.75\\n', '\\n', '300.1\\n', '\\n', '304.43\\n', '\\n', '301.53\\n', '\\n', '295.47\\n', '\\n', '296.87\\n', '\\n', '293.82\\n', '\\n', '290.14\\n', '\\n', '285.2\\n', '\\n', '289.01\\n', '\\n', '284.92\\n', '\\n', '289.99\\n', '\\n', '288.83\\n', '\\n', '289.93\\n', '\\n', '283.97\\n', '\\n', '282.27\\n', '\\n', '280.26\\n', '\\n', '279.25\\n', '\\n', '281.97\\n', '\\n', '285.14\\n', '\\n', '290.47\\n', '\\n', '288.47\\n', '\\n', '282.32\\n', '\\n', '285.45\\n', '\\n', '280.07\\n', '\\n', '282.06\\n', '\\n', '284.36\\n', '\\n', '281.87\\n', '\\n', '289.74\\n', '\\n', '289.94\\n', '\\n', '293.62\\n', '\\n', '297.66\\n', '\\n', '292.7\\n', '\\n', '292.71\\n', '\\n', '290.56\\n', '\\n', '285.31\\n', '\\n', '284.95\\n', '\\n', '287.97\\n', '\\n', '287.17\\n', '\\n', '288.08\\n', '\\n', '290.09\\n', '\\n', '296.23\\n', '\\n', '305.1\\n', '\\n', '307.45\\n', '\\n', '303.48\\n', '\\n', '303.69\\n', '\\n', '306.37\\n', '\\n', '317.16\\n', '\\n', '315.83\\n', '\\n', '316.17\\n', '\\n', '316.02\\n', '\\n', '314.06\\n', '\\n', '320.34\\n', '\\n', '321.09\\n', '\\n', '319.95\\n', '\\n', '320.79\\n', '\\n', '320.85\\n', '\\n', '320.68\\n', '\\n', '329.67\\n', '\\n', '334\\n', '\\n', '333.44\\n', '\\n', '336.1\\n', '\\n', '338.23\\n', '\\n', '337.43\\n', '\\n', '334.42\\n', '\\n', '338.25\\n', '\\n', '338.06\\n', '\\n', '338.98\\n', '\\n', '334.28\\n', '\\n', '338.29\\n', '\\n', '343.66\\n', '\\n', '340.5\\n', '\\n', '342.2\\n', '\\n', '340.18\\n', '\\n', '340.02\\n', '\\n', '349.35\\n', '\\n', '352.72\\n', '\\n', '350.03\\n', '\\n', '345.75\\n', '\\n', '345.1\\n', '\\n', '352.67\\n', '\\n', '354.49\\n', '\\n', '354.64\\n', '\\n', '358.78\\n', '\\n', '363.39\\n', '\\n', '363.69\\n', '\\n', '366.63\\n', '\\n', '374.32\\n', '\\n', '374.21\\n', '\\n', '376.35\\n', '\\n', '377.87\\n', '\\n', '376.87\\n', '\\n', '380.51\\n', '\\n', '378.12\\n', '\\n', '380.87\\n', '\\n', '383.64\\n', '\\n', '383.44\\n', '\\n', '378.54\\n', '\\n', '371.67\\n', '\\n', '371.91\\n', '\\n', '375.36\\n', '\\n', '372\\n', '\\n', '370.12\\n', '\\n', '371.98\\n', '\\n', '377.37\\n', '\\n', '347.15\\n', '\\n', '340.55\\n', '\\n', '339\\n', '\\n', '339.83\\n', '\\n', '338.31\\n', '\\n', '338.54\\n', '\\n', '337.24\\n', '\\n', '339.81\\n', '\\n', '343.45\\n', '\\n', '343.62\\n', '\\n', '341.14\\n', '\\n', '340.52\\n', '\\n', '333.23\\n', '\\n', '325.82\\n', '\\n', '331.18\\n', '\\n', '332.62\\n', '\\n', '329.2\\n', '\\n', '325.95\\n', '\\n', '323.31\\n', '\\n', '323.27\\n', '\\n', '333.77\\n', '\\n', '334.65\\n', '\\n', '332.6\\n', '\\n', '333.65\\n', '\\n', '330.24\\n', '\\n', '335.02\\n', '\\n', '341.49\\n', '\\n', '345.6\\n', '\\n', '348.84\\n', '\\n', '347.28\\n', '\\n', '345.17\\n', '\\n', '343.57\\n', '\\n', '345.22\\n', '\\n', '341.76\\n', '\\n', '342.37\\n', '\\n', '348.09\\n', '\\n', '348.43\\n', '\\n', '351\\n', '\\n', '350.63\\n', '\\n', '360.03\\n', '\\n', '360.17\\n', '\\n', '359.69\\n', '\\n', '360.82\\n', '\\n', '357.46\\n', '\\n', '354.4\\n', '\\n', '354.08\\n', '\\n', '352.79\\n', '\\n', '349.65\\n', '\\n', '353.34\\n', '\\n', '361.26\\n', '\\n', '361.47\\n', '\\n', '368.62\\n', '\\n', '367.01\\n', '\\n', '366.28\\n', '\\n', '368.69\\n', '\\n', '370.37\\n', '\\n', '369.62\\n', '\\n', '361.26\\n', '\\n', '362.1\\n', '\\n', '357.24\\n', '\\n', '355.3\\n', '\\n', '351.9\\n', '\\n', '351.08\\n', '\\n', '370.38\\n', '\\n', '376.54\\n', '\\n', '376.46\\n', '\\n', '374.99\\n', '\\n', '376.46\\n', '\\n', '376.54\\n', '\\n', '377.47\\n', '\\n', '387.4\\n', '\\n', '379.13\\n', '\\n', '382.49\\n', '\\n', '384.7\\n', '\\n', '386.59\\n', '\\n', '392.29\\n', '\\n', '390.82\\n', '\\n', '389.96\\n', '\\n', '391.04\\n', '\\n', '393.52\\n', '\\n', '396.05\\n', '\\n', '403.02\\n', '\\n', '395.83\\n', '\\n', '397.37\\n', '\\n', '399.46\\n', '\\n', '394.99\\n', '\\n', '394.67\\n', '\\n', '399.49\\n', '\\n', '400.2\\n', '\\n', '402.69\\n', '\\n', '410.34\\n', '\\n', '418.88\\n', '\\n', '415.27\\n', '\\n', '415.88\\n', '\\n', '415.34\\n', '\\n', '416.99\\n', '\\n', '413.39\\n', '\\n', '412.24\\n', '\\n', '410.36\\n', '\\n', '406.74\\n', '\\n', '403.49\\n', '\\n', '405.25\\n', '\\n', '406.95\\n', '\\n', '405.22\\n', '\\n', '404.75\\n', '\\n', '404.42\\n', '\\n', '405.8\\n', '\\n', '400.93\\n', '\\n', '396.7\\n', '\\n', '400.19\\n', '\\n', '406.11\\n', '\\n', '402.7\\n', '\\n', '397.14\\n', '\\n', '391.13\\n', '\\n', '387.04\\n', '\\n', '388.44\\n', '\\n', '394.69\\n', '\\n', '394.8\\n', '\\n', '394.63\\n', '\\n', '390.57\\n', '\\n', '396.29\\n', '\\n', '390.89\\n', '\\n', '382.57\\n', '\\n', '399.54\\n', '\\n', '399.66\\n', '\\n', '403.55\\n', '\\n', '406.32\\n', '\\n', '404.15\\n', '\\n', '400.31\\n', '\\n', '409.12\\n', '\\n', '411.87\\n', '\\n', '409.8\\n', '\\n', '414.39\\n', '\\n', '422.44\\n', '\\n', '430.34\\n', '\\n', '428.19\\n', '\\n', '436.38\\n', '\\n', '435.3\\n', '\\n', '439.67\\n', '\\n', '438.33\\n', '\\n', '443.11\\n', '\\n', '457.49\\n', '\\n', '451.48\\n', '\\n', '454.14\\n', '\\n', '453.81\\n', '\\n', '453.03\\n', '\\n', '444.27\\n', '\\n', '440.95\\n', '\\n', '436.22\\n', '\\n', '440.19\\n', '\\n', '433.72\\n', '\\n', '434.94\\n', '\\n', '435.17\\n', '\\n', '433.38\\n', '\\n', '429.12\\n', '\\n', '429.42\\n', '\\n', '431.89\\n', '\\n', '439.43\\n', '\\n', '444.66\\n', '\\n', '439.47\\n', '\\n', '435.55\\n', '\\n', '438.06\\n', '\\n', '437.08\\n', '\\n', '442.68\\n', '\\n', '449.86\\n', '\\n', '449.89\\n', '\\n', '441.93\\n', '\\n', '440.02\\n', '\\n', '434.46\\n', '\\n', '432.67\\n', '\\n', '436.39\\n', '\\n', '438.1\\n', '\\n', '439.74\\n', '\\n', '443.5\\n', '\\n', '440.71\\n', '\\n', '442.77\\n', '\\n', '446.3\\n', '\\n', '452.09\\n', '\\n', '452.17\\n', '\\n', '452.54\\n', '\\n', '459.66\\n', '\\n', '461.04\\n', '\\n', '461.88\\n', '\\n', '459.34\\n', '\\n', '458.82\\n', '\\n', '454.88\\n', '\\n', '447.85\\n', '\\n', '454.89\\n', '\\n', '451.45\\n', '\\n', '451\\n', '\\n', '443.41\\n', '\\n', '442.23\\n', '\\n', '440.69\\n', '\\n', '445.01\\n', '\\n', '443.43\\n', '\\n', '451.66\\n', '\\n', '452.83\\n', '\\n', '452.05\\n', '\\n', '447.84\\n', '\\n', '444.88\\n', '\\n', '445.88\\n', '\\n', '444.76\\n', '\\n', '442.31\\n', '\\n', '440.18\\n', '\\n', '434.47\\n', '\\n', '429.4\\n', '\\n', '428.03\\n', '\\n', '432.39\\n', '\\n', '432.28\\n', '\\n', '434.23\\n', '\\n', '436.42\\n', '\\n', '434.67\\n', '\\n', '432.76\\n', '\\n', '424.65\\n', '\\n', '423.85\\n', '\\n', '427.29\\n', '\\n', '423.03\\n', '\\n', '429.76\\n', '\\n', '435.38\\n', '\\n', '439.34\\n', '\\n', '439.35\\n', '\\n', '443.58\\n', '\\n', '443.89\\n', '\\n', '447.65\\n', '\\n', '446.08\\n', '\\n', '444.09\\n', '\\n', '443.44\\n', '\\n', '442.61\\n', '\\n', '451.21\\n', '\\n', '448.75\\n', '\\n', '451.1\\n', '\\n', '442.81\\n', '\\n', '442.98\\n', '\\n', '438.18\\n', '\\n', '438.65\\n', '\\n', '437.76\\n', '\\n', '437.52\\n', '\\n', '443.06\\n', '\\n', '443.55\\n', '\\n', '437.61\\n', '\\n', '435.74\\n', '\\n', '432.44\\n', '\\n', '426.41\\n', '\\n', '427.5\\n', '\\n', '433.69\\n', '\\n', '435.56\\n', '\\n', '437.62\\n', '\\n', '440.56\\n', '\\n', '448.56\\n', '\\n', '443.95\\n', '\\n', '505.2\\n', '\\n', '501.15\\n', '\\n', '503\\n', '\\n', '515.19\\n', '\\n', '512.26\\n', '\\n', '507.09\\n', '\\n', '506.99\\n', '\\n', '517.6\\n', '\\n', '514.69\\n', '\\n', '514.77\\n', '\\n', '513.01\\n', '\\n', '512.54\\n', '\\n', '510.25\\n', '\\n', '510.86\\n', '\\n', '503.47\\n', '\\n', '507.51\\n', '\\n', '504.79\\n', '\\n', '505.38\\n', '\\n', '515.72\\n', '\\n', '517.1\\n', '\\n', '516.26\\n', '\\n', '515.26\\n', '\\n', '512.09\\n', '\\n', '510.64\\n', '\\n', '516.52\\n', '\\n', '515.43\\n', '\\n', '522.44\\n', '\\n', '528.68\\n', '\\n', '531.02\\n', '\\n', '529.27\\n', '\\n', '526.71\\n', '\\n', '526.1\\n', '\\n', '528.56\\n', '\\n', '528.14\\n', '\\n', '534.4\\n', '\\n', '538.53\\n', '\\n', '541.79\\n', '\\n', '538.11\\n', '\\n', '534.45\\n', '\\n', '529.86\\n', '\\n', '535.95\\n', '\\n', '534.4\\n', '\\n', '541.83\\n', '\\n', '542.57\\n', '\\n', '549.76\\n', '\\n', '556.99\\n', '\\n', '555.36\\n', '\\n', '558.17\\n', '\\n', '558.64\\n', '\\n', '554.18\\n', '\\n', '559.79\\n', '\\n', '556\\n', '\\n', '551.95\\n', '\\n', '558.1\\n', '\\n', '568.86\\n', '\\n', '570.04\\n', '\\n', '564.55\\n', '\\n', '564.52\\n', '\\n', '560.93\\n', '\\n', '574.13\\n', '\\n', '573.74\\n', '\\n', '577.53\\n', '\\n', '574.69\\n', '\\n', '581.27\\n', '\\n', '581.93\\n', '\\n', '579.47\\n', '\\n', '561.35\\n', '\\n', '550.06\\n', '\\n', '560.94\\n', '\\n', '552.91\\n', '\\n', '567.13\\n', '\\n', '589.89\\n', '\\n', '566.15\\n', '\\n', '568.51\\n', '\\n', '571.03\\n', '\\n', '579.4\\n', '\\n', '588.13\\n', '\\n', '585.88\\n', '\\n', '594.49\\n', '\\n', '592.75\\n', '\\n', '599.35\\n', '\\n', '600.8\\n', '\\n', '604.83\\n', '\\n', '600.57\\n', '\\n', '601.45\\n', '\\n', '601.29\\n', '\\n', '605.65\\n', '\\n', '609.39\\n', '\\n', '609.47\\n', '\\n', '609\\n', '\\n', '607.22\\n', '\\n', '600.74\\n', '\\n', '606.85\\n', '\\n', '608.52\\n', '\\n', '609.2\\n', '\\n', '606.79\\n', '\\n', '605.18\\n', '\\n', '599.4\\n', '\\n', '603.05\\n', '\\n', '593.94\\n', '\\n', '585.81\\n', '\\n', '595.45\\n', '\\n', '605.02\\n', '\\n', '599.03\\n', '\\n', '597.98\\n', '\\n', '590.93\\n', '\\n', '578.39\\n', '\\n', '578.78\\n', '\\n', '565.42\\n', '\\n', '556.58\\n', '\\n', '559.51\\n', '\\n', '556.7\\n', '\\n', '566.88\\n', '\\n', '566.98\\n', '\\n', '569.74\\n', '\\n', '543.14\\n', '\\n', '538.15\\n', '\\n', '554.9\\n', '\\n', '564.14\\n', '\\n', '540.95\\n', '\\n', '530.6\\n', '\\n', '532.52\\n', '\\n', '536.44\\n', '\\n', '556.54\\n', '\\n', '536.1\\n', '\\n', '528.62\\n', '\\n', '534.81\\n', '\\n', '526.94\\n', '\\n', '525.16\\n', '\\n', '516.18\\n', '\\n', '517.15\\n', '\\n', '527.7\\n', '\\n', '526.66\\n', '\\n', '531.35\\n', '\\n', '527.93\\n', '\\n', '527.81\\n', '\\n', '515.14\\n', '\\n', '509.96\\n', '\\n', '511\\n', '\\n', '518.73\\n', '\\n', '529.92\\n', '\\n', '533.09\\n', '\\n', '526.65\\n', '\\n', '519.98\\n', '\\n', '520.63\\n', '\\n', '528.86\\n', '\\n', '529.77\\n', '\\n', '538.94\\n', '\\n', '545.06\\n', '\\n', '552.7\\n', '\\n', '565.95\\n', '\\n', '561.68\\n', '\\n', '560.08\\n', '\\n', '559.89\\n', '\\n', '553.93\\n', '\\n', '544.94\\n', '\\n', '544.66\\n', '\\n', '553.9\\n', '\\n', '556.33\\n', '\\n', '562.12\\n', '\\n', '560.55\\n', '\\n', '558.84\\n', '\\n', '551.35\\n', '\\n', '551.76\\n', '\\n', '544.28\\n', '\\n', '543.01\\n', '\\n', '553.37\\n', '\\n', '554.9\\n', '\\n', '556.36\\n', '\\n', '564.95\\n', '\\n', '564.62\\n', '\\n', '578.65\\n', '\\n', '576\\n', '\\n', '577.24\\n', '\\n', '575.28\\n', '\\n', '582.67\\n', '\\n', '582.34\\n', '\\n', '584.73\\n', '\\n', '582.25\\n', '\\n', '571.09\\n', '\\n', '576.08\\n', '\\n', '571.1\\n', '\\n', '579.18\\n', '\\n', '584.87\\n', '\\n', '584.78\\n', '\\n', '582.66\\n', '\\n', '573.73\\n', '\\n', '595.08\\n', '\\n', '589.47\\n', '\\n', '594.74\\n', '\\n', '595.98\\n', '\\n', '593.35\\n', '\\n', '589.02\\n', '\\n', '590.6\\n', '\\n', '585.61\\n', '\\n', '587.42\\n', '\\n', '571.6\\n', '\\n', '566.07\\n', '\\n', '573.15\\n', '\\n', '565.07\\n', '\\n', '566.37\\n', '\\n', '563.36\\n', '\\n', '568.77\\n', '\\n', '567.88\\n', '\\n', '562.73\\n', '\\n', '574.78\\n', '\\n', '574.65\\n', '\\n', '573.48\\n', '\\n', '582.16\\n', '\\n', '586.86\\n', '\\n', '584.49\\n', '\\n', '583.37\\n', '\\n', '582.56\\n', '\\n', '580.2\\n', '\\n', '577.86\\n', '\\n', '571\\n', '\\n', '569.2\\n', '\\n', '571.6\\n', '\\n', '577.33\\n', '\\n', '577.94\\n', '\\n', '581.98\\n', '\\n', '586.08\\n', '\\n', '589.72\\n', '\\n', '581.01\\n', '\\n', '583.1\\n', '\\n', '581.35\\n', '\\n', '575.62\\n', '\\n', '573.1\\n', '\\n', '579.95\\n', '\\n', '584.77\\n', '\\n', '589.27\\n', '\\n', '596.08\\n', '\\n', '587.37\\n', '\\n', '581.13\\n', '\\n', '587.99\\n', '\\n', '575.06\\n', '\\n', '577.1\\n', '\\n', '576.36\\n', '\\n', '577.36\\n', '\\n', '568.27\\n', '\\n', '570.08\\n', '\\n', '575.28\\n', '\\n', '577.35\\n', '\\n', '563.74\\n', '\\n', '572.5\\n', '\\n', '560.88\\n', '\\n', '544.49\\n', '\\n', '533.21\\n', '\\n', '537.94\\n', '\\n', '530.03\\n', '\\n', '524.51\\n', '\\n', '511.17\\n', '\\n', '520.84\\n', '\\n', '526.54\\n', '\\n', '532.71\\n', '\\n', '543.98\\n', '\\n', '539.78\\n', '\\n', '540.77\\n', '\\n', '548.9\\n', '\\n', '549.33\\n', '\\n', '550.31\\n', '\\n', '559.08\\n', '\\n', '555.22\\n', '\\n', '554.11\\n', '\\n', '545.92\\n', '\\n', '542.04\\n', '\\n', '541.01\\n', '\\n', '547.49\\n', '\\n', '550.29\\n', '\\n', '547.31\\n', '\\n', '545.38\\n', '\\n', '544.4\\n', '\\n', '536.51\\n', '\\n', '535.03\\n', '\\n', '536.99\\n', '\\n', '534.83\\n', '\\n', '537.5\\n', '\\n', '539.27\\n', '\\n', '541.08\\n', '\\n', '540.37\\n', '\\n', '541.83\\n', '\\n', '533.8\\n', '\\n', '533.75\\n', '\\n', '531.32\\n', '\\n', '537.31\\n', '\\n', '525.26\\n', '\\n', '526.98\\n', '\\n', '533.37\\n', '\\n', '526.06\\n', '\\n', '528.34\\n', '\\n', '518.66\\n', '\\n', '513.8\\n', '\\n', '495.39\\n', '\\n', '504.89\\n', '\\n', '511.1\\n', '\\n', '516.35\\n', '\\n', '524.87\\n', '\\n', '530.59\\n', '\\n', '528.77\\n', '\\n', '534.03\\n', '\\n', '530.33\\n', '\\n', '530.42\\n', '\\n', '526.4\\n', '\\n', '524.81\\n', '\\n', '513.87\\n', '\\n', '501.96\\n', '\\n', '501.1\\n', '\\n', '502.68\\n', '\\n', '496.17\\n', '\\n', '492.55\\n', '\\n', '496.18\\n', '\\n', '500.87\\n', '\\n', '501.79\\n', '\\n', '508.08\\n', '\\n', '506.9\\n', '\\n', '518.04\\n', '\\n', '534.39\\n', '\\n', '539.95\\n', '\\n', '535.21\\n', '\\n', '518.63\\n', '\\n', '510\\n', '\\n', '510.66\\n', '\\n', '534.52\\n', '\\n', '528.48\\n', '\\n', '529.24\\n', '\\n', '522.76\\n', '\\n', '527.58\\n', '\\n', '531\\n', '\\n', '527.83\\n', '\\n', '536.94\\n', '\\n', '535.97\\n', '\\n', '542.93\\n', '\\n', '549.01\\n', '\\n', '542.84\\n', '\\n', '539.7\\n', '\\n', '542.87\\n', '\\n', '538.95\\n', '\\n', '531.91\\n', '\\n', '536.09\\n', '\\n', '543.87\\n', '\\n', '555.48\\n', '\\n', '558.4\\n', '\\n', '571.34\\n', '\\n', '573.64\\n', '\\n', '573.37\\n', '\\n', '575.33\\n', '\\n', '567.68\\n', '\\n', '568.85\\n', '\\n', '555.01\\n', '\\n', '551.18\\n', '\\n', '555.51\\n', '\\n', '547.32\\n', '\\n', '554.51\\n', '\\n', '550.84\\n', '\\n', '559.5\\n', '\\n', '557.99\\n', '\\n', '560.36\\n', '\\n', '558.81\\n', '\\n', '570.19\\n', '\\n', '558.78\\n', '\\n', '555.17\\n', '\\n', '548.34\\n', '\\n', '552.03\\n', '\\n', '548\\n', '\\n', '542.56\\n', '\\n', '535.53\\n', '\\n', '536.76\\n', '\\n', '537.02\\n', '\\n', '541.61\\n', '\\n', '540.78\\n', '\\n', '540.01\\n', '\\n', '539.17\\n', '\\n', '530.39\\n', '\\n', '532.53\\n', '\\n', '533.8\\n', '\\n', '524.05\\n', '\\n', '535.38\\n', '\\n', '533.97\\n', '\\n', '539.36\\n', '\\n', '547\\n', '\\n', '565.06\\n', '\\n', '555.37\\n', '\\n', '553.68\\n', '\\n', '549.08\\n', '\\n', '537.34\\n', '\\n', '537.9\\n', '\\n', '540.78\\n', '\\n', '530.8\\n', '\\n', '524.22\\n', '\\n', '530.7\\n', '\\n', '538.22\\n', '\\n', '535.7\\n', '\\n', '529.04\\n', '\\n', '529.62\\n', '\\n', '538.4\\n', '\\n', '533.85\\n', '\\n', '532.3\\n', '\\n', '537.36\\n', '\\n', '539.27\\n', '\\n', '542.51\\n', '\\n', '540.11\\n', '\\n', '532.32\\n', '\\n', '539.79\\n', '\\n', '539.78\\n', '\\n', '532.11\\n', '\\n', '533.99\\n', '\\n', '539.18\\n', '\\n', '540.31\\n', '\\n', '536.7\\n', '\\n', '533.33\\n', '\\n', '526.83\\n', '\\n', '526.69\\n', '\\n', '536.69\\n', '\\n', '534.61\\n', '\\n', '532.33\\n', '\\n', '527.2\\n', '\\n', '528.15\\n', '\\n', '529.26\\n', '\\n', '536.73\\n', '\\n', '536.69\\n', '\\n', '538.19\\n', '\\n', '540.48\\n', '\\n', '537.84\\n', '\\n', '535.23\\n', '\\n', '531.69\\n', '\\n', '521.52\\n', '\\n', '520.51\\n', '\\n', '521.84\\n', '\\n', '523.4\\n', '\\n', '522.86\\n', '\\n', '525.02\\n', '\\n', '516.83\\n', '\\n', '520.68\\n', '\\n', '530.13\\n', '\\n', '546.55\\n', '\\n', '561.1\\n', '\\n', '560.22\\n', '\\n', '579.85\\n', '\\n', '672.93\\n', '\\n', '663.02\\n', '\\n', '662.3\\n', '\\n', '662.1\\n', '\\n', '644.28\\n', '\\n', '623.56\\n', '\\n', '627.26\\n', '\\n', '628\\n', '\\n', '631.93\\n', '\\n', '632.59\\n', '\\n', '625.61\\n', '\\n', '631.21\\n', '\\n', '629.25\\n', '\\n', '643.78\\n', '\\n', '642.68\\n', '\\n', '635.3\\n', '\\n', '633.73\\n', '\\n', '660.78\\n', '\\n', '659.56\\n', '\\n', '656.45\\n', '\\n', '657.12\\n', '\\n', '660.87\\n', '\\n', '656.13\\n', '\\n', '660.9\\n', '\\n', '646.83\\n', '\\n', '612.48\\n', '\\n', '589.61\\n', '\\n', '582.06\\n', '\\n', '628.62\\n', '\\n', '637.61\\n', '\\n', '630.38\\n', '\\n', '618.25\\n', '\\n', '597.79\\n', '\\n', '614.34\\n', '\\n', '606.25\\n', '\\n', '600.7\\n', '\\n', '614.66\\n', '\\n', '612.72\\n', '\\n', '621.35\\n', '\\n', '625.77\\n', '\\n', '623.24\\n', '\\n', '635.14\\n', '\\n', '635.98\\n', '\\n', '642.9\\n', '\\n', '629.25\\n', '\\n', '635.44\\n', '\\n', '622.69\\n', '\\n', '622.36\\n', '\\n', '625.8\\n', '\\n', '611.97\\n', '\\n', '594.89\\n', '\\n', '594.97\\n', '\\n', '608.42\\n', '\\n', '611.29\\n', '\\n', '626.91\\n', '\\n', '641.47\\n', '\\n', '645.44\\n', '\\n', '642.36\\n', '\\n', '639.16\\n', '\\n', '643.61\\n', '\\n', '646.67\\n', '\\n', '652.3\\n', '\\n', '651.16\\n', '\\n', '661.74\\n', '\\n', '662.2\\n', '\\n', '666.1\\n', '\\n', '650.28\\n', '\\n', '642.61\\n', '\\n', '651.79\\n', '\\n', '702\\n', '\\n', '712.78\\n', '\\n', '708.49\\n', '\\n', '712.95\\n', '\\n', '716.92\\n', '\\n', '710.81\\n', '\\n', '721.11\\n', '\\n', '722.16\\n', '\\n', '728.11\\n', '\\n', '731.25\\n', '\\n', '733.76\\n', '\\n', '724.89\\n', '\\n', '728.32\\n', '\\n', '735.4\\n', '\\n', '731.23\\n', '\\n', '717\\n', '\\n', '728.96\\n', '\\n', '725.3\\n', '\\n', '740\\n', '\\n', '738.41\\n', '\\n', '756.6\\n', '\\n', '755.98\\n', '\\n', '748.28\\n', '\\n', '748.15\\n', '\\n', '750.26\\n', '\\n', '742.6\\n', '\\n', '767.04\\n', '\\n', '762.38\\n', '\\n', '752.54\\n', '\\n', '766.81\\n', '\\n', '763.25\\n', '\\n', '762.37\\n', '\\n', '751.61\\n', '\\n', '749.46\\n', '\\n', '738.87\\n', '\\n', '747.77\\n', '\\n', '743.4\\n', '\\n', '758.09\\n', '\\n', '749.43\\n', '\\n', '739.31\\n', '\\n', '747.77\\n', '\\n', '750\\n', '\\n', '750.31\\n', '\\n', '748.4\\n', '\\n', '762.51\\n', '\\n', '776.6\\n', '\\n', '771\\n', '\\n', '758.88\\n', '\\n', '741.84\\n', '\\n', '742.58\\n', '\\n', '743.62\\n', '\\n', '726.39\\n', '\\n', '714.47\\n', '\\n', '716.03\\n', '\\n', '726.07\\n', '\\n', '700.56\\n', '\\n', '714.72\\n', '\\n', '694.45\\n', '\\n', '701.79\\n', '\\n', '698.45\\n', '\\n', '706.59\\n', '\\n', '725.25\\n', '\\n', '711.67\\n', '\\n', '713.04\\n', '\\n', '699.99\\n', '\\n', '730.96\\n', '\\n', '742.95\\n', '\\n', '752\\n', '\\n', '764.65\\n', '\\n', '726.95\\n', '\\n', '708.01\\n', '\\n', '683.57\\n', '\\n', '682.74\\n', '\\n', '678.11\\n', '\\n', '684.12\\n', '\\n', '683.11\\n', '\\n', '682.4\\n', '\\n', '691\\n', '\\n', '708.4\\n', '\\n', '697.35\\n', '\\n', '700.91\\n', '\\n', '706.46\\n', '\\n', '695.85\\n', '\\n', '699.56\\n', '\\n', '705.75\\n', '\\n', '705.07\\n', '\\n', '697.77\\n', '\\n', '718.81\\n', '\\n', '718.85\\n', '\\n', '712.42\\n', '\\n', '710.89\\n', '\\n', '695.16\\n', '\\n', '693.97\\n', '\\n', '705.24\\n', '\\n', '712.82\\n', '\\n', '726.82\\n', '\\n', '730.49\\n', '\\n', '728.33\\n', '\\n', '736.09\\n', '\\n', '737.78\\n', '\\n', '737.6\\n', '\\n', '742.09\\n', '\\n', '740.75\\n', '\\n', '738.06\\n', '\\n', '735.3\\n', '\\n', '733.53\\n', '\\n', '744.77\\n', '\\n', '750.53\\n', '\\n', '744.95\\n', '\\n', '749.91\\n', '\\n', '745.29\\n', '\\n', '737.8\\n', '\\n', '745.69\\n', '\\n', '740.28\\n', '\\n', '739.15\\n', '\\n', '736.1\\n', '\\n', '743.09\\n', '\\n', '751.72\\n', '\\n', '753.2\\n', '\\n', '759\\n', '\\n', '766.61\\n', '\\n', '753.93\\n', '\\n', '752.67\\n', '\\n', '759.14\\n', '\\n', '718.77\\n', '\\n', '723.15\\n', '\\n', '708.14\\n', '\\n', '705.84\\n', '\\n', '691.02\\n', '\\n', '693.01\\n', '\\n', '698.21\\n', '\\n', '692.36\\n', '\\n', '695.7\\n', '\\n', '701.43\\n', '\\n', '711.12\\n', '\\n', '712.9\\n', '\\n', '723.18\\n', '\\n', '715.29\\n', '\\n', '713.31\\n', '\\n', '710.83\\n', '\\n', '716.49\\n', '\\n', '706.23\\n', '\\n', '706.63\\n', '\\n', '700.32\\n', '\\n', '709.74\\n', '\\n', '704.24\\n', '\\n', '720.09\\n', '\\n', '725.27\\n', '\\n', '724.12\\n', '\\n', '732.66\\n', '\\n', '735.72\\n', '\\n', '734.15\\n', '\\n', '730.4\\n', '\\n', '722.34\\n', '\\n', '716.55\\n', '\\n', '716.65\\n', '\\n', '728.28\\n', '\\n', '728.58\\n', '\\n', '719.41\\n', '\\n', '718.36\\n', '\\n', '718.27\\n', '\\n', '718.92\\n', '\\n', '710.36\\n', '\\n', '691.72\\n', '\\n', '693.71\\n', '\\n', '695.94\\n', '\\n', '697.46\\n', '\\n', '701.87\\n', '\\n', '675.22\\n', '\\n', '668.26\\n', '\\n', '680.04\\n', '\\n', '684.11\\n', '\\n', '692.1\\n', '\\n', '699.21\\n', '\\n', '694.49\\n', '\\n', '697.77\\n', '\\n', '695.36\\n', '\\n', '705.63\\n', '\\n', '715.09\\n', '\\n', '720.64\\n', '\\n', '716.98\\n', '\\n', '720.95\\n', '\\n', '719.85\\n', '\\n', '733.78\\n', '\\n', '736.96\\n', '\\n', '741.19\\n', '\\n', '738.63\\n', '\\n', '742.74\\n', '\\n', '739.77\\n', '\\n', '738.42\\n', '\\n', '741.77\\n', '\\n', '745.91\\n', '\\n', '768.79\\n', '\\n', '772.88\\n', '\\n', '771.07\\n', '\\n', '773.18\\n', '\\n', '771.61\\n', '\\n', '782.22']\n",
            "Number of data points : 6024\n",
            "['50.12', '54.1', '54.65', '52.38', '52.95', '53.9', '53.02', '50.95', '51.13', '50.07', '50.7', '49.95', '50.74', '51.1', '51.1', '52.61', '53.7', '55.69', '55.94', '56.93', '58.69', '59.62', '58.86', '59.13', '60.35', '59.86', '59.07', '63.37', '65.47', '64.74', '66.22', '67.46', '69.12', '68.47', '69.36', '68.8', '67.56', '68.63', '70.38', '70.93', '71.98', '74.51', '73.9', '70.17', '74.62', '86.13', '93.61', '90.81', '92.89', '96.55', '95.22', '97.92', '97.34', '95.74', '92.26', '84.59', '86.19', '84.27', '83.85', '91.42', '90.91', '92.34', '86.19', '86.16', '83.69', '84.62', '82.47', '83.68', '87.29', '89.61', '90.43', '90.9', '89.89', '89.61', '90.11', '88.06', '85.63', '84.91', '86.63', '85.74', '85.14', '89.26', '89.8', '88.15', '89.95', '92.42', '91.78', '93.06', '93.86', '95.86', '96.28', '96.35', '98.7', '96.3', '101.25', '97.15', '96.66', '94.18', '96.83', '97.43', '96.67', '97.59', '97.57', '99.89', '101.85', '98.55', '96.86', '94.05', '90.27', '88.47', '94.53', '93.95', '95.07', '97.71', '95.85', '102.88', '105.32', '102.08', '97.92', '99.22', '95.69', '93.9', '93.61', '96.4', '97.52', '99.11', '98.85', '98.88', '95.59', '96.88', '94.35', '92.84', '93.9', '92.94', '92.5', '93.41', '92.86', '94.31', '92.51', '90.58', '89.9', '88.81', '87.41', '89.22', '87.71', '89.56', '89.93', '90.35', '89.21', '89.4', '89.54', '90.62', '89.7', '90.13', '90.16', '89.93', '92.55', '94.19', '94.52', '96.78', '95.93', '96.52', '96.88', '96.37', '95.63', '92.41', '93.39', '95.6', '98.95', '102.01', '107.8', '111.65', '109.27', '109.78', '109.62', '109.89', '111.03', '112.98', '114.14', '113.38', '113.9', '112.9', '113.79', '115.53', '114.25', '114.51', '115.41', '116.45', '119.46', '119.47', '120.68', '127.6', '127.87', '130.27', '129.47', '132.87', '138.5', '143.86', '143.81', '139.99', '145.32', '146.41', '139.64', '143.01', '141.11', '141.23', '139.04', '137.26', '138.58', '140', '143.21', '143.78', '144.51', '144.71', '148.48', '151.9', '150.85', '146.21', '146.93', '145.48', '147.71', '145.62', '147.62', '147.97', '146.53', '145.75', '149.28', '150.29', '150.44', '149.62', '154.8', '155.84', '156.81', '151.05', '147.78', '147.9', '148.32', '146.6', '143.74', '145.66', '149.45', '148.5', '148.72', '146.03', '145.48', '145.64', '142.7', '141.88', '144.72', '141.86', '142.68', '142.41', '139.86', '139.86', '136.87', '139.65', '141.14', '141.15', '141.65', '144.08', '143.49', '142.86', '142.98', '144.08', '143.41', '147.29', '147.55', '149.4', '154.72', '155.68', '151.35', '151.16', '149.95', '151.74', '153.8', '155.79', '155.53', '157.52', '156.98', '156.81', '152.85', '154.66', '158.07', '159.18', '155.34', '155.2', '156.22', '156.34', '155.17', '152.9', '150.33', '148.57', '147.92', '152.35', '151.49', '154.2', '151.45', '169.78', '174.15', '173.28', '177.54', '176.35', '178.91', '185.88', '189.5', '189.65', '192.78', '195.02', '197.32', '194.76', '189.39', '195.35', '195', '198.29', '196.2', '198.88', '201.52', '199.9', '204.48', '208.03', '211.22', '214.1', '211.53', '201.57', '202.25', '206.84', '208.64', '202.72', '202.07', '201.91', '205.12', '204.4', '206.1', '208.54', '209.27', '211.05', '214.86', '212.09', '214.66', '212.95', '215.8', '215.25', '212.11', '213.13', '209.86', '207.22', '217.4', '222.4', '225.39', '232.6', '233.22', '234.65', '235.58', '231.58', '232.89', '233.32', '222.23', '218', '199.53', '213.54', '221.29', '216.28', '216.92', '216.53', '213.2', '216.11', '200.69', '197.82', '190.59', '192.36', '183.78', '184.36', '179.21', '181.12', '172.68', '171.49', '171.02', '183.05', '184.19', '183.11', '182.56', '188.85', '188.51', '194.99', '181.13', '182.22', '188.04', '188.9', '183.87', '182.04', '176.76', '171.33', '168.58', '168.36', '175.4', '172.08', '169.22', '169.73', '173.92', '169.79', '169.94', '170.77', '182.72', '184.66', '188.41', '197.29', '194.03', '194.8', '194.66', '201.97', '203.79', '205.38', '202.88', '207.98', '204.63', '204.27', '200.88', '203.21', '201.92', '205.04', '207.29', '218.33', '220.03', '213.37', '212.77', '209.8', '208.76', '199.25', '197.2', '196.89', '197.18', '196.95', '197.19', '204.2', '201.29', '193.31', '186.88', '187.91', '185.46', '187.06', '185.31', '184.82', '185.29', '187.6', '190.43', '191.3', '190.48', '185.78', '185.72', '191.12', '189.53', '187.03', '194.8', '193.06', '196.45', '193.09', '190.58', '193.07', '192', '195.3', '195.15', '193.88', '193.39', '200.86', '199.78', '202.23', '201.91', '200.96', '202.85', '208.7', '209.46', '211.39', '210.52', '211.38', '210.01', '208.89', '212.07', '208.42', '204.21', '201.55', '203.74', '201.32', '199.3', '193.37', '194.86', '195.25', '194.49', '192.56', '191.01', '193.87', '193.11', '187.57', '183.43', '187.51', '186.74', '188.79', '190.31', '188.28', '186.91', '184.07', '184.53', '190.29', '193.67', '192.71', '191.49', '188.46', '188.96', '186.53', '186.68', '186.44', '190.28', '189.29', '190.18', '189.08', '189.11', '191.99', '189.88', '189.06', '188.74', '191.85', '195.75', '203.08', '201.79', '204.74', '207.14', '201.7', '198.3', '203.22', '201.69', '201.79', '203.23', '201.26', '201.59', '200.75', '200.52', '201.82', '207.64', '205.7', '210.04', '214.29', '213.11', '213.04', '213.51', '213.44', '210.66', '210.11', '209.44', '212.82', '229.61', '240.15', '236.42', '243.06', '242.31', '237.36', '238.05', '237.96', '233.52', '234.72', '235.66', '238.24', '236.05', '237.26', '236.08', '236.54', '240.27', '244.41', '245.72', '247.7', '249.15', '247.28', '254.57', '253.75', '252.2', '242.13', '244.51', '242.08', '242.16', '240.16', '242.18', '243.26', '244.11', '241.08', '241.81', '241.72', '240.65', '239.26', '240.82', '239.91', '231.17', '234.08', '231.22', '227.87', '227.56', '228.54', '233.78', '231.05', '230.01', '233.56', '241.39', '243.35', '241.55', '242.51', '244.49', '249.61', '252.25', '251.89', '248.39', '243.67', '244.63', '240.18', '239.29', '249.28', '243.8', '247.67', '245.99', '246.91', '250.5', '240.63', '240.51', '233.35', '235.5', '234.77', '235.28', '230.71', '228.92', '229.32', '232.73', '230.5', '234.74', '235.81', '237.69', '237.69', '235.07', '232.23', '224.16', '224.5', '223.89', '219.12', '220.25', '228.55', '227.59', '227.13', '226.25', '227.15', '221.29', '223.78', '222.87', '220.2', '223.39', '222.42', '228.05', '230.79', '230.68', '232.27', '231.58', '230.71', '230.23', '228.85', '229.04', '236.06', '235.27', '235.52', '233.87', '233.02', '232.03', '233.46', '232.91', '236.9', '236.16', '237.77', '235.59', '241', '239.3', '238.53', '238.76', '240.35', '239.27', '235.45', '234.27', '232.66', '236.38', '235.32', '233.4', '233.17', '234.39', '230.5', '233.14', '230.66', '228.77', '236.07', '235.24', '234.92', '235.06', '237.69', '236.75', '236.93', '241.52', '243.31', '249.05', '248.71', '249.95', '253.28', '259.16', '258.87', '257.27', '257.49', '255.41', '252.13', '252.37', '251.17', '252.69', '257.34', '256.9', '254.73', '256.8', '262.23', '263.45', '264.86', '262.88', '262.24', '261.09', '264.92', '266.9', '270.54', '269.43', '271.01', '271.4', '271.96', '272.39', '275.8', '276.22', '277.22', '274.48', '274.02', '259.8', '256', '256.74', '254.63', '253.75', '255.69', '257.8', '254.74', '256.21', '255.25', '251.25', '254.74', '257.75', '262.63', '257.11', '257.62', '257.49', '254.05', '248.53', '245.51', '249.77', '248.71', '253.05', '256.12', '255.84', '257.24', '256.37', '252.95', '256.18', '255.44', '257.37', '262.31', '263.64', '261.5', '259.42', '256.98', '260.4', '261.06', '262.13', '264.11', '262.39', '267.37', '273.15', '276.14', '279.77', '283.73', '284.22', '283.8', '283.47', '283.35', '290.98', '291.9', '291.72', '289.23', '296.73', '304.51', '307.28', '312.38', '310.69', '318.38', '309.74', '307.69', '316.42', '319.49', '322.03', '325.05', '337.55', '337.57', '333.92', '336.96', '339.28', '347.04', '353.15', '351.25', '355.27', '362.46', '370.52', '366.1', '346.57', '331.65', '315.72', '329.94', '320.52', '314.51', '316.5', '312.61', '323.95', '329.93', '338.01', '332.7', '336.45', '345.78', '348.15', '346.15', '340.42', '341.74', '348.91', '357.27', '357.08', '358.85', '349.25', '349.33', '346.68', '344.64', '334.28', '336.34', '338.35', '344.5', '348', '350.01', '355.06', '350.02', '350.91', '345.39', '342.25', '342.32', '328.17', '324.3', '315.52', '326.27', '323.04', '318.81', '326.58', '318.51', '307.67', '300.09', '299.82', '291.88', '274.04', '286.96', '282.92', '277.71', '274.98', '273.86', '281.87', '257.69', '247.47', '253.15', '250.6', '252.22', '258.09', '260.32', '258.79', '267.04', '265.86', '264.56', '254.22', '254.25', '251.18', '253.65', '242.98', '231.86', '236.19', '237.46', '235.35', '228.28', '222.08', '223.63', '216.13', '216.46', '206.6', '219.7', '219.87', '221.28', '218.74', '209.73', '219.36', '215.78', '216.56', '230.05', '225.16', '228.87', '221.82', '218.82', '220.01', '232.62', '232.62', '227.33', '235.31', '238.17', '233.67', '231.86', '234.3', '228.5', '225.6', '223.2', '227.29', '224.55', '269.44', '268.63', '277.22', '272.97', '271.25', '271.76', '275.78', '278.96', '286.86', '296.24', '290.35', '297.15', '292.89', '289.21', '291.21', '286.3', '292.18', '291.21', '287.86', '290.21', '289.74', '288.47', '289.01', '274.72', '274.46', '272.04', '280.17', '283.84', '291.21', '292.61', '287.21', '283.37', '285.82', '292.86', '283.22', '278.66', '276.81', '272.33', '276.2', '285.47', '286.12', '284.45', '280.91', '279.82', '272.94', '272.33', '270.88', '275.22', '264.15', '263.77', '262.95', '267.1', '263.26', '268.23', '271.68', '276.99', '270.5', '270.02', '266.63', '260.55', '257.79', '267.53', '266.45', '240.42', '234.17', '238.32', '244.37', '237.57', '245.74', '238.32', '241.31', '241.11', '236.64', '233.7', '231.27', '239.69', '242.93', '239.32', '247.26', '250.17', '251.05', '249.76', '252.49', '254.82', '248.9', '245', '242.26', '243.02', '245.05', '241.26', '236.84', '234.06', '236.65', '231.41', '232.39', '231.97', '224.9', '221.9', '209.76', '209.12', '206.87', '216.66', '218.61', '216.71', '221.24', '207.04', '219.32', '224.35', '214.85', '214.42', '217.34', '219.58', '215.3', '190.31', '200.06', '205.65', '195.05', '193.26', '185.42', '172.83', '168.89', '164.33', '165.83', '190.32', '181.17', '169.42', '176.33', '186.08', '189.47', '181.19', '177.66', '175.98', '169.48', '164.58', '184.19', '178.82', '179.67', '179.5', '173.07', '183.29', '170.95', '165.44', '165.4', '159.23', '155.57', '145.35', '155.88', '154.85', '149.91', '148.56', '139.95', '129.65', '131.08', '128.59', '140.88', '145.9', '146.33', '132.86', '137.42', '139.58', '137.03', '141.85', '150.9', '152.83', '154.26', '149.96', '157.72', '155.18', '162.48', '157.46', '154.98', '154.93', '148.41', '148.86', '151.32', '150.03', '148.56', '151.4', '153.67', '160.5', '163.86', '166.86', '160.84', '162.43', '157.38', '156.19', '157', '150.33', '149.35', '149.69', '141.23', '151.39', '153.1', '162.19', '161.77', '165.57', '174.16', '171.49', '169.1', '170.11', '170.05', '171.33', '176.68', '185.45', '189.2', '179.08', '178.84', '181.34', '178.66', '171.16', '176.38', '171.15', '173.05', '164.86', '172.55', '170.65', '168.42', '168.83', '163.42', '162.58', '159.3', '152.67', '154.13', '145.3', '153.93', '158.8', '161.6', '162.05', '159.69', '167.5', '166.38', '164.81', '164.91', '174.13', '173.41', '171.86', '176.47', '173.68', '171.17', '173.86', '176.87', '181.07', '184.71', '183.94', '179.15', '180.82', '186.06', '188.87', '184.27', '189.56', '194.18', '195.92', '189.46', '190.54', '191.74', '192.15', '194.55', '192.78', '191.66', '195.54', '197.79', '196.65', '200.79', '201.29', '201.53', '198.11', '203.46', '203.79', '199.31', '194.58', '193.56', '194.8', '198.22', '199.24', '198.39', '198.05', '196.55', '201.98', '202.58', '204.99', '208.41', '213.07', '213.99', '215.61', '219.92', '221.94', '219.17', '217.59', '216.08', '214.29', '212.21', '208.18', '207.79', '207.37', '206.82', '209.83', '203.47', '202.64', '204.44', '207.68', '212.45', '211.86', '210.58', '209.29', '204.04', '204.6', '198.12', '201.04', '204.99', '206.99', '211.94', '212.13', '218.87', '221.08', '214.91', '214.87', '213.74', '213.63', '218.45', '223.14', '222.18', '219.71', '217.9', '222.6', '221.3', '225.88', '226.64', '225.34', '224.95', '228.32', '228.08', '226.74', '229.06', '230.91', '229.77', '222.22', '222.42', '221.76', '229.97', '232.39', '234.13', '235.45', '233.77', '232.8', '232.14', '230.6', '227.65', '226.28', '228.53', '230.42', '229.08', '231.75', '235.23', '235.83', '237.32', '238.53', '243.9', '245.61', '245.48', '248.25', '249.28', '248.98', '248.14', '245.99', '249.02', '249.02', '247.68', '243.36', '242.05', '244.02', '249.12', '258.51', '256.83', '257.87', '261.76', '262.79', '267.39', '264.69', '274.65', '275.77', '275.58', '275.27', '276.77', '276.57', '276.83', '273.87', '269.88', '275.25', '267.79', '266.73', '268.38', '269.89', '274.05', '275.27', '280.97', '283.1', '284.99', '283.64', '285.74', '287.85', '288.46', '288.04', '286.21', '284.7', '290.88', '291.25', '292.58', '289.59', '291.21', '294.64', '293.46', '292.58', '292.21', '292.83', '293.23', '294.22', '295.45', '294.96', '297.57', '296.27', '298.58', '296.67', '297.91', '299.04', '300.26', '305.53', '308.93', '311.12', '309.39', '311.05', '309.68', '313.06', '311.68', '303.83', '296.75', '300.71', '300.25', '294.94', '293.25', '294.63', '289.71', '293.52', '289.91', '291.2', '274.73', '269.73', '270.94', '270.78', '266.88', '264.71', '266.24', '265.29', '270.14', '263.13', '265.38', '266.47', '267.95', '266.96', '267.93', '266.29', '270.38', '268.83', '271.34', '270.11', '271.13', '267.27', '265.47', '262.95', '263.14', '266.08', '270.26', '272.39', '277.02', '281.82', '280.96', '279.81', '287.94', '290.28', '289.48', '281.31', '282.32', '282.5', '282.92', '279.72', '278.47', '274.23', '278.39', '281.16', '281.06', '280.94', '283.07', '283.28', '285.22', '283.83', '281.49', '283.46', '282.83', '286.08', '293.09', '294.21', '297.35', '274.8', '274.77', '277.24', '276.87', '273.26', '272.22', '265.55', '264.26', '264.33', '265.73', '262.58', '265.03', '252.93', '254.63', '249.09', '246.32', '260.56', '254.27', '252.44', '255.18', '253.51', '253.73', '248.94', '246.97', '237.27', '235.79', '238.34', '238.3', '237.5', '244.98', '242.57', '240.94', '246.44', '252.55', '249.11', '242.52', '242.15', '236.77', '243.26', '244.01', '241.35', '248.75', '250.38', '249.79', '249.76', '244.04', '242.88', '240.78', '237.31', '236.1', '235.8', '226.9', '222.25', '219.53', '218.06', '217.82', '224.87', '228.05', '233.51', '237.68', '244.36', '245.42', '246.76', '229.57', '232.86', '240.55', '238.51', '242.16', '244.78', '244.24', '246.07', '241.93', '242.25', '242.18', '244.96', '244.67', '252.91', '253.8', '249.86', '252.42', '251.6', '245.62', '245.76', '242.93', '242.55', '245.01', '240.83', '233.75', '230.78', '231.8', '225.47', '227.08', '225.26', '229.19', '226.12', '224.78', '229.94', '231.36', '234.91', '231.97', '235.05', '237.85', '237.83', '240.89', '239.97', '240.08', '240.29', '244.83', '253.89', '256.47', '257.74', '256.48', '263.38', '264.94', '263.32', '263.58', '262.63', '262.55', '260.91', '268.85', '266.91', '264.74', '267.91', '269.15', '270.42', '271.38', '270.19', '300.42', '308.55', '303.61', '303.69', '305.69', '305.96', '307.94', '308.99', '307.93', '308.98', '306.54', '307.19', '307.49', '309.78', '311.82', '312.23', '313.07', '312.1', '311.13', '308.29', '301.34', '297.44', '291.57', '291.48', '297.98', '295.12', '295.31', '291.21', '297.19', '294.7', '290.76', '277.58', '281.89', '285.62', '286.21', '288.89', '293.28', '294.97', '295.45', '295.81', '297.01', '297.16', '294.85', '295.56', '295.1', '297.23', '301.23', '302.44', '301.81', '300.89', '299.16', '300.2', '299.13', '296.69', '301.87', '300.76', '304.23', '306.44', '307.91', '306.8', '307.7', '308.13', '308.04', '311.78', '319.5', '315.56', '313.07', '305.61', '305.23', '309.65', '307.94', '308.09', '300.19', '299.88', '305.21', '305.69', '304.77', '305.18', '306.84', '308.88', '307.94', '307.91', '311.94', '313.76', '311.76', '311.8', '312.32', '314.72', '304.8', '305.35', '304.11', '304.71', '306.39', '300.08', '300.09', '304.48', '300.01', '295.53', '295.86', '295.59', '289.86', '288.07', '284.71', '284.5', '278.27', '280.4', '280.25', '287.96', '288.37', '290.79', '293.15', '289.58', '287.39', '290.57', '290.63', '293.09', '295.6', '293.55', '284.26', '286.8', '289.71', '288.79', '288.4', '285.02', '287.85', '288.97', '265.08', '263.16', '260.5', '262.6', '262.29', '262.26', '266.14', '268.61', '268.72', '271.78', '269.01', '266.68', '267.63', '266.87', '267.38', '268.57', '271.06', '267.46', '267.26', '264.51', '258.95', '264.96', '264.64', '265.36', '261.75', '258.94', '258.87', '259.58', '258.81', '260.19', '264.25', '262.54', '263.77', '261.28', '260.27', '259.26', '259.33', '258.11', '254.5', '252.11', '253.93', '251.22', '249.93', '242.27', '242.05', '246.25', '243.26', '239.87', '237.2', '241.2', '246.58', '248.54', '252.94', '260.25', '265.95', '267.41', '273.03', '265.73', '263.38', '266.74', '268.86', '264.21', '298.51', '297.17', '300.97', '297.38', '303.19', '308.81', '309.18', '310.95', '303.31', '305.16', '301.54', '303.08', '296.77', '300.28', '288.47', '289.23', '272.74', '286.42', '274.23', '280.78', '281.6', '278.34', '269.23', '266.31', '252.19', '245.21', '248.84', '259.15', '261.38', '259.76', '263.17', '269.27', '270.08', '270.21', '265.98', '262.16', '260.83', '266.75', '267.21', '262.16', '264.79', '264.5', '265.77', '271.01', '273.07', '273.06', '273.04', '269.33', '260.07', '262.49', '265.68', '269.4', '264.16', '263.49', '257.26', '247.51', '250.7', '252.1', '257.1', '257.3', '268.32', '271.32', '273.98', '279.22', '295.54', '290.91', '294.96', '290.06', '291.54', '294.95', '297.91', '291.29', '292.86', '299.04', '299.77', '296.02', '289.04', '292.12', '298.45', '297.77', '303.86', '305.86', '300.17', '297.24', '303.87', '306.19', '307.97', '305.43', '300.13', '297.14', '290.18', '289.71', '284.77', '281.22', '293.8', '291.17', '299.4', '306.58', '309.87', '312.51', '311.57', '311.38', '307.72', '313.4', '312.38', '312.5', '308.73', '309.46', '312.67', '310.6', '314.87', '312.6', '314.54', '316.25', '319.8', '319.53', '320.88', '322.63', '332.37', '333.81', '329.18', '324.68', '310.92', '311.26', '312.67', '314.51', '312.18', '313.98', '316.14', '319.47', '292.7', '292.47', '290.17', '284.46', '283.77', '289.7', '288.56', '289.76', '290.12', '292.26', '297.87', '304.24', '303.08', '304.62', '305.42', '302.65', '305.79', '304.58', '302.48', '302.96', '302.02', '306.69', '303.67', '302.75', '304.65', '304.35', '308.89', '308.82', '310.89', '310.31', '306.82', '302.18', '303.1', '303.27', '299.82', '302.27', '308.58', '307.69', '310.25', '312.21', '316.67', '316.43', '319.67', '322.7', '320.97', '324.34', '323.19', '327.55', '323.88', '320.3', '323.14', '320.99', '317.26', '315.84', '315.1', '313.12', '317.66', '325.18', '311.99', '302.73', '304.48', '303.42', '299.35', '297.73', '298.5', '300.33', '304.56', '307.43', '307.18', '302.12', '301.91', '303.33', '305.2', '298.19', '303.47', '306.09', '304.27', '306.52', '302.31', '301.7', '305.25', '314.15', '311.21', '299.9', '306.75', '300.1', '304.43', '301.53', '295.47', '296.87', '293.82', '290.14', '285.2', '289.01', '284.92', '289.99', '288.83', '289.93', '283.97', '282.27', '280.26', '279.25', '281.97', '285.14', '290.47', '288.47', '282.32', '285.45', '280.07', '282.06', '284.36', '281.87', '289.74', '289.94', '293.62', '297.66', '292.7', '292.71', '290.56', '285.31', '284.95', '287.97', '287.17', '288.08', '290.09', '296.23', '305.1', '307.45', '303.48', '303.69', '306.37', '317.16', '315.83', '316.17', '316.02', '314.06', '320.34', '321.09', '319.95', '320.79', '320.85', '320.68', '329.67', '334', '333.44', '336.1', '338.23', '337.43', '334.42', '338.25', '338.06', '338.98', '334.28', '338.29', '343.66', '340.5', '342.2', '340.18', '340.02', '349.35', '352.72', '350.03', '345.75', '345.1', '352.67', '354.49', '354.64', '358.78', '363.39', '363.69', '366.63', '374.32', '374.21', '376.35', '377.87', '376.87', '380.51', '378.12', '380.87', '383.64', '383.44', '378.54', '371.67', '371.91', '375.36', '372', '370.12', '371.98', '377.37', '347.15', '340.55', '339', '339.83', '338.31', '338.54', '337.24', '339.81', '343.45', '343.62', '341.14', '340.52', '333.23', '325.82', '331.18', '332.62', '329.2', '325.95', '323.31', '323.27', '333.77', '334.65', '332.6', '333.65', '330.24', '335.02', '341.49', '345.6', '348.84', '347.28', '345.17', '343.57', '345.22', '341.76', '342.37', '348.09', '348.43', '351', '350.63', '360.03', '360.17', '359.69', '360.82', '357.46', '354.4', '354.08', '352.79', '349.65', '353.34', '361.26', '361.47', '368.62', '367.01', '366.28', '368.69', '370.37', '369.62', '361.26', '362.1', '357.24', '355.3', '351.9', '351.08', '370.38', '376.54', '376.46', '374.99', '376.46', '376.54', '377.47', '387.4', '379.13', '382.49', '384.7', '386.59', '392.29', '390.82', '389.96', '391.04', '393.52', '396.05', '403.02', '395.83', '397.37', '399.46', '394.99', '394.67', '399.49', '400.2', '402.69', '410.34', '418.88', '415.27', '415.88', '415.34', '416.99', '413.39', '412.24', '410.36', '406.74', '403.49', '405.25', '406.95', '405.22', '404.75', '404.42', '405.8', '400.93', '396.7', '400.19', '406.11', '402.7', '397.14', '391.13', '387.04', '388.44', '394.69', '394.8', '394.63', '390.57', '396.29', '390.89', '382.57', '399.54', '399.66', '403.55', '406.32', '404.15', '400.31', '409.12', '411.87', '409.8', '414.39', '422.44', '430.34', '428.19', '436.38', '435.3', '439.67', '438.33', '443.11', '457.49', '451.48', '454.14', '453.81', '453.03', '444.27', '440.95', '436.22', '440.19', '433.72', '434.94', '435.17', '433.38', '429.12', '429.42', '431.89', '439.43', '444.66', '439.47', '435.55', '438.06', '437.08', '442.68', '449.86', '449.89', '441.93', '440.02', '434.46', '432.67', '436.39', '438.1', '439.74', '443.5', '440.71', '442.77', '446.3', '452.09', '452.17', '452.54', '459.66', '461.04', '461.88', '459.34', '458.82', '454.88', '447.85', '454.89', '451.45', '451', '443.41', '442.23', '440.69', '445.01', '443.43', '451.66', '452.83', '452.05', '447.84', '444.88', '445.88', '444.76', '442.31', '440.18', '434.47', '429.4', '428.03', '432.39', '432.28', '434.23', '436.42', '434.67', '432.76', '424.65', '423.85', '427.29', '423.03', '429.76', '435.38', '439.34', '439.35', '443.58', '443.89', '447.65', '446.08', '444.09', '443.44', '442.61', '451.21', '448.75', '451.1', '442.81', '442.98', '438.18', '438.65', '437.76', '437.52', '443.06', '443.55', '437.61', '435.74', '432.44', '426.41', '427.5', '433.69', '435.56', '437.62', '440.56', '448.56', '443.95', '505.2', '501.15', '503', '515.19', '512.26', '507.09', '506.99', '517.6', '514.69', '514.77', '513.01', '512.54', '510.25', '510.86', '503.47', '507.51', '504.79', '505.38', '515.72', '517.1', '516.26', '515.26', '512.09', '510.64', '516.52', '515.43', '522.44', '528.68', '531.02', '529.27', '526.71', '526.1', '528.56', '528.14', '534.4', '538.53', '541.79', '538.11', '534.45', '529.86', '535.95', '534.4', '541.83', '542.57', '549.76', '556.99', '555.36', '558.17', '558.64', '554.18', '559.79', '556', '551.95', '558.1', '568.86', '570.04', '564.55', '564.52', '560.93', '574.13', '573.74', '577.53', '574.69', '581.27', '581.93', '579.47', '561.35', '550.06', '560.94', '552.91', '567.13', '589.89', '566.15', '568.51', '571.03', '579.4', '588.13', '585.88', '594.49', '592.75', '599.35', '600.8', '604.83', '600.57', '601.45', '601.29', '605.65', '609.39', '609.47', '609', '607.22', '600.74', '606.85', '608.52', '609.2', '606.79', '605.18', '599.4', '603.05', '593.94', '585.81', '595.45', '605.02', '599.03', '597.98', '590.93', '578.39', '578.78', '565.42', '556.58', '559.51', '556.7', '566.88', '566.98', '569.74', '543.14', '538.15', '554.9', '564.14', '540.95', '530.6', '532.52', '536.44', '556.54', '536.1', '528.62', '534.81', '526.94', '525.16', '516.18', '517.15', '527.7', '526.66', '531.35', '527.93', '527.81', '515.14', '509.96', '511', '518.73', '529.92', '533.09', '526.65', '519.98', '520.63', '528.86', '529.77', '538.94', '545.06', '552.7', '565.95', '561.68', '560.08', '559.89', '553.93', '544.94', '544.66', '553.9', '556.33', '562.12', '560.55', '558.84', '551.35', '551.76', '544.28', '543.01', '553.37', '554.9', '556.36', '564.95', '564.62', '578.65', '576', '577.24', '575.28', '582.67', '582.34', '584.73', '582.25', '571.09', '576.08', '571.1', '579.18', '584.87', '584.78', '582.66', '573.73', '595.08', '589.47', '594.74', '595.98', '593.35', '589.02', '590.6', '585.61', '587.42', '571.6', '566.07', '573.15', '565.07', '566.37', '563.36', '568.77', '567.88', '562.73', '574.78', '574.65', '573.48', '582.16', '586.86', '584.49', '583.37', '582.56', '580.2', '577.86', '571', '569.2', '571.6', '577.33', '577.94', '581.98', '586.08', '589.72', '581.01', '583.1', '581.35', '575.62', '573.1', '579.95', '584.77', '589.27', '596.08', '587.37', '581.13', '587.99', '575.06', '577.1', '576.36', '577.36', '568.27', '570.08', '575.28', '577.35', '563.74', '572.5', '560.88', '544.49', '533.21', '537.94', '530.03', '524.51', '511.17', '520.84', '526.54', '532.71', '543.98', '539.78', '540.77', '548.9', '549.33', '550.31', '559.08', '555.22', '554.11', '545.92', '542.04', '541.01', '547.49', '550.29', '547.31', '545.38', '544.4', '536.51', '535.03', '536.99', '534.83', '537.5', '539.27', '541.08', '540.37', '541.83', '533.8', '533.75', '531.32', '537.31', '525.26', '526.98', '533.37', '526.06', '528.34', '518.66', '513.8', '495.39', '504.89', '511.1', '516.35', '524.87', '530.59', '528.77', '534.03', '530.33', '530.42', '526.4', '524.81', '513.87', '501.96', '501.1', '502.68', '496.17', '492.55', '496.18', '500.87', '501.79', '508.08', '506.9', '518.04', '534.39', '539.95', '535.21', '518.63', '510', '510.66', '534.52', '528.48', '529.24', '522.76', '527.58', '531', '527.83', '536.94', '535.97', '542.93', '549.01', '542.84', '539.7', '542.87', '538.95', '531.91', '536.09', '543.87', '555.48', '558.4', '571.34', '573.64', '573.37', '575.33', '567.68', '568.85', '555.01', '551.18', '555.51', '547.32', '554.51', '550.84', '559.5', '557.99', '560.36', '558.81', '570.19', '558.78', '555.17', '548.34', '552.03', '548', '542.56', '535.53', '536.76', '537.02', '541.61', '540.78', '540.01', '539.17', '530.39', '532.53', '533.8', '524.05', '535.38', '533.97', '539.36', '547', '565.06', '555.37', '553.68', '549.08', '537.34', '537.9', '540.78', '530.8', '524.22', '530.7', '538.22', '535.7', '529.04', '529.62', '538.4', '533.85', '532.3', '537.36', '539.27', '542.51', '540.11', '532.32', '539.79', '539.78', '532.11', '533.99', '539.18', '540.31', '536.7', '533.33', '526.83', '526.69', '536.69', '534.61', '532.33', '527.2', '528.15', '529.26', '536.73', '536.69', '538.19', '540.48', '537.84', '535.23', '531.69', '521.52', '520.51', '521.84', '523.4', '522.86', '525.02', '516.83', '520.68', '530.13', '546.55', '561.1', '560.22', '579.85', '672.93', '663.02', '662.3', '662.1', '644.28', '623.56', '627.26', '628', '631.93', '632.59', '625.61', '631.21', '629.25', '643.78', '642.68', '635.3', '633.73', '660.78', '659.56', '656.45', '657.12', '660.87', '656.13', '660.9', '646.83', '612.48', '589.61', '582.06', '628.62', '637.61', '630.38', '618.25', '597.79', '614.34', '606.25', '600.7', '614.66', '612.72', '621.35', '625.77', '623.24', '635.14', '635.98', '642.9', '629.25', '635.44', '622.69', '622.36', '625.8', '611.97', '594.89', '594.97', '608.42', '611.29', '626.91', '641.47', '645.44', '642.36', '639.16', '643.61', '646.67', '652.3', '651.16', '661.74', '662.2', '666.1', '650.28', '642.61', '651.79', '702', '712.78', '708.49', '712.95', '716.92', '710.81', '721.11', '722.16', '728.11', '731.25', '733.76', '724.89', '728.32', '735.4', '731.23', '717', '728.96', '725.3', '740', '738.41', '756.6', '755.98', '748.28', '748.15', '750.26', '742.6', '767.04', '762.38', '752.54', '766.81', '763.25', '762.37', '751.61', '749.46', '738.87', '747.77', '743.4', '758.09', '749.43', '739.31', '747.77', '750', '750.31', '748.4', '762.51', '776.6', '771', '758.88', '741.84', '742.58', '743.62', '726.39', '714.47', '716.03', '726.07', '700.56', '714.72', '694.45', '701.79', '698.45', '706.59', '725.25', '711.67', '713.04', '699.99', '730.96', '742.95', '752', '764.65', '726.95', '708.01', '683.57', '682.74', '678.11', '684.12', '683.11', '682.4', '691', '708.4', '697.35', '700.91', '706.46', '695.85', '699.56', '705.75', '705.07', '697.77', '718.81', '718.85', '712.42', '710.89', '695.16', '693.97', '705.24', '712.82', '726.82', '730.49', '728.33', '736.09', '737.78', '737.6', '742.09', '740.75', '738.06', '735.3', '733.53', '744.77', '750.53', '744.95', '749.91', '745.29', '737.8', '745.69', '740.28', '739.15', '736.1', '743.09', '751.72', '753.2', '759', '766.61', '753.93', '752.67', '759.14', '718.77', '723.15', '708.14', '705.84', '691.02', '693.01', '698.21', '692.36', '695.7', '701.43', '711.12', '712.9', '723.18', '715.29', '713.31', '710.83', '716.49', '706.23', '706.63', '700.32', '709.74', '704.24', '720.09', '725.27', '724.12', '732.66', '735.72', '734.15', '730.4', '722.34', '716.55', '716.65', '728.28', '728.58', '719.41', '718.36', '718.27', '718.92', '710.36', '691.72', '693.71', '695.94', '697.46', '701.87', '675.22', '668.26', '680.04', '684.11', '692.1', '699.21', '694.49', '697.77', '695.36', '705.63', '715.09', '720.64', '716.98', '720.95', '719.85', '733.78', '736.96', '741.19', '738.63', '742.74', '739.77', '738.42', '741.77', '745.91', '768.79', '772.88', '771.07', '773.18', '771.61', '782.22']\n",
            "[50.12, 54.1, 54.65, 52.38, 52.95, 53.9, 53.02, 50.95, 51.13, 50.07, 50.7, 49.95, 50.74, 51.1, 51.1, 52.61, 53.7, 55.69, 55.94, 56.93, 58.69, 59.62, 58.86, 59.13, 60.35, 59.86, 59.07, 63.37, 65.47, 64.74, 66.22, 67.46, 69.12, 68.47, 69.36, 68.8, 67.56, 68.63, 70.38, 70.93, 71.98, 74.51, 73.9, 70.17, 74.62, 86.13, 93.61, 90.81, 92.89, 96.55, 95.22, 97.92, 97.34, 95.74, 92.26, 84.59, 86.19, 84.27, 83.85, 91.42, 90.91, 92.34, 86.19, 86.16, 83.69, 84.62, 82.47, 83.68, 87.29, 89.61, 90.43, 90.9, 89.89, 89.61, 90.11, 88.06, 85.63, 84.91, 86.63, 85.74, 85.14, 89.26, 89.8, 88.15, 89.95, 92.42, 91.78, 93.06, 93.86, 95.86, 96.28, 96.35, 98.7, 96.3, 101.25, 97.15, 96.66, 94.18, 96.83, 97.43, 96.67, 97.59, 97.57, 99.89, 101.85, 98.55, 96.86, 94.05, 90.27, 88.47, 94.53, 93.95, 95.07, 97.71, 95.85, 102.88, 105.32, 102.08, 97.92, 99.22, 95.69, 93.9, 93.61, 96.4, 97.52, 99.11, 98.85, 98.88, 95.59, 96.88, 94.35, 92.84, 93.9, 92.94, 92.5, 93.41, 92.86, 94.31, 92.51, 90.58, 89.9, 88.81, 87.41, 89.22, 87.71, 89.56, 89.93, 90.35, 89.21, 89.4, 89.54, 90.62, 89.7, 90.13, 90.16, 89.93, 92.55, 94.19, 94.52, 96.78, 95.93, 96.52, 96.88, 96.37, 95.63, 92.41, 93.39, 95.6, 98.95, 102.01, 107.8, 111.65, 109.27, 109.78, 109.62, 109.89, 111.03, 112.98, 114.14, 113.38, 113.9, 112.9, 113.79, 115.53, 114.25, 114.51, 115.41, 116.45, 119.46, 119.47, 120.68, 127.6, 127.87, 130.27, 129.47, 132.87, 138.5, 143.86, 143.81, 139.99, 145.32, 146.41, 139.64, 143.01, 141.11, 141.23, 139.04, 137.26, 138.58, 140.0, 143.21, 143.78, 144.51, 144.71, 148.48, 151.9, 150.85, 146.21, 146.93, 145.48, 147.71, 145.62, 147.62, 147.97, 146.53, 145.75, 149.28, 150.29, 150.44, 149.62, 154.8, 155.84, 156.81, 151.05, 147.78, 147.9, 148.32, 146.6, 143.74, 145.66, 149.45, 148.5, 148.72, 146.03, 145.48, 145.64, 142.7, 141.88, 144.72, 141.86, 142.68, 142.41, 139.86, 139.86, 136.87, 139.65, 141.14, 141.15, 141.65, 144.08, 143.49, 142.86, 142.98, 144.08, 143.41, 147.29, 147.55, 149.4, 154.72, 155.68, 151.35, 151.16, 149.95, 151.74, 153.8, 155.79, 155.53, 157.52, 156.98, 156.81, 152.85, 154.66, 158.07, 159.18, 155.34, 155.2, 156.22, 156.34, 155.17, 152.9, 150.33, 148.57, 147.92, 152.35, 151.49, 154.2, 151.45, 169.78, 174.15, 173.28, 177.54, 176.35, 178.91, 185.88, 189.5, 189.65, 192.78, 195.02, 197.32, 194.76, 189.39, 195.35, 195.0, 198.29, 196.2, 198.88, 201.52, 199.9, 204.48, 208.03, 211.22, 214.1, 211.53, 201.57, 202.25, 206.84, 208.64, 202.72, 202.07, 201.91, 205.12, 204.4, 206.1, 208.54, 209.27, 211.05, 214.86, 212.09, 214.66, 212.95, 215.8, 215.25, 212.11, 213.13, 209.86, 207.22, 217.4, 222.4, 225.39, 232.6, 233.22, 234.65, 235.58, 231.58, 232.89, 233.32, 222.23, 218.0, 199.53, 213.54, 221.29, 216.28, 216.92, 216.53, 213.2, 216.11, 200.69, 197.82, 190.59, 192.36, 183.78, 184.36, 179.21, 181.12, 172.68, 171.49, 171.02, 183.05, 184.19, 183.11, 182.56, 188.85, 188.51, 194.99, 181.13, 182.22, 188.04, 188.9, 183.87, 182.04, 176.76, 171.33, 168.58, 168.36, 175.4, 172.08, 169.22, 169.73, 173.92, 169.79, 169.94, 170.77, 182.72, 184.66, 188.41, 197.29, 194.03, 194.8, 194.66, 201.97, 203.79, 205.38, 202.88, 207.98, 204.63, 204.27, 200.88, 203.21, 201.92, 205.04, 207.29, 218.33, 220.03, 213.37, 212.77, 209.8, 208.76, 199.25, 197.2, 196.89, 197.18, 196.95, 197.19, 204.2, 201.29, 193.31, 186.88, 187.91, 185.46, 187.06, 185.31, 184.82, 185.29, 187.6, 190.43, 191.3, 190.48, 185.78, 185.72, 191.12, 189.53, 187.03, 194.8, 193.06, 196.45, 193.09, 190.58, 193.07, 192.0, 195.3, 195.15, 193.88, 193.39, 200.86, 199.78, 202.23, 201.91, 200.96, 202.85, 208.7, 209.46, 211.39, 210.52, 211.38, 210.01, 208.89, 212.07, 208.42, 204.21, 201.55, 203.74, 201.32, 199.3, 193.37, 194.86, 195.25, 194.49, 192.56, 191.01, 193.87, 193.11, 187.57, 183.43, 187.51, 186.74, 188.79, 190.31, 188.28, 186.91, 184.07, 184.53, 190.29, 193.67, 192.71, 191.49, 188.46, 188.96, 186.53, 186.68, 186.44, 190.28, 189.29, 190.18, 189.08, 189.11, 191.99, 189.88, 189.06, 188.74, 191.85, 195.75, 203.08, 201.79, 204.74, 207.14, 201.7, 198.3, 203.22, 201.69, 201.79, 203.23, 201.26, 201.59, 200.75, 200.52, 201.82, 207.64, 205.7, 210.04, 214.29, 213.11, 213.04, 213.51, 213.44, 210.66, 210.11, 209.44, 212.82, 229.61, 240.15, 236.42, 243.06, 242.31, 237.36, 238.05, 237.96, 233.52, 234.72, 235.66, 238.24, 236.05, 237.26, 236.08, 236.54, 240.27, 244.41, 245.72, 247.7, 249.15, 247.28, 254.57, 253.75, 252.2, 242.13, 244.51, 242.08, 242.16, 240.16, 242.18, 243.26, 244.11, 241.08, 241.81, 241.72, 240.65, 239.26, 240.82, 239.91, 231.17, 234.08, 231.22, 227.87, 227.56, 228.54, 233.78, 231.05, 230.01, 233.56, 241.39, 243.35, 241.55, 242.51, 244.49, 249.61, 252.25, 251.89, 248.39, 243.67, 244.63, 240.18, 239.29, 249.28, 243.8, 247.67, 245.99, 246.91, 250.5, 240.63, 240.51, 233.35, 235.5, 234.77, 235.28, 230.71, 228.92, 229.32, 232.73, 230.5, 234.74, 235.81, 237.69, 237.69, 235.07, 232.23, 224.16, 224.5, 223.89, 219.12, 220.25, 228.55, 227.59, 227.13, 226.25, 227.15, 221.29, 223.78, 222.87, 220.2, 223.39, 222.42, 228.05, 230.79, 230.68, 232.27, 231.58, 230.71, 230.23, 228.85, 229.04, 236.06, 235.27, 235.52, 233.87, 233.02, 232.03, 233.46, 232.91, 236.9, 236.16, 237.77, 235.59, 241.0, 239.3, 238.53, 238.76, 240.35, 239.27, 235.45, 234.27, 232.66, 236.38, 235.32, 233.4, 233.17, 234.39, 230.5, 233.14, 230.66, 228.77, 236.07, 235.24, 234.92, 235.06, 237.69, 236.75, 236.93, 241.52, 243.31, 249.05, 248.71, 249.95, 253.28, 259.16, 258.87, 257.27, 257.49, 255.41, 252.13, 252.37, 251.17, 252.69, 257.34, 256.9, 254.73, 256.8, 262.23, 263.45, 264.86, 262.88, 262.24, 261.09, 264.92, 266.9, 270.54, 269.43, 271.01, 271.4, 271.96, 272.39, 275.8, 276.22, 277.22, 274.48, 274.02, 259.8, 256.0, 256.74, 254.63, 253.75, 255.69, 257.8, 254.74, 256.21, 255.25, 251.25, 254.74, 257.75, 262.63, 257.11, 257.62, 257.49, 254.05, 248.53, 245.51, 249.77, 248.71, 253.05, 256.12, 255.84, 257.24, 256.37, 252.95, 256.18, 255.44, 257.37, 262.31, 263.64, 261.5, 259.42, 256.98, 260.4, 261.06, 262.13, 264.11, 262.39, 267.37, 273.15, 276.14, 279.77, 283.73, 284.22, 283.8, 283.47, 283.35, 290.98, 291.9, 291.72, 289.23, 296.73, 304.51, 307.28, 312.38, 310.69, 318.38, 309.74, 307.69, 316.42, 319.49, 322.03, 325.05, 337.55, 337.57, 333.92, 336.96, 339.28, 347.04, 353.15, 351.25, 355.27, 362.46, 370.52, 366.1, 346.57, 331.65, 315.72, 329.94, 320.52, 314.51, 316.5, 312.61, 323.95, 329.93, 338.01, 332.7, 336.45, 345.78, 348.15, 346.15, 340.42, 341.74, 348.91, 357.27, 357.08, 358.85, 349.25, 349.33, 346.68, 344.64, 334.28, 336.34, 338.35, 344.5, 348.0, 350.01, 355.06, 350.02, 350.91, 345.39, 342.25, 342.32, 328.17, 324.3, 315.52, 326.27, 323.04, 318.81, 326.58, 318.51, 307.67, 300.09, 299.82, 291.88, 274.04, 286.96, 282.92, 277.71, 274.98, 273.86, 281.87, 257.69, 247.47, 253.15, 250.6, 252.22, 258.09, 260.32, 258.79, 267.04, 265.86, 264.56, 254.22, 254.25, 251.18, 253.65, 242.98, 231.86, 236.19, 237.46, 235.35, 228.28, 222.08, 223.63, 216.13, 216.46, 206.6, 219.7, 219.87, 221.28, 218.74, 209.73, 219.36, 215.78, 216.56, 230.05, 225.16, 228.87, 221.82, 218.82, 220.01, 232.62, 232.62, 227.33, 235.31, 238.17, 233.67, 231.86, 234.3, 228.5, 225.6, 223.2, 227.29, 224.55, 269.44, 268.63, 277.22, 272.97, 271.25, 271.76, 275.78, 278.96, 286.86, 296.24, 290.35, 297.15, 292.89, 289.21, 291.21, 286.3, 292.18, 291.21, 287.86, 290.21, 289.74, 288.47, 289.01, 274.72, 274.46, 272.04, 280.17, 283.84, 291.21, 292.61, 287.21, 283.37, 285.82, 292.86, 283.22, 278.66, 276.81, 272.33, 276.2, 285.47, 286.12, 284.45, 280.91, 279.82, 272.94, 272.33, 270.88, 275.22, 264.15, 263.77, 262.95, 267.1, 263.26, 268.23, 271.68, 276.99, 270.5, 270.02, 266.63, 260.55, 257.79, 267.53, 266.45, 240.42, 234.17, 238.32, 244.37, 237.57, 245.74, 238.32, 241.31, 241.11, 236.64, 233.7, 231.27, 239.69, 242.93, 239.32, 247.26, 250.17, 251.05, 249.76, 252.49, 254.82, 248.9, 245.0, 242.26, 243.02, 245.05, 241.26, 236.84, 234.06, 236.65, 231.41, 232.39, 231.97, 224.9, 221.9, 209.76, 209.12, 206.87, 216.66, 218.61, 216.71, 221.24, 207.04, 219.32, 224.35, 214.85, 214.42, 217.34, 219.58, 215.3, 190.31, 200.06, 205.65, 195.05, 193.26, 185.42, 172.83, 168.89, 164.33, 165.83, 190.32, 181.17, 169.42, 176.33, 186.08, 189.47, 181.19, 177.66, 175.98, 169.48, 164.58, 184.19, 178.82, 179.67, 179.5, 173.07, 183.29, 170.95, 165.44, 165.4, 159.23, 155.57, 145.35, 155.88, 154.85, 149.91, 148.56, 139.95, 129.65, 131.08, 128.59, 140.88, 145.9, 146.33, 132.86, 137.42, 139.58, 137.03, 141.85, 150.9, 152.83, 154.26, 149.96, 157.72, 155.18, 162.48, 157.46, 154.98, 154.93, 148.41, 148.86, 151.32, 150.03, 148.56, 151.4, 153.67, 160.5, 163.86, 166.86, 160.84, 162.43, 157.38, 156.19, 157.0, 150.33, 149.35, 149.69, 141.23, 151.39, 153.1, 162.19, 161.77, 165.57, 174.16, 171.49, 169.1, 170.11, 170.05, 171.33, 176.68, 185.45, 189.2, 179.08, 178.84, 181.34, 178.66, 171.16, 176.38, 171.15, 173.05, 164.86, 172.55, 170.65, 168.42, 168.83, 163.42, 162.58, 159.3, 152.67, 154.13, 145.3, 153.93, 158.8, 161.6, 162.05, 159.69, 167.5, 166.38, 164.81, 164.91, 174.13, 173.41, 171.86, 176.47, 173.68, 171.17, 173.86, 176.87, 181.07, 184.71, 183.94, 179.15, 180.82, 186.06, 188.87, 184.27, 189.56, 194.18, 195.92, 189.46, 190.54, 191.74, 192.15, 194.55, 192.78, 191.66, 195.54, 197.79, 196.65, 200.79, 201.29, 201.53, 198.11, 203.46, 203.79, 199.31, 194.58, 193.56, 194.8, 198.22, 199.24, 198.39, 198.05, 196.55, 201.98, 202.58, 204.99, 208.41, 213.07, 213.99, 215.61, 219.92, 221.94, 219.17, 217.59, 216.08, 214.29, 212.21, 208.18, 207.79, 207.37, 206.82, 209.83, 203.47, 202.64, 204.44, 207.68, 212.45, 211.86, 210.58, 209.29, 204.04, 204.6, 198.12, 201.04, 204.99, 206.99, 211.94, 212.13, 218.87, 221.08, 214.91, 214.87, 213.74, 213.63, 218.45, 223.14, 222.18, 219.71, 217.9, 222.6, 221.3, 225.88, 226.64, 225.34, 224.95, 228.32, 228.08, 226.74, 229.06, 230.91, 229.77, 222.22, 222.42, 221.76, 229.97, 232.39, 234.13, 235.45, 233.77, 232.8, 232.14, 230.6, 227.65, 226.28, 228.53, 230.42, 229.08, 231.75, 235.23, 235.83, 237.32, 238.53, 243.9, 245.61, 245.48, 248.25, 249.28, 248.98, 248.14, 245.99, 249.02, 249.02, 247.68, 243.36, 242.05, 244.02, 249.12, 258.51, 256.83, 257.87, 261.76, 262.79, 267.39, 264.69, 274.65, 275.77, 275.58, 275.27, 276.77, 276.57, 276.83, 273.87, 269.88, 275.25, 267.79, 266.73, 268.38, 269.89, 274.05, 275.27, 280.97, 283.1, 284.99, 283.64, 285.74, 287.85, 288.46, 288.04, 286.21, 284.7, 290.88, 291.25, 292.58, 289.59, 291.21, 294.64, 293.46, 292.58, 292.21, 292.83, 293.23, 294.22, 295.45, 294.96, 297.57, 296.27, 298.58, 296.67, 297.91, 299.04, 300.26, 305.53, 308.93, 311.12, 309.39, 311.05, 309.68, 313.06, 311.68, 303.83, 296.75, 300.71, 300.25, 294.94, 293.25, 294.63, 289.71, 293.52, 289.91, 291.2, 274.73, 269.73, 270.94, 270.78, 266.88, 264.71, 266.24, 265.29, 270.14, 263.13, 265.38, 266.47, 267.95, 266.96, 267.93, 266.29, 270.38, 268.83, 271.34, 270.11, 271.13, 267.27, 265.47, 262.95, 263.14, 266.08, 270.26, 272.39, 277.02, 281.82, 280.96, 279.81, 287.94, 290.28, 289.48, 281.31, 282.32, 282.5, 282.92, 279.72, 278.47, 274.23, 278.39, 281.16, 281.06, 280.94, 283.07, 283.28, 285.22, 283.83, 281.49, 283.46, 282.83, 286.08, 293.09, 294.21, 297.35, 274.8, 274.77, 277.24, 276.87, 273.26, 272.22, 265.55, 264.26, 264.33, 265.73, 262.58, 265.03, 252.93, 254.63, 249.09, 246.32, 260.56, 254.27, 252.44, 255.18, 253.51, 253.73, 248.94, 246.97, 237.27, 235.79, 238.34, 238.3, 237.5, 244.98, 242.57, 240.94, 246.44, 252.55, 249.11, 242.52, 242.15, 236.77, 243.26, 244.01, 241.35, 248.75, 250.38, 249.79, 249.76, 244.04, 242.88, 240.78, 237.31, 236.1, 235.8, 226.9, 222.25, 219.53, 218.06, 217.82, 224.87, 228.05, 233.51, 237.68, 244.36, 245.42, 246.76, 229.57, 232.86, 240.55, 238.51, 242.16, 244.78, 244.24, 246.07, 241.93, 242.25, 242.18, 244.96, 244.67, 252.91, 253.8, 249.86, 252.42, 251.6, 245.62, 245.76, 242.93, 242.55, 245.01, 240.83, 233.75, 230.78, 231.8, 225.47, 227.08, 225.26, 229.19, 226.12, 224.78, 229.94, 231.36, 234.91, 231.97, 235.05, 237.85, 237.83, 240.89, 239.97, 240.08, 240.29, 244.83, 253.89, 256.47, 257.74, 256.48, 263.38, 264.94, 263.32, 263.58, 262.63, 262.55, 260.91, 268.85, 266.91, 264.74, 267.91, 269.15, 270.42, 271.38, 270.19, 300.42, 308.55, 303.61, 303.69, 305.69, 305.96, 307.94, 308.99, 307.93, 308.98, 306.54, 307.19, 307.49, 309.78, 311.82, 312.23, 313.07, 312.1, 311.13, 308.29, 301.34, 297.44, 291.57, 291.48, 297.98, 295.12, 295.31, 291.21, 297.19, 294.7, 290.76, 277.58, 281.89, 285.62, 286.21, 288.89, 293.28, 294.97, 295.45, 295.81, 297.01, 297.16, 294.85, 295.56, 295.1, 297.23, 301.23, 302.44, 301.81, 300.89, 299.16, 300.2, 299.13, 296.69, 301.87, 300.76, 304.23, 306.44, 307.91, 306.8, 307.7, 308.13, 308.04, 311.78, 319.5, 315.56, 313.07, 305.61, 305.23, 309.65, 307.94, 308.09, 300.19, 299.88, 305.21, 305.69, 304.77, 305.18, 306.84, 308.88, 307.94, 307.91, 311.94, 313.76, 311.76, 311.8, 312.32, 314.72, 304.8, 305.35, 304.11, 304.71, 306.39, 300.08, 300.09, 304.48, 300.01, 295.53, 295.86, 295.59, 289.86, 288.07, 284.71, 284.5, 278.27, 280.4, 280.25, 287.96, 288.37, 290.79, 293.15, 289.58, 287.39, 290.57, 290.63, 293.09, 295.6, 293.55, 284.26, 286.8, 289.71, 288.79, 288.4, 285.02, 287.85, 288.97, 265.08, 263.16, 260.5, 262.6, 262.29, 262.26, 266.14, 268.61, 268.72, 271.78, 269.01, 266.68, 267.63, 266.87, 267.38, 268.57, 271.06, 267.46, 267.26, 264.51, 258.95, 264.96, 264.64, 265.36, 261.75, 258.94, 258.87, 259.58, 258.81, 260.19, 264.25, 262.54, 263.77, 261.28, 260.27, 259.26, 259.33, 258.11, 254.5, 252.11, 253.93, 251.22, 249.93, 242.27, 242.05, 246.25, 243.26, 239.87, 237.2, 241.2, 246.58, 248.54, 252.94, 260.25, 265.95, 267.41, 273.03, 265.73, 263.38, 266.74, 268.86, 264.21, 298.51, 297.17, 300.97, 297.38, 303.19, 308.81, 309.18, 310.95, 303.31, 305.16, 301.54, 303.08, 296.77, 300.28, 288.47, 289.23, 272.74, 286.42, 274.23, 280.78, 281.6, 278.34, 269.23, 266.31, 252.19, 245.21, 248.84, 259.15, 261.38, 259.76, 263.17, 269.27, 270.08, 270.21, 265.98, 262.16, 260.83, 266.75, 267.21, 262.16, 264.79, 264.5, 265.77, 271.01, 273.07, 273.06, 273.04, 269.33, 260.07, 262.49, 265.68, 269.4, 264.16, 263.49, 257.26, 247.51, 250.7, 252.1, 257.1, 257.3, 268.32, 271.32, 273.98, 279.22, 295.54, 290.91, 294.96, 290.06, 291.54, 294.95, 297.91, 291.29, 292.86, 299.04, 299.77, 296.02, 289.04, 292.12, 298.45, 297.77, 303.86, 305.86, 300.17, 297.24, 303.87, 306.19, 307.97, 305.43, 300.13, 297.14, 290.18, 289.71, 284.77, 281.22, 293.8, 291.17, 299.4, 306.58, 309.87, 312.51, 311.57, 311.38, 307.72, 313.4, 312.38, 312.5, 308.73, 309.46, 312.67, 310.6, 314.87, 312.6, 314.54, 316.25, 319.8, 319.53, 320.88, 322.63, 332.37, 333.81, 329.18, 324.68, 310.92, 311.26, 312.67, 314.51, 312.18, 313.98, 316.14, 319.47, 292.7, 292.47, 290.17, 284.46, 283.77, 289.7, 288.56, 289.76, 290.12, 292.26, 297.87, 304.24, 303.08, 304.62, 305.42, 302.65, 305.79, 304.58, 302.48, 302.96, 302.02, 306.69, 303.67, 302.75, 304.65, 304.35, 308.89, 308.82, 310.89, 310.31, 306.82, 302.18, 303.1, 303.27, 299.82, 302.27, 308.58, 307.69, 310.25, 312.21, 316.67, 316.43, 319.67, 322.7, 320.97, 324.34, 323.19, 327.55, 323.88, 320.3, 323.14, 320.99, 317.26, 315.84, 315.1, 313.12, 317.66, 325.18, 311.99, 302.73, 304.48, 303.42, 299.35, 297.73, 298.5, 300.33, 304.56, 307.43, 307.18, 302.12, 301.91, 303.33, 305.2, 298.19, 303.47, 306.09, 304.27, 306.52, 302.31, 301.7, 305.25, 314.15, 311.21, 299.9, 306.75, 300.1, 304.43, 301.53, 295.47, 296.87, 293.82, 290.14, 285.2, 289.01, 284.92, 289.99, 288.83, 289.93, 283.97, 282.27, 280.26, 279.25, 281.97, 285.14, 290.47, 288.47, 282.32, 285.45, 280.07, 282.06, 284.36, 281.87, 289.74, 289.94, 293.62, 297.66, 292.7, 292.71, 290.56, 285.31, 284.95, 287.97, 287.17, 288.08, 290.09, 296.23, 305.1, 307.45, 303.48, 303.69, 306.37, 317.16, 315.83, 316.17, 316.02, 314.06, 320.34, 321.09, 319.95, 320.79, 320.85, 320.68, 329.67, 334.0, 333.44, 336.1, 338.23, 337.43, 334.42, 338.25, 338.06, 338.98, 334.28, 338.29, 343.66, 340.5, 342.2, 340.18, 340.02, 349.35, 352.72, 350.03, 345.75, 345.1, 352.67, 354.49, 354.64, 358.78, 363.39, 363.69, 366.63, 374.32, 374.21, 376.35, 377.87, 376.87, 380.51, 378.12, 380.87, 383.64, 383.44, 378.54, 371.67, 371.91, 375.36, 372.0, 370.12, 371.98, 377.37, 347.15, 340.55, 339.0, 339.83, 338.31, 338.54, 337.24, 339.81, 343.45, 343.62, 341.14, 340.52, 333.23, 325.82, 331.18, 332.62, 329.2, 325.95, 323.31, 323.27, 333.77, 334.65, 332.6, 333.65, 330.24, 335.02, 341.49, 345.6, 348.84, 347.28, 345.17, 343.57, 345.22, 341.76, 342.37, 348.09, 348.43, 351.0, 350.63, 360.03, 360.17, 359.69, 360.82, 357.46, 354.4, 354.08, 352.79, 349.65, 353.34, 361.26, 361.47, 368.62, 367.01, 366.28, 368.69, 370.37, 369.62, 361.26, 362.1, 357.24, 355.3, 351.9, 351.08, 370.38, 376.54, 376.46, 374.99, 376.46, 376.54, 377.47, 387.4, 379.13, 382.49, 384.7, 386.59, 392.29, 390.82, 389.96, 391.04, 393.52, 396.05, 403.02, 395.83, 397.37, 399.46, 394.99, 394.67, 399.49, 400.2, 402.69, 410.34, 418.88, 415.27, 415.88, 415.34, 416.99, 413.39, 412.24, 410.36, 406.74, 403.49, 405.25, 406.95, 405.22, 404.75, 404.42, 405.8, 400.93, 396.7, 400.19, 406.11, 402.7, 397.14, 391.13, 387.04, 388.44, 394.69, 394.8, 394.63, 390.57, 396.29, 390.89, 382.57, 399.54, 399.66, 403.55, 406.32, 404.15, 400.31, 409.12, 411.87, 409.8, 414.39, 422.44, 430.34, 428.19, 436.38, 435.3, 439.67, 438.33, 443.11, 457.49, 451.48, 454.14, 453.81, 453.03, 444.27, 440.95, 436.22, 440.19, 433.72, 434.94, 435.17, 433.38, 429.12, 429.42, 431.89, 439.43, 444.66, 439.47, 435.55, 438.06, 437.08, 442.68, 449.86, 449.89, 441.93, 440.02, 434.46, 432.67, 436.39, 438.1, 439.74, 443.5, 440.71, 442.77, 446.3, 452.09, 452.17, 452.54, 459.66, 461.04, 461.88, 459.34, 458.82, 454.88, 447.85, 454.89, 451.45, 451.0, 443.41, 442.23, 440.69, 445.01, 443.43, 451.66, 452.83, 452.05, 447.84, 444.88, 445.88, 444.76, 442.31, 440.18, 434.47, 429.4, 428.03, 432.39, 432.28, 434.23, 436.42, 434.67, 432.76, 424.65, 423.85, 427.29, 423.03, 429.76, 435.38, 439.34, 439.35, 443.58, 443.89, 447.65, 446.08, 444.09, 443.44, 442.61, 451.21, 448.75, 451.1, 442.81, 442.98, 438.18, 438.65, 437.76, 437.52, 443.06, 443.55, 437.61, 435.74, 432.44, 426.41, 427.5, 433.69, 435.56, 437.62, 440.56, 448.56, 443.95, 505.2, 501.15, 503.0, 515.19, 512.26, 507.09, 506.99, 517.6, 514.69, 514.77, 513.01, 512.54, 510.25, 510.86, 503.47, 507.51, 504.79, 505.38, 515.72, 517.1, 516.26, 515.26, 512.09, 510.64, 516.52, 515.43, 522.44, 528.68, 531.02, 529.27, 526.71, 526.1, 528.56, 528.14, 534.4, 538.53, 541.79, 538.11, 534.45, 529.86, 535.95, 534.4, 541.83, 542.57, 549.76, 556.99, 555.36, 558.17, 558.64, 554.18, 559.79, 556.0, 551.95, 558.1, 568.86, 570.04, 564.55, 564.52, 560.93, 574.13, 573.74, 577.53, 574.69, 581.27, 581.93, 579.47, 561.35, 550.06, 560.94, 552.91, 567.13, 589.89, 566.15, 568.51, 571.03, 579.4, 588.13, 585.88, 594.49, 592.75, 599.35, 600.8, 604.83, 600.57, 601.45, 601.29, 605.65, 609.39, 609.47, 609.0, 607.22, 600.74, 606.85, 608.52, 609.2, 606.79, 605.18, 599.4, 603.05, 593.94, 585.81, 595.45, 605.02, 599.03, 597.98, 590.93, 578.39, 578.78, 565.42, 556.58, 559.51, 556.7, 566.88, 566.98, 569.74, 543.14, 538.15, 554.9, 564.14, 540.95, 530.6, 532.52, 536.44, 556.54, 536.1, 528.62, 534.81, 526.94, 525.16, 516.18, 517.15, 527.7, 526.66, 531.35, 527.93, 527.81, 515.14, 509.96, 511.0, 518.73, 529.92, 533.09, 526.65, 519.98, 520.63, 528.86, 529.77, 538.94, 545.06, 552.7, 565.95, 561.68, 560.08, 559.89, 553.93, 544.94, 544.66, 553.9, 556.33, 562.12, 560.55, 558.84, 551.35, 551.76, 544.28, 543.01, 553.37, 554.9, 556.36, 564.95, 564.62, 578.65, 576.0, 577.24, 575.28, 582.67, 582.34, 584.73, 582.25, 571.09, 576.08, 571.1, 579.18, 584.87, 584.78, 582.66, 573.73, 595.08, 589.47, 594.74, 595.98, 593.35, 589.02, 590.6, 585.61, 587.42, 571.6, 566.07, 573.15, 565.07, 566.37, 563.36, 568.77, 567.88, 562.73, 574.78, 574.65, 573.48, 582.16, 586.86, 584.49, 583.37, 582.56, 580.2, 577.86, 571.0, 569.2, 571.6, 577.33, 577.94, 581.98, 586.08, 589.72, 581.01, 583.1, 581.35, 575.62, 573.1, 579.95, 584.77, 589.27, 596.08, 587.37, 581.13, 587.99, 575.06, 577.1, 576.36, 577.36, 568.27, 570.08, 575.28, 577.35, 563.74, 572.5, 560.88, 544.49, 533.21, 537.94, 530.03, 524.51, 511.17, 520.84, 526.54, 532.71, 543.98, 539.78, 540.77, 548.9, 549.33, 550.31, 559.08, 555.22, 554.11, 545.92, 542.04, 541.01, 547.49, 550.29, 547.31, 545.38, 544.4, 536.51, 535.03, 536.99, 534.83, 537.5, 539.27, 541.08, 540.37, 541.83, 533.8, 533.75, 531.32, 537.31, 525.26, 526.98, 533.37, 526.06, 528.34, 518.66, 513.8, 495.39, 504.89, 511.1, 516.35, 524.87, 530.59, 528.77, 534.03, 530.33, 530.42, 526.4, 524.81, 513.87, 501.96, 501.1, 502.68, 496.17, 492.55, 496.18, 500.87, 501.79, 508.08, 506.9, 518.04, 534.39, 539.95, 535.21, 518.63, 510.0, 510.66, 534.52, 528.48, 529.24, 522.76, 527.58, 531.0, 527.83, 536.94, 535.97, 542.93, 549.01, 542.84, 539.7, 542.87, 538.95, 531.91, 536.09, 543.87, 555.48, 558.4, 571.34, 573.64, 573.37, 575.33, 567.68, 568.85, 555.01, 551.18, 555.51, 547.32, 554.51, 550.84, 559.5, 557.99, 560.36, 558.81, 570.19, 558.78, 555.17, 548.34, 552.03, 548.0, 542.56, 535.53, 536.76, 537.02, 541.61, 540.78, 540.01, 539.17, 530.39, 532.53, 533.8, 524.05, 535.38, 533.97, 539.36, 547.0, 565.06, 555.37, 553.68, 549.08, 537.34, 537.9, 540.78, 530.8, 524.22, 530.7, 538.22, 535.7, 529.04, 529.62, 538.4, 533.85, 532.3, 537.36, 539.27, 542.51, 540.11, 532.32, 539.79, 539.78, 532.11, 533.99, 539.18, 540.31, 536.7, 533.33, 526.83, 526.69, 536.69, 534.61, 532.33, 527.2, 528.15, 529.26, 536.73, 536.69, 538.19, 540.48, 537.84, 535.23, 531.69, 521.52, 520.51, 521.84, 523.4, 522.86, 525.02, 516.83, 520.68, 530.13, 546.55, 561.1, 560.22, 579.85, 672.93, 663.02, 662.3, 662.1, 644.28, 623.56, 627.26, 628.0, 631.93, 632.59, 625.61, 631.21, 629.25, 643.78, 642.68, 635.3, 633.73, 660.78, 659.56, 656.45, 657.12, 660.87, 656.13, 660.9, 646.83, 612.48, 589.61, 582.06, 628.62, 637.61, 630.38, 618.25, 597.79, 614.34, 606.25, 600.7, 614.66, 612.72, 621.35, 625.77, 623.24, 635.14, 635.98, 642.9, 629.25, 635.44, 622.69, 622.36, 625.8, 611.97, 594.89, 594.97, 608.42, 611.29, 626.91, 641.47, 645.44, 642.36, 639.16, 643.61, 646.67, 652.3, 651.16, 661.74, 662.2, 666.1, 650.28, 642.61, 651.79, 702.0, 712.78, 708.49, 712.95, 716.92, 710.81, 721.11, 722.16, 728.11, 731.25, 733.76, 724.89, 728.32, 735.4, 731.23, 717.0, 728.96, 725.3, 740.0, 738.41, 756.6, 755.98, 748.28, 748.15, 750.26, 742.6, 767.04, 762.38, 752.54, 766.81, 763.25, 762.37, 751.61, 749.46, 738.87, 747.77, 743.4, 758.09, 749.43, 739.31, 747.77, 750.0, 750.31, 748.4, 762.51, 776.6, 771.0, 758.88, 741.84, 742.58, 743.62, 726.39, 714.47, 716.03, 726.07, 700.56, 714.72, 694.45, 701.79, 698.45, 706.59, 725.25, 711.67, 713.04, 699.99, 730.96, 742.95, 752.0, 764.65, 726.95, 708.01, 683.57, 682.74, 678.11, 684.12, 683.11, 682.4, 691.0, 708.4, 697.35, 700.91, 706.46, 695.85, 699.56, 705.75, 705.07, 697.77, 718.81, 718.85, 712.42, 710.89, 695.16, 693.97, 705.24, 712.82, 726.82, 730.49, 728.33, 736.09, 737.78, 737.6, 742.09, 740.75, 738.06, 735.3, 733.53, 744.77, 750.53, 744.95, 749.91, 745.29, 737.8, 745.69, 740.28, 739.15, 736.1, 743.09, 751.72, 753.2, 759.0, 766.61, 753.93, 752.67, 759.14, 718.77, 723.15, 708.14, 705.84, 691.02, 693.01, 698.21, 692.36, 695.7, 701.43, 711.12, 712.9, 723.18, 715.29, 713.31, 710.83, 716.49, 706.23, 706.63, 700.32, 709.74, 704.24, 720.09, 725.27, 724.12, 732.66, 735.72, 734.15, 730.4, 722.34, 716.55, 716.65, 728.28, 728.58, 719.41, 718.36, 718.27, 718.92, 710.36, 691.72, 693.71, 695.94, 697.46, 701.87, 675.22, 668.26, 680.04, 684.11, 692.1, 699.21, 694.49, 697.77, 695.36, 705.63, 715.09, 720.64, 716.98, 720.95, 719.85, 733.78, 736.96, 741.19, 738.63, 742.74, 739.77, 738.42, 741.77, 745.91, 768.79, 772.88, 771.07, 773.18, 771.61, 782.22]\n",
            "Number of data points only float: 3012\n",
            "Max price of stock : 782.22\n",
            "Min price of stock : 49.95\n",
            "Mean price of stock : 334.31009296148744\n",
            "Excellent if stock price >500 : 701\n",
            "Good if stock price >400 and grater than 250 : 1021\n",
            "Okay if stock price  less than 250 : 1137\n"
          ]
        }
      ]
    },
    {
      "cell_type": "code",
      "source": [
        "import warnings\n",
        "warnings.simplefilter(\"ignore\")\n",
        "\n",
        "import pandas as pd\n",
        "df_1 = pd.read_csv('https://query.data.world/s/vv3snq28bp0TJq2ggCdxGOghEQKPZo')\n",
        "df_2 = pd.read_csv('https://query.data.world/s/9wVKjNT0yiRc3YbVJaiI8a6HGl2d74')\n",
        "#print(df_1.head())\n",
        "#print(\"\\n\")\n",
        "#print(\"\\n\")\n",
        "#print(\"\\n\")\n",
        "#print(df_2.head())\n",
        "df_3 =pd.concat([df_1,df_2], axis=1)#Type your code here.\n",
        "\n",
        "print(df_3)"
      ],
      "metadata": {
        "id": "1hwBB2zZ5ulZ",
        "colab": {
          "base_uri": "https://localhost:8080/"
        },
        "outputId": "bb29cd07-325d-4017-de8a-de5b2c7bad26"
      },
      "execution_count": null,
      "outputs": [
        {
          "output_type": "stream",
          "name": "stdout",
          "text": [
            "                          name                     address             city  \\\n",
            "0    arnie morton's of chicago   \"435 s. la cienega blvd.\"    \"los angeles\"   \n",
            "1                   art's deli       \"12224 ventura blvd.\"    \"studio city\"   \n",
            "2                bel-air hotel      \"701 stone canyon rd.\"        \"bel air\"   \n",
            "3                   cafe bizou       \"14016 ventura blvd.\"   \"sherman oaks\"   \n",
            "4                    campanile       \"624 s. la brea ave.\"    \"los angeles\"   \n",
            "..                         ...                         ...              ...   \n",
            "747                        NaN                         NaN              NaN   \n",
            "748                        NaN                         NaN              NaN   \n",
            "749                        NaN                         NaN              NaN   \n",
            "750                        NaN                         NaN              NaN   \n",
            "751                        NaN                         NaN              NaN   \n",
            "\n",
            "              cuisine unique_id                         name_2  \\\n",
            "0       \"steakhouses\"       '0'      arnie morton's of chicago   \n",
            "1             \"delis\"       '1'             art's delicatessen   \n",
            "2       \"californian\"       '2'                  hotel bel-air   \n",
            "3     \"french bistro\"       '3'                     cafe bizou   \n",
            "4       \"californian\"       '4'                      campanile   \n",
            "..                ...       ...                            ...   \n",
            "747               NaN       NaN                        ti couz   \n",
            "748               NaN       NaN                      trio cafe   \n",
            "749               NaN       NaN                         tu lan   \n",
            "750               NaN       NaN                vicolo pizzeria   \n",
            "751               NaN       NaN  wa-ha-ka oaxaca mexican grill   \n",
            "\n",
            "                     address_2            city_2       cuisine_2 unique_id  \n",
            "0     \"435 s. la cienega blv.\"     \"los angeles\"      \"american\"       '0'  \n",
            "1        \"12224 ventura blvd.\"     \"studio city\"      \"american\"       '1'  \n",
            "2       \"701 stone canyon rd.\"         \"bel air\"   \"californian\"       '2'  \n",
            "3        \"14016 ventura blvd.\"    \"sherman oaks\"        \"french\"       '3'  \n",
            "4        \"624 s. la brea ave.\"     \"los angeles\"      \"american\"       '4'  \n",
            "..                         ...               ...             ...       ...  \n",
            "747            \"3108 16th st.\"   \"san francisco\"        \"french\"     '748'  \n",
            "748        \"1870 fillmore st.\"   \"san francisco\"      \"american\"     '749'  \n",
            "749              \"8 sixth st.\"   \"san francisco\"    \"vietnamese\"     '750'  \n",
            "750              \"201 ivy st.\"   \"san francisco\"         \"pizza\"     '751'  \n",
            "751            \"2141 polk st.\"   \"san francisco\"       \"mexican\"     '752'  \n",
            "\n",
            "[752 rows x 10 columns]\n"
          ]
        }
      ]
    },
    {
      "cell_type": "code",
      "source": [
        "import numpy as np\n",
        "import pandas as pd\n",
        "\n",
        "# Defining the three dataframes indicating the gold, silver, and bronze medal counts\n",
        "# of different countries\n",
        "gold = pd.DataFrame({'Country': ['USA', 'France', 'Russia'],\n",
        "                         'Medals': [15, 13, 9]}\n",
        "                    )\n",
        "silver = pd.DataFrame({'Country': ['USA', 'Germany', 'Russia'],\n",
        "                        'Medals': [29, 20, 16]}\n",
        "                    )\n",
        "bronze = pd.DataFrame({'Country': ['France', 'USA', 'UK'],\n",
        "                        'Medals': [40, 28, 27]}\n",
        "                    )\n",
        "gols.setindex('Country', inplace=True)\n",
        "silvers.setindex('Country', inplace=True)\n",
        "bronzes.setindex('Country', inplace=True\n",
        "# get a dataframe with sum of  medal\n",
        "sum_medal = gold.add(silver, fill_value=1).add(bronze, fill_value=1).sort_values('Medals', ascending=False)\n",
        "print(sum_medal)"
      ],
      "metadata": {
        "colab": {
          "base_uri": "https://localhost:8080/"
        },
        "id": "BkayEk02FKLO",
        "outputId": "c2d78884-dd01-4399-a81e-ff58cf350903"
      },
      "execution_count": null,
      "outputs": [
        {
          "output_type": "stream",
          "name": "stdout",
          "text": [
            "            Country  Medals\n",
            "0      USAUSAFrance      84\n",
            "1  FranceGermanyUSA      61\n",
            "2    RussiaRussiaUK      52\n"
          ]
        }
      ]
    },
    {
      "cell_type": "code",
      "source": [
        "import numpy as np\n",
        "import pandas as pd\n",
        "import numpy as np\n",
        "df = pd.read_csv('https://query.data.world/s/vBDCsoHCytUSLKkLvq851k2b8JOCkF')\n",
        "df_1 = df.pivot_table(index=['month','day'],values=['rain','wind'], aggfunc={'rain':np.mean,'wind':[min,max,np.mean]})#Type your code here.\n",
        "print(df_1.head(20))"
      ],
      "metadata": {
        "colab": {
          "base_uri": "https://localhost:8080/"
        },
        "id": "VMzblrTP8zan",
        "outputId": "c350749b-17e8-429a-9714-7cab2ad6b535"
      },
      "execution_count": null,
      "outputs": [
        {
          "output_type": "stream",
          "name": "stdout",
          "text": [
            "               rain wind               \n",
            "               mean  max      mean  min\n",
            "month day                              \n",
            "apr   fri  0.000000  3.1  3.100000  3.1\n",
            "      mon  0.000000  3.1  3.100000  3.1\n",
            "      sat  0.000000  4.5  4.500000  4.5\n",
            "      sun  0.000000  9.4  5.666667  1.8\n",
            "      thu  0.000000  5.8  5.800000  5.8\n",
            "      wed  0.000000  2.7  2.700000  2.7\n",
            "aug   fri  0.066667  8.9  4.766667  2.2\n",
            "      mon  0.000000  5.4  2.873333  1.3\n",
            "      sat  0.000000  8.0  4.310345  0.9\n",
            "      sun  0.025000  7.6  4.417500  0.9\n",
            "      thu  0.000000  6.7  3.503846  1.8\n",
            "      tue  0.300000  7.6  4.567857  2.2\n",
            "      wed  0.000000  5.4  3.520000  0.4\n",
            "dec   fri  0.000000  4.9  4.900000  4.9\n",
            "      mon  0.000000  8.5  8.500000  8.5\n",
            "      sun  0.000000  8.5  8.500000  8.5\n",
            "      thu  0.000000  4.9  4.900000  4.9\n",
            "      tue  0.000000  8.5  8.500000  8.5\n",
            "      wed  0.000000  8.0  8.000000  8.0\n",
            "feb   fri  0.000000  9.4  4.820000  0.9\n"
          ]
        }
      ]
    },
    {
      "cell_type": "code",
      "source": [
        "import numpy as np\n",
        "import pandas as pd\n",
        "df = pd.read_csv('https://query.data.world/s/vBDCsoHCytUSLKkLvq851k2b8JOCkF')\n",
        "df_1 = df.pivot_table(index=['month','day'],values=['rain','wind'], aggfunc={'rain':np.mean,'wind':[min,max,np.mean]})#Type your code here.\n",
        "print(df_1.head(20))"
      ],
      "metadata": {
        "colab": {
          "base_uri": "https://localhost:8080/"
        },
        "id": "JVfSWCA59oaU",
        "outputId": "d084f7cf-002a-4e46-f655-0372eb4f6e15"
      },
      "execution_count": null,
      "outputs": [
        {
          "output_type": "stream",
          "name": "stdout",
          "text": [
            "               rain wind               \n",
            "               mean  max      mean  min\n",
            "month day                              \n",
            "apr   fri  0.000000  3.1  3.100000  3.1\n",
            "      mon  0.000000  3.1  3.100000  3.1\n",
            "      sat  0.000000  4.5  4.500000  4.5\n",
            "      sun  0.000000  9.4  5.666667  1.8\n",
            "      thu  0.000000  5.8  5.800000  5.8\n",
            "      wed  0.000000  2.7  2.700000  2.7\n",
            "aug   fri  0.066667  8.9  4.766667  2.2\n",
            "      mon  0.000000  5.4  2.873333  1.3\n",
            "      sat  0.000000  8.0  4.310345  0.9\n",
            "      sun  0.025000  7.6  4.417500  0.9\n",
            "      thu  0.000000  6.7  3.503846  1.8\n",
            "      tue  0.300000  7.6  4.567857  2.2\n",
            "      wed  0.000000  5.4  3.520000  0.4\n",
            "dec   fri  0.000000  4.9  4.900000  4.9\n",
            "      mon  0.000000  8.5  8.500000  8.5\n",
            "      sun  0.000000  8.5  8.500000  8.5\n",
            "      thu  0.000000  4.9  4.900000  4.9\n",
            "      tue  0.000000  8.5  8.500000  8.5\n",
            "      wed  0.000000  8.0  8.000000  8.0\n",
            "feb   fri  0.000000  9.4  4.820000  0.9\n"
          ]
        }
      ]
    },
    {
      "cell_type": "code",
      "source": [
        "# Import the Pandas package\n",
        "import pandas as pd\n",
        "\n",
        "# Reading the input dataframe\n",
        "pima = pd.read_csv('https://media-doselect.s3.amazonaws.com/generic/pLZK3n22ezVwAG2XOYW5qEx7V/pima_indian_diabetes.csv')\n",
        "\n",
        "# Write your code here\n",
        "#print(pima)\n",
        "pima['BMI']=pima['BMI'].astype('int')\n",
        "\n",
        "print(pima['BMI'].dtype)\n",
        "\n",
        "print(pima.head(5))"
      ],
      "metadata": {
        "colab": {
          "base_uri": "https://localhost:8080/"
        },
        "id": "RUv34KIifMe1",
        "outputId": "92e7ab7e-e106-4963-bc28-2233b73b2dcb"
      },
      "execution_count": null,
      "outputs": [
        {
          "output_type": "stream",
          "name": "stdout",
          "text": [
            "int64\n",
            "   No_Times_Pregnant  Plasma_Glucose  Diastolic_BP  Triceps  Insulin  BMI  \\\n",
            "0                  1              89            66       23       94   28   \n",
            "1                  0             137            40       35      168   43   \n",
            "2                  3              78            50       32       88   31   \n",
            "3                  2             197            70       45      543   30   \n",
            "4                  1             189            60       23      846   30   \n",
            "\n",
            "   Age  Diabetes  \n",
            "0   21         0  \n",
            "1   33         1  \n",
            "2   26         1  \n",
            "3   53         1  \n",
            "4   59         1  \n"
          ]
        }
      ]
    },
    {
      "cell_type": "code",
      "source": [
        "# Importing the pandas package\n",
        "import pandas as pd\n",
        "\n",
        "# Reading the movies dataframe\n",
        "movies = pd.read_csv('https://media-doselect.s3.amazonaws.com/generic/1M2ZzY2M9PEBPJovgoaBgZdbM/movie_data.csv')\n",
        "\n",
        "# Your aim is to complete the following three print statements after all the colons\n",
        "\n",
        "mv = {'aspect_ratio_mv': movies['aspect_ratio'].isna().sum(), 'facenumber_in_poster_mv': movies['facenumber_in_poster'].isna().sum()}\n",
        "median = {'aspect_ratio_median': movies['aspect_ratio'].median(), 'facenumber_in_poster_median':movies['facenumber_in_poster'].median() }\n",
        "movies['aspect_ratio'].fillna(movies['aspect_ratio'].median(), inplace=True)\n",
        "movies['facenumber_in_poster'].fillna(movies['facenumber_in_poster'].median(), inplace=True)\n",
        "\n",
        "final = {'aspect_ratio_final': movies['aspect_ratio'].isna().sum(), 'facenumber_in_poster_final': movies['facenumber_in_poster'].isna().sum()}\n",
        "\n",
        "# Printing the values in the three dictionaries. Please do not edit this part\n",
        "print(sorted(mv.values()))\n",
        "print(sorted(median.values()))\n",
        "print(sorted(final.values()))"
      ],
      "metadata": {
        "colab": {
          "base_uri": "https://localhost:8080/"
        },
        "id": "tQfIYK1SnR6E",
        "outputId": "0369ff65-9b92-4f31-dea3-12a29d019781"
      },
      "execution_count": null,
      "outputs": [
        {
          "output_type": "stream",
          "name": "stdout",
          "text": [
            "[13, 329]\n",
            "[1.0, 2.35]\n",
            "[0, 0]\n"
          ]
        }
      ]
    },
    {
      "cell_type": "code",
      "source": [
        "# Importing the pandas package\n",
        "import pandas as pd\n",
        "import urllib.parse\n",
        "\n",
        "# Reading the dataframe\n",
        "#movies = pd.read_csv('https://media-doselect.s3.amazonaws.com/generic/ZY9xWvEzMB7NEoW08r52L8j2O/movie_data (1).csv')\n",
        "\n",
        "url = 'https://media-doselect.s3.amazonaws.com/generic/ZY9xWvEzMB7NEoW08r52L8j2O/movie_data (1).csv'\n",
        "encoded_url = urllib.parse.quote(url, safe=':/')\n",
        "movies = pd.read_csv(encoded_url)\n",
        "\n",
        "# Print out the indices of the rows in which both these columns have missing values\n",
        "# as a list\n",
        "ls_indices = list(movies[(movies['aspect_ratio'].isna()) & (movies['facenumber_in_poster'].isna())].index)\n",
        "print(ls_indices)\n",
        "\n",
        "\n",
        "# Write your code for dropping these particular rows here\n",
        "movies.drop(ls_indices, inplace=True)\n",
        "\n",
        "\n",
        "# Print the number of remaining rows\n",
        "\n",
        "\n",
        "print(movies.shape[0])"
      ],
      "metadata": {
        "id": "REdnWZI_vlHU",
        "colab": {
          "base_uri": "https://localhost:8080/"
        },
        "outputId": "00f80856-a58c-4b2f-a2f1-455e2489d88a"
      },
      "execution_count": null,
      "outputs": [
        {
          "output_type": "stream",
          "name": "stdout",
          "text": [
            "[3373, 4448]\n",
            "5041\n"
          ]
        }
      ]
    },
    {
      "cell_type": "code",
      "source": [
        "# Importing the pandas package\n",
        "import pandas as pd\n",
        "import urllib.parse\n",
        "\n",
        "# Reading the movies file\n",
        "#movies = pd.read_csv('https://media-doselect.s3.amazonaws.com/generic/pLLQowB8OYx0oBWdMbY4gp4wb/movies_final (2).csv', sep='\\t')\n",
        "\n",
        "url = 'https://media-doselect.s3.amazonaws.com/generic/pLLQowB8OYx0oBWdMbY4gp4wb/movies_final (2).csv'\n",
        "encoded_url = urllib.parse.quote(url, safe=':/')  # Encode the URL to handle spaces and special characters\n",
        "movies = pd.read_csv(encoded_url, sep='\\t') # Read the CSV from the encoded URL\n",
        "\n",
        "movies['combined_facebook_like']= movies['actor_1_facebook_likes']+movies['actor_2_facebook_likes']+movies['actor_3_facebook_likes']\n",
        "movies['combined_facebook_like'] = movies['combined_facebook_like'].astype(int)\n",
        "\n",
        "#sort by combined fasebook like\n",
        "movies.sort_values('combined_facebook_like', ascending=False, inplace=True)\n",
        "\n",
        "#condition to check actor facebook likes is not less than half of other two actor facebook likes\n",
        "#condition to check actor facebook likes is not less than half of other two actor facebook likes\n",
        "#condition to check actor facebook likes is not less than half of other two actor facebook likes\n",
        "movies['bool_notlessthan_half']= ((movies['actor_1_facebook_likes']>(movies['actor_2_facebook_likes']/2)) & (movies['actor_1_facebook_likes']>(movies['actor_3_facebook_likes']/2))) & \\\n",
        "                                ((movies['actor_2_facebook_likes']>(movies['actor_1_facebook_likes']/2)) & (movies['actor_2_facebook_likes']>(movies['actor_3_facebook_likes']/2))) & \\\n",
        "                                ((movies['actor_3_facebook_likes']>(movies['actor_1_facebook_likes']/2)) & (movies['actor_3_facebook_likes']>(movies['actor_2_facebook_likes']/2)))\n",
        "\n",
        "\n",
        "\n",
        "#Top three actor\n",
        "if movies['bool_notlessthan_half'].any() :\n",
        "  print(movies[['actor_1_name','actor_2_name','actor_3_name','combined_facebook_like']].head(1))\n",
        "\n",
        "print('/n')\n",
        "\n",
        "print(movies[(movies['actor_1_name']=='Chris Hemsworth') & (movies['actor_2_name']=='Robert Downey Jr.') & (movies['actor_3_name']=='Scarlett Johansson')])\n",
        "#print(movies.head(5))\n",
        "# Write your code here"
      ],
      "metadata": {
        "colab": {
          "base_uri": "https://localhost:8080/"
        },
        "id": "Gae70C6Q4TWV",
        "outputId": "6f73fcec-7659-437f-81ae-93cc5c086e2f"
      },
      "execution_count": null,
      "outputs": [
        {
          "output_type": "stream",
          "name": "stdout",
          "text": [
            "       actor_1_name  actor_2_name  actor_3_name  combined_facebook_like\n",
            "1766  Darcy Donavan  Will Ferrell  Steve Carell                  655000\n",
            "/n\n",
            "     Unnamed: 0  color director_name  num_critic_for_reviews  duration  \\\n",
            "16           17  Color   Joss Whedon                   703.0     173.0   \n",
            "755         794  Color   Joss Whedon                   703.0     173.0   \n",
            "7             8  Color   Joss Whedon                   635.0     141.0   \n",
            "\n",
            "     director_facebook_likes  actor_3_facebook_likes       actor_2_name  \\\n",
            "16                       0.0                 19000.0  Robert Downey Jr.   \n",
            "755                      0.0                 19000.0  Robert Downey Jr.   \n",
            "7                        0.0                 19000.0  Robert Downey Jr.   \n",
            "\n",
            "     actor_1_facebook_likes        gross  ... country content_rating  \\\n",
            "16                  26000.0  623279547.0  ...     USA          PG-13   \n",
            "755                 26000.0  623279547.0  ...     USA          PG-13   \n",
            "7                   26000.0  458991599.0  ...     USA          PG-13   \n",
            "\n",
            "          budget  title_year  actor_2_facebook_likes imdb_score  aspect_ratio  \\\n",
            "16   220000000.0      2012.0                 21000.0        8.1          1.85   \n",
            "755  220000000.0      2012.0                 21000.0        8.1          1.85   \n",
            "7    250000000.0      2015.0                 21000.0        7.5          2.35   \n",
            "\n",
            "    movie_facebook_likes combined_facebook_like  bool_notlessthan_half  \n",
            "16                123000                  66000                   True  \n",
            "755               123000                  66000                   True  \n",
            "7                 118000                  66000                   True  \n",
            "\n",
            "[3 rows x 31 columns]\n"
          ]
        }
      ]
    },
    {
      "cell_type": "code",
      "source": [
        "# Importing the pandas package\n",
        "import pandas as pd\n",
        "import urllib.parse\n",
        "\n",
        "# Reading the movies file\n",
        "#movies = pd.read_csv('https://media-doselect.s3.amazonaws.com/generic/pLLQowB8OYx0oBWdMbY4gp4wb/movies_final (2).csv', sep='\\t')\n",
        "\n",
        "url = 'https://media-doselect.s3.amazonaws.com/generic/pLLQowB8OYx0oBWdMbY4gp4wb/movies_final (2).csv'\n",
        "encoded_url = urllib.parse.quote(url, safe=':/')  # Encode the URL to handle spaces and special characters\n",
        "movies = pd.read_csv(encoded_url, sep='\\t') # Read the CSV from the encoded URL\n",
        "\n",
        "popular_trio = movies [((movies['actor_1_facebook_likes']>(movies['actor_2_facebook_likes']/2)) & (movies['actor_1_facebook_likes']>(movies['actor_3_facebook_likes']/2))) & \\\n",
        "                                ((movies['actor_2_facebook_likes']>(movies['actor_1_facebook_likes']/2)) & (movies['actor_2_facebook_likes']>(movies['actor_3_facebook_likes']/2))) & \\\n",
        "                                ((movies['actor_3_facebook_likes']>(movies['actor_1_facebook_likes']/2)) & (movies['actor_3_facebook_likes']>(movies['actor_2_facebook_likes']/2)))]\n",
        "\n",
        "popular_trio ['combined_facebook_like']= popular_trio['actor_1_facebook_likes']+popular_trio['actor_2_facebook_likes']+popular_trio['actor_3_facebook_likes']\n",
        "\n",
        "popular_trio.sort_values('combined_facebook_like', ascending=False, inplace=True)\n",
        "\n",
        "print(popular_trio.head(1)[['actor_1_name','actor_2_name','actor_3_name']])\n"
      ],
      "metadata": {
        "colab": {
          "base_uri": "https://localhost:8080/"
        },
        "id": "gjT14Eo7CZOJ",
        "outputId": "513d8c6a-f764-41c4-ee6c-a26cdd86c5f3"
      },
      "execution_count": null,
      "outputs": [
        {
          "output_type": "stream",
          "name": "stdout",
          "text": [
            "         actor_1_name actor_2_name          actor_3_name\n",
            "94  Leonardo DiCaprio    Tom Hardy  Joseph Gordon-Levitt\n"
          ]
        },
        {
          "output_type": "stream",
          "name": "stderr",
          "text": [
            "<ipython-input-44-46e1b4e88abd>:16: SettingWithCopyWarning: \n",
            "A value is trying to be set on a copy of a slice from a DataFrame.\n",
            "Try using .loc[row_indexer,col_indexer] = value instead\n",
            "\n",
            "See the caveats in the documentation: https://pandas.pydata.org/pandas-docs/stable/user_guide/indexing.html#returning-a-view-versus-a-copy\n",
            "  popular_trio ['combined_facebook_like']= popular_trio['actor_1_facebook_likes']+popular_trio['actor_2_facebook_likes']+popular_trio['actor_3_facebook_likes']\n",
            "<ipython-input-44-46e1b4e88abd>:18: SettingWithCopyWarning: \n",
            "A value is trying to be set on a copy of a slice from a DataFrame\n",
            "\n",
            "See the caveats in the documentation: https://pandas.pydata.org/pandas-docs/stable/user_guide/indexing.html#returning-a-view-versus-a-copy\n",
            "  popular_trio.sort_values('combined_facebook_like', ascending=False, inplace=True)\n"
          ]
        }
      ]
    },
    {
      "cell_type": "code",
      "source": [
        "# Importing the pandas package\n",
        "import pandas as pd\n",
        "import urllib.parse\n",
        "\n",
        "# Reading the movies file\n",
        "#movies = pd.read_csv('https://media-doselect.s3.amazonaws.com/generic/pLLQowB8OYx0oBWdMbY4gp4wb/movies_final (2).csv', sep='\\t')\n",
        "\n",
        "url = 'https://media-doselect.s3.amazonaws.com/generic/pLLQowB8OYx0oBWdMbY4gp4wb/movies_final (2).csv'\n",
        "encoded_url = urllib.parse.quote(url, safe=':/')  # Encode the URL to handle spaces and special characters\n",
        "movies = pd.read_csv(encoded_url, sep='\\t') # Read the CSV from the encoded URL\n",
        "\n",
        "popular_trio = movies [((movies['actor_1_facebook_likes']>(movies['actor_2_facebook_likes']/2)) & (movies['actor_1_facebook_likes']>(movies['actor_3_facebook_likes']/2))) & \\\n",
        "                                ((movies['actor_2_facebook_likes']>(movies['actor_1_facebook_likes']/2)) & (movies['actor_2_facebook_likes']>(movies['actor_3_facebook_likes']/2))) & \\\n",
        "                                ((movies['actor_3_facebook_likes']>(movies['actor_1_facebook_likes']/2)) & (movies['actor_3_facebook_likes']>(movies['actor_2_facebook_likes']/2)))]\n",
        "\n",
        "popular_trio ['combined_facebook_like']= popular_trio['actor_1_facebook_likes']+popular_trio['actor_2_facebook_likes']+popular_trio['actor_3_facebook_likes']\n",
        "\n",
        "popular_trio.sort_values('combined_facebook_like', ascending=False, inplace=True)\n",
        "\n",
        "# Use a list to select multiple columns\n",
        "print(popular_trio.head(1)[['actor_1_facebook_likes', 'actor_2_facebook_likes', 'actor_3_facebook_likes']])"
      ],
      "metadata": {
        "colab": {
          "base_uri": "https://localhost:8080/"
        },
        "id": "kR1zcw6LUHLb",
        "outputId": "dd1b346b-2bc2-42a2-c29a-82a5b813b2e1"
      },
      "execution_count": null,
      "outputs": [
        {
          "output_type": "stream",
          "name": "stdout",
          "text": [
            "    actor_1_facebook_likes  actor_2_facebook_likes  actor_3_facebook_likes\n",
            "94                 29000.0                 27000.0                 23000.0\n"
          ]
        },
        {
          "output_type": "stream",
          "name": "stderr",
          "text": [
            "<ipython-input-1-c6c0f902f017>:16: SettingWithCopyWarning: \n",
            "A value is trying to be set on a copy of a slice from a DataFrame.\n",
            "Try using .loc[row_indexer,col_indexer] = value instead\n",
            "\n",
            "See the caveats in the documentation: https://pandas.pydata.org/pandas-docs/stable/user_guide/indexing.html#returning-a-view-versus-a-copy\n",
            "  popular_trio ['combined_facebook_like']= popular_trio['actor_1_facebook_likes']+popular_trio['actor_2_facebook_likes']+popular_trio['actor_3_facebook_likes']\n",
            "<ipython-input-1-c6c0f902f017>:18: SettingWithCopyWarning: \n",
            "A value is trying to be set on a copy of a slice from a DataFrame\n",
            "\n",
            "See the caveats in the documentation: https://pandas.pydata.org/pandas-docs/stable/user_guide/indexing.html#returning-a-view-versus-a-copy\n",
            "  popular_trio.sort_values('combined_facebook_like', ascending=False, inplace=True)\n"
          ]
        }
      ]
    },
    {
      "cell_type": "code",
      "source": [
        "scores, average_score, highest_score = [12, 18, 15, 16], 15.25 # Line_1\n",
        "print(\"It Worked!\") # Line_2"
      ],
      "metadata": {
        "colab": {
          "base_uri": "https://localhost:8080/",
          "height": 162
        },
        "id": "JSzDMo91ZoED",
        "outputId": "d225ac5f-9783-4e24-9a00-4860c89818c1"
      },
      "execution_count": null,
      "outputs": [
        {
          "output_type": "error",
          "ename": "ValueError",
          "evalue": "not enough values to unpack (expected 3, got 2)",
          "traceback": [
            "\u001b[0;31m---------------------------------------------------------------------------\u001b[0m",
            "\u001b[0;31mValueError\u001b[0m                                Traceback (most recent call last)",
            "\u001b[0;32m<ipython-input-3-f9ec639fd54b>\u001b[0m in \u001b[0;36m<cell line: 1>\u001b[0;34m()\u001b[0m\n\u001b[0;32m----> 1\u001b[0;31m \u001b[0mscores\u001b[0m\u001b[0;34m,\u001b[0m \u001b[0maverage_score\u001b[0m\u001b[0;34m,\u001b[0m \u001b[0mhighest_score\u001b[0m \u001b[0;34m=\u001b[0m \u001b[0;34m[\u001b[0m\u001b[0;36m12\u001b[0m\u001b[0;34m,\u001b[0m \u001b[0;36m18\u001b[0m\u001b[0;34m,\u001b[0m \u001b[0;36m15\u001b[0m\u001b[0;34m,\u001b[0m \u001b[0;36m16\u001b[0m\u001b[0;34m]\u001b[0m\u001b[0;34m,\u001b[0m \u001b[0;36m15.25\u001b[0m \u001b[0;31m# Line_1\u001b[0m\u001b[0;34m\u001b[0m\u001b[0;34m\u001b[0m\u001b[0m\n\u001b[0m\u001b[1;32m      2\u001b[0m \u001b[0mprint\u001b[0m\u001b[0;34m(\u001b[0m\u001b[0;34m\"It Worked!\"\u001b[0m\u001b[0;34m)\u001b[0m \u001b[0;31m# Line_2\u001b[0m\u001b[0;34m\u001b[0m\u001b[0;34m\u001b[0m\u001b[0m\n",
            "\u001b[0;31mValueError\u001b[0m: not enough values to unpack (expected 3, got 2)"
          ]
        }
      ]
    },
    {
      "cell_type": "code",
      "source": [
        "output = lambda x: 'Adult' if x > 18 else 'Teenager'\n",
        "\n",
        "print(output(22)) # function_call_1\n",
        "print(output(15)) # function_call_2"
      ],
      "metadata": {
        "colab": {
          "base_uri": "https://localhost:8080/"
        },
        "id": "1booPuq2aWqd",
        "outputId": "32b34dd4-03cf-4ad4-bb56-e6425811e346"
      },
      "execution_count": null,
      "outputs": [
        {
          "output_type": "stream",
          "name": "stdout",
          "text": [
            "Adult\n",
            "Teenager\n"
          ]
        }
      ]
    },
    {
      "cell_type": "code",
      "source": [
        "import time\n",
        "sqrd_numbers = []\n",
        "\n",
        "# Case_1\n",
        "start_time = time.time()\n",
        "##for i in range(100000000):\n",
        "##    sqrd_numbers.append(i ** 2)\n",
        "print('For loops: {}'.format(time.time() - start_time))\n",
        "\n",
        "sqrd_number = []\n",
        "\n",
        "# Case_2\n",
        "start_time = time.time()\n",
        "#sqrd_number_2 = [(i ** 2) for i in range(100000000)]\n",
        "print('List Comprehension: {}'.format(time.time() - start_time))"
      ],
      "metadata": {
        "colab": {
          "base_uri": "https://localhost:8080/",
          "height": 323
        },
        "id": "FcvV5X8xcUBR",
        "outputId": "6f5903d3-0329-40c1-c74a-c3f8bcff88ab"
      },
      "execution_count": null,
      "outputs": [
        {
          "output_type": "stream",
          "name": "stdout",
          "text": [
            "For loops: 56.66321587562561\n"
          ]
        },
        {
          "output_type": "error",
          "ename": "KeyboardInterrupt",
          "evalue": "",
          "traceback": [
            "\u001b[0;31m---------------------------------------------------------------------------\u001b[0m",
            "\u001b[0;31mKeyboardInterrupt\u001b[0m                         Traceback (most recent call last)",
            "\u001b[0;32m<ipython-input-1-761bd5a1d08a>\u001b[0m in \u001b[0;36m<cell line: 14>\u001b[0;34m()\u001b[0m\n\u001b[1;32m     12\u001b[0m \u001b[0;31m# Case_2\u001b[0m\u001b[0;34m\u001b[0m\u001b[0;34m\u001b[0m\u001b[0m\n\u001b[1;32m     13\u001b[0m \u001b[0mstart_time\u001b[0m \u001b[0;34m=\u001b[0m \u001b[0mtime\u001b[0m\u001b[0;34m.\u001b[0m\u001b[0mtime\u001b[0m\u001b[0;34m(\u001b[0m\u001b[0;34m)\u001b[0m\u001b[0;34m\u001b[0m\u001b[0;34m\u001b[0m\u001b[0m\n\u001b[0;32m---> 14\u001b[0;31m \u001b[0msqrd_number_2\u001b[0m \u001b[0;34m=\u001b[0m \u001b[0;34m[\u001b[0m\u001b[0;34m(\u001b[0m\u001b[0mi\u001b[0m \u001b[0;34m**\u001b[0m \u001b[0;36m2\u001b[0m\u001b[0;34m)\u001b[0m \u001b[0;32mfor\u001b[0m \u001b[0mi\u001b[0m \u001b[0;32min\u001b[0m \u001b[0mrange\u001b[0m\u001b[0;34m(\u001b[0m\u001b[0;36m100000000\u001b[0m\u001b[0;34m)\u001b[0m\u001b[0;34m]\u001b[0m\u001b[0;34m\u001b[0m\u001b[0;34m\u001b[0m\u001b[0m\n\u001b[0m\u001b[1;32m     15\u001b[0m \u001b[0mprint\u001b[0m\u001b[0;34m(\u001b[0m\u001b[0;34m'List Comprehension: {}'\u001b[0m\u001b[0;34m.\u001b[0m\u001b[0mformat\u001b[0m\u001b[0;34m(\u001b[0m\u001b[0mtime\u001b[0m\u001b[0;34m.\u001b[0m\u001b[0mtime\u001b[0m\u001b[0;34m(\u001b[0m\u001b[0;34m)\u001b[0m \u001b[0;34m-\u001b[0m \u001b[0mstart_time\u001b[0m\u001b[0;34m)\u001b[0m\u001b[0;34m)\u001b[0m\u001b[0;34m\u001b[0m\u001b[0;34m\u001b[0m\u001b[0m\n",
            "\u001b[0;32m<ipython-input-1-761bd5a1d08a>\u001b[0m in \u001b[0;36m<listcomp>\u001b[0;34m(.0)\u001b[0m\n\u001b[1;32m     12\u001b[0m \u001b[0;31m# Case_2\u001b[0m\u001b[0;34m\u001b[0m\u001b[0;34m\u001b[0m\u001b[0m\n\u001b[1;32m     13\u001b[0m \u001b[0mstart_time\u001b[0m \u001b[0;34m=\u001b[0m \u001b[0mtime\u001b[0m\u001b[0;34m.\u001b[0m\u001b[0mtime\u001b[0m\u001b[0;34m(\u001b[0m\u001b[0;34m)\u001b[0m\u001b[0;34m\u001b[0m\u001b[0;34m\u001b[0m\u001b[0m\n\u001b[0;32m---> 14\u001b[0;31m \u001b[0msqrd_number_2\u001b[0m \u001b[0;34m=\u001b[0m \u001b[0;34m[\u001b[0m\u001b[0;34m(\u001b[0m\u001b[0mi\u001b[0m \u001b[0;34m**\u001b[0m \u001b[0;36m2\u001b[0m\u001b[0;34m)\u001b[0m \u001b[0;32mfor\u001b[0m \u001b[0mi\u001b[0m \u001b[0;32min\u001b[0m \u001b[0mrange\u001b[0m\u001b[0;34m(\u001b[0m\u001b[0;36m100000000\u001b[0m\u001b[0;34m)\u001b[0m\u001b[0;34m]\u001b[0m\u001b[0;34m\u001b[0m\u001b[0;34m\u001b[0m\u001b[0m\n\u001b[0m\u001b[1;32m     15\u001b[0m \u001b[0mprint\u001b[0m\u001b[0;34m(\u001b[0m\u001b[0;34m'List Comprehension: {}'\u001b[0m\u001b[0;34m.\u001b[0m\u001b[0mformat\u001b[0m\u001b[0;34m(\u001b[0m\u001b[0mtime\u001b[0m\u001b[0;34m.\u001b[0m\u001b[0mtime\u001b[0m\u001b[0;34m(\u001b[0m\u001b[0;34m)\u001b[0m \u001b[0;34m-\u001b[0m \u001b[0mstart_time\u001b[0m\u001b[0;34m)\u001b[0m\u001b[0;34m)\u001b[0m\u001b[0;34m\u001b[0m\u001b[0;34m\u001b[0m\u001b[0m\n",
            "\u001b[0;31mKeyboardInterrupt\u001b[0m: "
          ]
        }
      ]
    },
    {
      "cell_type": "code",
      "source": [
        "import ast,sys\n",
        "input_list = ['SAS','R','PYTHON','SPSS']\n",
        "print(input_list)\n",
        "input_list.remove('SPSS')\n",
        "# Write code to remove 'SPSS'\n",
        "print(input_list)\n",
        "input_list.append('SPARK')\n",
        "# Write code to append 'SPARK'\n",
        "print(input_list)"
      ],
      "metadata": {
        "colab": {
          "base_uri": "https://localhost:8080/"
        },
        "id": "XW7yUJqDhl3N",
        "outputId": "c0bc5c6f-34b6-4c08-ea24-b452164d7b66"
      },
      "execution_count": null,
      "outputs": [
        {
          "output_type": "stream",
          "name": "stdout",
          "text": [
            "['SAS', 'R', 'PYTHON', 'SPSS']\n",
            "['SAS', 'R', 'PYTHON']\n",
            "['SAS', 'R', 'PYTHON', 'SPARK']\n"
          ]
        }
      ]
    },
    {
      "cell_type": "code",
      "source": [
        "import numpy as np\n",
        "\n",
        "list_1 = [48.49, 67.54, 57.47, 68.17, 51.18, 68.31, 50.33, 66.7, 45.62, 43.59, 53.64, 70.08, 47.69, 61.27, 44.14, 51.62, 48.72, 65.11]\n",
        "np.percentile(list_1, 25)"
      ],
      "metadata": {
        "colab": {
          "base_uri": "https://localhost:8080/"
        },
        "id": "e-PDYEWhe5hl",
        "outputId": "c53dc2fe-9a89-465f-d8f0-78e6f0c9c852"
      },
      "execution_count": null,
      "outputs": [
        {
          "output_type": "execute_result",
          "data": {
            "text/plain": [
              "48.5475"
            ]
          },
          "metadata": {},
          "execution_count": 2
        }
      ]
    },
    {
      "cell_type": "code",
      "source": [
        "#Find the interquartile range for the box plot created over the following list:\n",
        "list_1 = [48.49, 67.54, 57.47, 68.17, 51.18, 68.31, 50.33, 66.7, 45.62, 43.59, 53.64, 70.08, 47.69, 61.27, 44.14, 51.62, 48.72, 65.11]\n",
        "# Write your code here\n",
        "import numpy as np\n",
        "print(np.percentile(list_1, 75) )\n",
        "print(np.percentile(list_1, 25))\n"
      ],
      "metadata": {
        "colab": {
          "base_uri": "https://localhost:8080/"
        },
        "id": "StG0fUazfab9",
        "outputId": "48e53131-a37c-4f2f-f4c3-9413c348aba8"
      },
      "execution_count": null,
      "outputs": [
        {
          "output_type": "stream",
          "name": "stdout",
          "text": [
            "66.30250000000001\n",
            "48.5475\n"
          ]
        }
      ]
    },
    {
      "cell_type": "code",
      "source": [
        "import numpy as np\n",
        "import pandas as pd\n",
        "import matplotlib.pyplot as plt\n",
        "import seaborn as sns\n",
        "\n",
        "# Read the data\n",
        "df = pd.read_excel(\"/content/sample_data/census+data.xlsx\")\n",
        "df.head()"
      ],
      "metadata": {
        "colab": {
          "base_uri": "https://localhost:8080/",
          "height": 365
        },
        "id": "gmmomYdncaXE",
        "outputId": "f0ad5a1d-58a4-46be-9e52-db68fdcd7f39"
      },
      "execution_count": null,
      "outputs": [
        {
          "output_type": "error",
          "ename": "FileNotFoundError",
          "evalue": "[Errno 2] No such file or directory: '/content/sample_data/census+data.xlsx'",
          "traceback": [
            "\u001b[0;31m---------------------------------------------------------------------------\u001b[0m",
            "\u001b[0;31mFileNotFoundError\u001b[0m                         Traceback (most recent call last)",
            "\u001b[0;32m<ipython-input-1-47683a2e396f>\u001b[0m in \u001b[0;36m<cell line: 7>\u001b[0;34m()\u001b[0m\n\u001b[1;32m      5\u001b[0m \u001b[0;34m\u001b[0m\u001b[0m\n\u001b[1;32m      6\u001b[0m \u001b[0;31m# Read the data\u001b[0m\u001b[0;34m\u001b[0m\u001b[0;34m\u001b[0m\u001b[0m\n\u001b[0;32m----> 7\u001b[0;31m \u001b[0mdf\u001b[0m \u001b[0;34m=\u001b[0m \u001b[0mpd\u001b[0m\u001b[0;34m.\u001b[0m\u001b[0mread_excel\u001b[0m\u001b[0;34m(\u001b[0m\u001b[0;34m\"/content/sample_data/census+data.xlsx\"\u001b[0m\u001b[0;34m)\u001b[0m\u001b[0;34m\u001b[0m\u001b[0;34m\u001b[0m\u001b[0m\n\u001b[0m\u001b[1;32m      8\u001b[0m \u001b[0mdf\u001b[0m\u001b[0;34m.\u001b[0m\u001b[0mhead\u001b[0m\u001b[0;34m(\u001b[0m\u001b[0;34m)\u001b[0m\u001b[0;34m\u001b[0m\u001b[0;34m\u001b[0m\u001b[0m\n",
            "\u001b[0;32m/usr/local/lib/python3.10/dist-packages/pandas/io/excel/_base.py\u001b[0m in \u001b[0;36mread_excel\u001b[0;34m(io, sheet_name, header, names, index_col, usecols, dtype, engine, converters, true_values, false_values, skiprows, nrows, na_values, keep_default_na, na_filter, verbose, parse_dates, date_parser, date_format, thousands, decimal, comment, skipfooter, storage_options, dtype_backend, engine_kwargs)\u001b[0m\n\u001b[1;32m    502\u001b[0m     \u001b[0;32mif\u001b[0m \u001b[0;32mnot\u001b[0m \u001b[0misinstance\u001b[0m\u001b[0;34m(\u001b[0m\u001b[0mio\u001b[0m\u001b[0;34m,\u001b[0m \u001b[0mExcelFile\u001b[0m\u001b[0;34m)\u001b[0m\u001b[0;34m:\u001b[0m\u001b[0;34m\u001b[0m\u001b[0;34m\u001b[0m\u001b[0m\n\u001b[1;32m    503\u001b[0m         \u001b[0mshould_close\u001b[0m \u001b[0;34m=\u001b[0m \u001b[0;32mTrue\u001b[0m\u001b[0;34m\u001b[0m\u001b[0;34m\u001b[0m\u001b[0m\n\u001b[0;32m--> 504\u001b[0;31m         io = ExcelFile(\n\u001b[0m\u001b[1;32m    505\u001b[0m             \u001b[0mio\u001b[0m\u001b[0;34m,\u001b[0m\u001b[0;34m\u001b[0m\u001b[0;34m\u001b[0m\u001b[0m\n\u001b[1;32m    506\u001b[0m             \u001b[0mstorage_options\u001b[0m\u001b[0;34m=\u001b[0m\u001b[0mstorage_options\u001b[0m\u001b[0;34m,\u001b[0m\u001b[0;34m\u001b[0m\u001b[0;34m\u001b[0m\u001b[0m\n",
            "\u001b[0;32m/usr/local/lib/python3.10/dist-packages/pandas/io/excel/_base.py\u001b[0m in \u001b[0;36m__init__\u001b[0;34m(self, path_or_buffer, engine, storage_options, engine_kwargs)\u001b[0m\n\u001b[1;32m   1561\u001b[0m                 \u001b[0mext\u001b[0m \u001b[0;34m=\u001b[0m \u001b[0;34m\"xls\"\u001b[0m\u001b[0;34m\u001b[0m\u001b[0;34m\u001b[0m\u001b[0m\n\u001b[1;32m   1562\u001b[0m             \u001b[0;32melse\u001b[0m\u001b[0;34m:\u001b[0m\u001b[0;34m\u001b[0m\u001b[0;34m\u001b[0m\u001b[0m\n\u001b[0;32m-> 1563\u001b[0;31m                 ext = inspect_excel_format(\n\u001b[0m\u001b[1;32m   1564\u001b[0m                     \u001b[0mcontent_or_path\u001b[0m\u001b[0;34m=\u001b[0m\u001b[0mpath_or_buffer\u001b[0m\u001b[0;34m,\u001b[0m \u001b[0mstorage_options\u001b[0m\u001b[0;34m=\u001b[0m\u001b[0mstorage_options\u001b[0m\u001b[0;34m\u001b[0m\u001b[0;34m\u001b[0m\u001b[0m\n\u001b[1;32m   1565\u001b[0m                 )\n",
            "\u001b[0;32m/usr/local/lib/python3.10/dist-packages/pandas/io/excel/_base.py\u001b[0m in \u001b[0;36minspect_excel_format\u001b[0;34m(content_or_path, storage_options)\u001b[0m\n\u001b[1;32m   1417\u001b[0m         \u001b[0mcontent_or_path\u001b[0m \u001b[0;34m=\u001b[0m \u001b[0mBytesIO\u001b[0m\u001b[0;34m(\u001b[0m\u001b[0mcontent_or_path\u001b[0m\u001b[0;34m)\u001b[0m\u001b[0;34m\u001b[0m\u001b[0;34m\u001b[0m\u001b[0m\n\u001b[1;32m   1418\u001b[0m \u001b[0;34m\u001b[0m\u001b[0m\n\u001b[0;32m-> 1419\u001b[0;31m     with get_handle(\n\u001b[0m\u001b[1;32m   1420\u001b[0m         \u001b[0mcontent_or_path\u001b[0m\u001b[0;34m,\u001b[0m \u001b[0;34m\"rb\"\u001b[0m\u001b[0;34m,\u001b[0m \u001b[0mstorage_options\u001b[0m\u001b[0;34m=\u001b[0m\u001b[0mstorage_options\u001b[0m\u001b[0;34m,\u001b[0m \u001b[0mis_text\u001b[0m\u001b[0;34m=\u001b[0m\u001b[0;32mFalse\u001b[0m\u001b[0;34m\u001b[0m\u001b[0;34m\u001b[0m\u001b[0m\n\u001b[1;32m   1421\u001b[0m     ) as handle:\n",
            "\u001b[0;32m/usr/local/lib/python3.10/dist-packages/pandas/io/common.py\u001b[0m in \u001b[0;36mget_handle\u001b[0;34m(path_or_buf, mode, encoding, compression, memory_map, is_text, errors, storage_options)\u001b[0m\n\u001b[1;32m    870\u001b[0m         \u001b[0;32melse\u001b[0m\u001b[0;34m:\u001b[0m\u001b[0;34m\u001b[0m\u001b[0;34m\u001b[0m\u001b[0m\n\u001b[1;32m    871\u001b[0m             \u001b[0;31m# Binary mode\u001b[0m\u001b[0;34m\u001b[0m\u001b[0;34m\u001b[0m\u001b[0m\n\u001b[0;32m--> 872\u001b[0;31m             \u001b[0mhandle\u001b[0m \u001b[0;34m=\u001b[0m \u001b[0mopen\u001b[0m\u001b[0;34m(\u001b[0m\u001b[0mhandle\u001b[0m\u001b[0;34m,\u001b[0m \u001b[0mioargs\u001b[0m\u001b[0;34m.\u001b[0m\u001b[0mmode\u001b[0m\u001b[0;34m)\u001b[0m\u001b[0;34m\u001b[0m\u001b[0;34m\u001b[0m\u001b[0m\n\u001b[0m\u001b[1;32m    873\u001b[0m         \u001b[0mhandles\u001b[0m\u001b[0;34m.\u001b[0m\u001b[0mappend\u001b[0m\u001b[0;34m(\u001b[0m\u001b[0mhandle\u001b[0m\u001b[0;34m)\u001b[0m\u001b[0;34m\u001b[0m\u001b[0;34m\u001b[0m\u001b[0m\n\u001b[1;32m    874\u001b[0m \u001b[0;34m\u001b[0m\u001b[0m\n",
            "\u001b[0;31mFileNotFoundError\u001b[0m: [Errno 2] No such file or directory: '/content/sample_data/census+data.xlsx'"
          ]
        }
      ]
    },
    {
      "cell_type": "code",
      "source": [
        "import pandas as pd\n",
        "marks = pd.read_csv('https://media-doselect.s3.amazonaws.com/generic/GZVBQG5pzJeNaL1ve50Rv9YNV/class-grades.csv')\n",
        "marks.head()\n",
        "\n",
        "print(marks.size)\n",
        "\n",
        "print(marks.isna().sum())\n"
      ],
      "metadata": {
        "colab": {
          "base_uri": "https://localhost:8080/"
        },
        "id": "6rEQ2WQ7Ub0U",
        "outputId": "151837ac-d454-4887-e8cb-5a9e5eb9831d"
      },
      "execution_count": null,
      "outputs": [
        {
          "output_type": "stream",
          "name": "stdout",
          "text": [
            "594\n",
            "Prefix         0\n",
            "Assignment     2\n",
            "Tutorial      12\n",
            "Midterm       16\n",
            "TakeHome       9\n",
            "Final          5\n",
            "dtype: int64\n"
          ]
        }
      ]
    },
    {
      "cell_type": "code",
      "source": [
        "import pandas as pd\n",
        "marks = pd.read_csv('https://media-doselect.s3.amazonaws.com/generic/VodvGKvJAaeNrG7kvOQV38aog/class-grades.csv')\n",
        "#Count number of rows having 5 or more than 5 NA\n",
        "ma\n",
        "\n",
        "print(marks.isna().any(axis=1).sum())\n",
        "print(marks[marks.isnull().sum(axis=1)!= 5])\n",
        "\n",
        "marks = marks[marks.isnull().sum(axis=1) != 5]\n",
        "\n",
        "print(marks.isnull().sum())\n"
      ],
      "metadata": {
        "colab": {
          "base_uri": "https://localhost:8080/",
          "height": 233
        },
        "id": "_4iR-_9YVcbD",
        "outputId": "d8c1a764-6438-4ea7-b021-d1b328155687"
      },
      "execution_count": null,
      "outputs": [
        {
          "output_type": "error",
          "ename": "NameError",
          "evalue": "name 'ma' is not defined",
          "traceback": [
            "\u001b[0;31m---------------------------------------------------------------------------\u001b[0m",
            "\u001b[0;31mNameError\u001b[0m                                 Traceback (most recent call last)",
            "\u001b[0;32m<ipython-input-25-9f8bb9464329>\u001b[0m in \u001b[0;36m<cell line: 4>\u001b[0;34m()\u001b[0m\n\u001b[1;32m      2\u001b[0m \u001b[0mmarks\u001b[0m \u001b[0;34m=\u001b[0m \u001b[0mpd\u001b[0m\u001b[0;34m.\u001b[0m\u001b[0mread_csv\u001b[0m\u001b[0;34m(\u001b[0m\u001b[0;34m'https://media-doselect.s3.amazonaws.com/generic/VodvGKvJAaeNrG7kvOQV38aog/class-grades.csv'\u001b[0m\u001b[0;34m)\u001b[0m\u001b[0;34m\u001b[0m\u001b[0;34m\u001b[0m\u001b[0m\n\u001b[1;32m      3\u001b[0m \u001b[0;31m#Count number of rows having 5 or more than 5 NA\u001b[0m\u001b[0;34m\u001b[0m\u001b[0;34m\u001b[0m\u001b[0m\n\u001b[0;32m----> 4\u001b[0;31m \u001b[0mma\u001b[0m\u001b[0;34m\u001b[0m\u001b[0;34m\u001b[0m\u001b[0m\n\u001b[0m\u001b[1;32m      5\u001b[0m \u001b[0;34m\u001b[0m\u001b[0m\n\u001b[1;32m      6\u001b[0m \u001b[0mprint\u001b[0m\u001b[0;34m(\u001b[0m\u001b[0mmarks\u001b[0m\u001b[0;34m.\u001b[0m\u001b[0misna\u001b[0m\u001b[0;34m(\u001b[0m\u001b[0;34m)\u001b[0m\u001b[0;34m.\u001b[0m\u001b[0many\u001b[0m\u001b[0;34m(\u001b[0m\u001b[0maxis\u001b[0m\u001b[0;34m=\u001b[0m\u001b[0;36m1\u001b[0m\u001b[0;34m)\u001b[0m\u001b[0;34m.\u001b[0m\u001b[0msum\u001b[0m\u001b[0;34m(\u001b[0m\u001b[0;34m)\u001b[0m\u001b[0;34m)\u001b[0m\u001b[0;34m\u001b[0m\u001b[0;34m\u001b[0m\u001b[0m\n",
            "\u001b[0;31mNameError\u001b[0m: name 'ma' is not defined"
          ]
        }
      ]
    },
    {
      "cell_type": "code",
      "source": [
        "import pandas as pd\n",
        "marks = pd.read_csv('https://media-doselect.s3.amazonaws.com/generic/VodvGKvJAaeNrG7kvOQV38aog/class-grades.csv')\n",
        "#Count number of rows having 5 or more than 5 NA\n",
        "print(marks.size)\n",
        "marks=marks.dropna(thresh=5)\n",
        "print(marks.size)"
      ],
      "metadata": {
        "colab": {
          "base_uri": "https://localhost:8080/"
        },
        "id": "FEILHenIc4ee",
        "outputId": "5578be4e-7931-4856-d623-b186f9f7bf2c"
      },
      "execution_count": null,
      "outputs": [
        {
          "output_type": "stream",
          "name": "stdout",
          "text": [
            "594\n",
            "522\n"
          ]
        }
      ]
    },
    {
      "cell_type": "code",
      "source": [
        "import pandas as pd\n",
        "customer = pd.read_csv('https://media-doselect.s3.amazonaws.com/generic/9B2ZPE1apMvqrLWx7p8ge9dqX/cust_dimen.csv')\n",
        "customer.head()\n",
        "customer.Cust_id = customer.Cust_id.str.replace('Cust_','')\n",
        "print(\"\\n\")\n",
        "print(\"\\n\")\n",
        "print(\"\\n\")\n",
        "print(\"\\n\")\n",
        "customer.head()\n"
      ],
      "metadata": {
        "colab": {
          "base_uri": "https://localhost:8080/",
          "height": 349
        },
        "id": "E4mbbfq2hMFP",
        "outputId": "0d553125-8ee9-4154-cccb-0fe818e9394b"
      },
      "execution_count": null,
      "outputs": [
        {
          "output_type": "stream",
          "name": "stdout",
          "text": [
            "\n",
            "\n",
            "\n",
            "\n",
            "\n",
            "\n",
            "\n",
            "\n"
          ]
        },
        {
          "output_type": "execute_result",
          "data": {
            "text/plain": [
              "        Customer_Name Province   Region Customer_Segment Cust_id\n",
              "0  MUHAMMED MACINTYRE  NUNAVUT  NUNAVUT   SMALL BUSINESS       1\n",
              "1        BARRY FRENCH  NUNAVUT  NUNAVUT         CONSUMER       2\n",
              "2       CLAY ROZENDAL  NUNAVUT  NUNAVUT        CORPORATE       3\n",
              "3      CARLOS SOLTERO  NUNAVUT  NUNAVUT         CONSUMER       4\n",
              "4        CARL JACKSON  NUNAVUT  NUNAVUT        CORPORATE       5"
            ],
            "text/html": [
              "\n",
              "  <div id=\"df-8aacd089-1122-46fe-b086-db0a11cff342\" class=\"colab-df-container\">\n",
              "    <div>\n",
              "<style scoped>\n",
              "    .dataframe tbody tr th:only-of-type {\n",
              "        vertical-align: middle;\n",
              "    }\n",
              "\n",
              "    .dataframe tbody tr th {\n",
              "        vertical-align: top;\n",
              "    }\n",
              "\n",
              "    .dataframe thead th {\n",
              "        text-align: right;\n",
              "    }\n",
              "</style>\n",
              "<table border=\"1\" class=\"dataframe\">\n",
              "  <thead>\n",
              "    <tr style=\"text-align: right;\">\n",
              "      <th></th>\n",
              "      <th>Customer_Name</th>\n",
              "      <th>Province</th>\n",
              "      <th>Region</th>\n",
              "      <th>Customer_Segment</th>\n",
              "      <th>Cust_id</th>\n",
              "    </tr>\n",
              "  </thead>\n",
              "  <tbody>\n",
              "    <tr>\n",
              "      <th>0</th>\n",
              "      <td>MUHAMMED MACINTYRE</td>\n",
              "      <td>NUNAVUT</td>\n",
              "      <td>NUNAVUT</td>\n",
              "      <td>SMALL BUSINESS</td>\n",
              "      <td>1</td>\n",
              "    </tr>\n",
              "    <tr>\n",
              "      <th>1</th>\n",
              "      <td>BARRY FRENCH</td>\n",
              "      <td>NUNAVUT</td>\n",
              "      <td>NUNAVUT</td>\n",
              "      <td>CONSUMER</td>\n",
              "      <td>2</td>\n",
              "    </tr>\n",
              "    <tr>\n",
              "      <th>2</th>\n",
              "      <td>CLAY ROZENDAL</td>\n",
              "      <td>NUNAVUT</td>\n",
              "      <td>NUNAVUT</td>\n",
              "      <td>CORPORATE</td>\n",
              "      <td>3</td>\n",
              "    </tr>\n",
              "    <tr>\n",
              "      <th>3</th>\n",
              "      <td>CARLOS SOLTERO</td>\n",
              "      <td>NUNAVUT</td>\n",
              "      <td>NUNAVUT</td>\n",
              "      <td>CONSUMER</td>\n",
              "      <td>4</td>\n",
              "    </tr>\n",
              "    <tr>\n",
              "      <th>4</th>\n",
              "      <td>CARL JACKSON</td>\n",
              "      <td>NUNAVUT</td>\n",
              "      <td>NUNAVUT</td>\n",
              "      <td>CORPORATE</td>\n",
              "      <td>5</td>\n",
              "    </tr>\n",
              "  </tbody>\n",
              "</table>\n",
              "</div>\n",
              "    <div class=\"colab-df-buttons\">\n",
              "\n",
              "  <div class=\"colab-df-container\">\n",
              "    <button class=\"colab-df-convert\" onclick=\"convertToInteractive('df-8aacd089-1122-46fe-b086-db0a11cff342')\"\n",
              "            title=\"Convert this dataframe to an interactive table.\"\n",
              "            style=\"display:none;\">\n",
              "\n",
              "  <svg xmlns=\"http://www.w3.org/2000/svg\" height=\"24px\" viewBox=\"0 -960 960 960\">\n",
              "    <path d=\"M120-120v-720h720v720H120Zm60-500h600v-160H180v160Zm220 220h160v-160H400v160Zm0 220h160v-160H400v160ZM180-400h160v-160H180v160Zm440 0h160v-160H620v160ZM180-180h160v-160H180v160Zm440 0h160v-160H620v160Z\"/>\n",
              "  </svg>\n",
              "    </button>\n",
              "\n",
              "  <style>\n",
              "    .colab-df-container {\n",
              "      display:flex;\n",
              "      gap: 12px;\n",
              "    }\n",
              "\n",
              "    .colab-df-convert {\n",
              "      background-color: #E8F0FE;\n",
              "      border: none;\n",
              "      border-radius: 50%;\n",
              "      cursor: pointer;\n",
              "      display: none;\n",
              "      fill: #1967D2;\n",
              "      height: 32px;\n",
              "      padding: 0 0 0 0;\n",
              "      width: 32px;\n",
              "    }\n",
              "\n",
              "    .colab-df-convert:hover {\n",
              "      background-color: #E2EBFA;\n",
              "      box-shadow: 0px 1px 2px rgba(60, 64, 67, 0.3), 0px 1px 3px 1px rgba(60, 64, 67, 0.15);\n",
              "      fill: #174EA6;\n",
              "    }\n",
              "\n",
              "    .colab-df-buttons div {\n",
              "      margin-bottom: 4px;\n",
              "    }\n",
              "\n",
              "    [theme=dark] .colab-df-convert {\n",
              "      background-color: #3B4455;\n",
              "      fill: #D2E3FC;\n",
              "    }\n",
              "\n",
              "    [theme=dark] .colab-df-convert:hover {\n",
              "      background-color: #434B5C;\n",
              "      box-shadow: 0px 1px 3px 1px rgba(0, 0, 0, 0.15);\n",
              "      filter: drop-shadow(0px 1px 2px rgba(0, 0, 0, 0.3));\n",
              "      fill: #FFFFFF;\n",
              "    }\n",
              "  </style>\n",
              "\n",
              "    <script>\n",
              "      const buttonEl =\n",
              "        document.querySelector('#df-8aacd089-1122-46fe-b086-db0a11cff342 button.colab-df-convert');\n",
              "      buttonEl.style.display =\n",
              "        google.colab.kernel.accessAllowed ? 'block' : 'none';\n",
              "\n",
              "      async function convertToInteractive(key) {\n",
              "        const element = document.querySelector('#df-8aacd089-1122-46fe-b086-db0a11cff342');\n",
              "        const dataTable =\n",
              "          await google.colab.kernel.invokeFunction('convertToInteractive',\n",
              "                                                    [key], {});\n",
              "        if (!dataTable) return;\n",
              "\n",
              "        const docLinkHtml = 'Like what you see? Visit the ' +\n",
              "          '<a target=\"_blank\" href=https://colab.research.google.com/notebooks/data_table.ipynb>data table notebook</a>'\n",
              "          + ' to learn more about interactive tables.';\n",
              "        element.innerHTML = '';\n",
              "        dataTable['output_type'] = 'display_data';\n",
              "        await google.colab.output.renderOutput(dataTable, element);\n",
              "        const docLink = document.createElement('div');\n",
              "        docLink.innerHTML = docLinkHtml;\n",
              "        element.appendChild(docLink);\n",
              "      }\n",
              "    </script>\n",
              "  </div>\n",
              "\n",
              "\n",
              "<div id=\"df-684200c8-40db-492b-97a3-f203b27ea5b7\">\n",
              "  <button class=\"colab-df-quickchart\" onclick=\"quickchart('df-684200c8-40db-492b-97a3-f203b27ea5b7')\"\n",
              "            title=\"Suggest charts\"\n",
              "            style=\"display:none;\">\n",
              "\n",
              "<svg xmlns=\"http://www.w3.org/2000/svg\" height=\"24px\"viewBox=\"0 0 24 24\"\n",
              "     width=\"24px\">\n",
              "    <g>\n",
              "        <path d=\"M19 3H5c-1.1 0-2 .9-2 2v14c0 1.1.9 2 2 2h14c1.1 0 2-.9 2-2V5c0-1.1-.9-2-2-2zM9 17H7v-7h2v7zm4 0h-2V7h2v10zm4 0h-2v-4h2v4z\"/>\n",
              "    </g>\n",
              "</svg>\n",
              "  </button>\n",
              "\n",
              "<style>\n",
              "  .colab-df-quickchart {\n",
              "      --bg-color: #E8F0FE;\n",
              "      --fill-color: #1967D2;\n",
              "      --hover-bg-color: #E2EBFA;\n",
              "      --hover-fill-color: #174EA6;\n",
              "      --disabled-fill-color: #AAA;\n",
              "      --disabled-bg-color: #DDD;\n",
              "  }\n",
              "\n",
              "  [theme=dark] .colab-df-quickchart {\n",
              "      --bg-color: #3B4455;\n",
              "      --fill-color: #D2E3FC;\n",
              "      --hover-bg-color: #434B5C;\n",
              "      --hover-fill-color: #FFFFFF;\n",
              "      --disabled-bg-color: #3B4455;\n",
              "      --disabled-fill-color: #666;\n",
              "  }\n",
              "\n",
              "  .colab-df-quickchart {\n",
              "    background-color: var(--bg-color);\n",
              "    border: none;\n",
              "    border-radius: 50%;\n",
              "    cursor: pointer;\n",
              "    display: none;\n",
              "    fill: var(--fill-color);\n",
              "    height: 32px;\n",
              "    padding: 0;\n",
              "    width: 32px;\n",
              "  }\n",
              "\n",
              "  .colab-df-quickchart:hover {\n",
              "    background-color: var(--hover-bg-color);\n",
              "    box-shadow: 0 1px 2px rgba(60, 64, 67, 0.3), 0 1px 3px 1px rgba(60, 64, 67, 0.15);\n",
              "    fill: var(--button-hover-fill-color);\n",
              "  }\n",
              "\n",
              "  .colab-df-quickchart-complete:disabled,\n",
              "  .colab-df-quickchart-complete:disabled:hover {\n",
              "    background-color: var(--disabled-bg-color);\n",
              "    fill: var(--disabled-fill-color);\n",
              "    box-shadow: none;\n",
              "  }\n",
              "\n",
              "  .colab-df-spinner {\n",
              "    border: 2px solid var(--fill-color);\n",
              "    border-color: transparent;\n",
              "    border-bottom-color: var(--fill-color);\n",
              "    animation:\n",
              "      spin 1s steps(1) infinite;\n",
              "  }\n",
              "\n",
              "  @keyframes spin {\n",
              "    0% {\n",
              "      border-color: transparent;\n",
              "      border-bottom-color: var(--fill-color);\n",
              "      border-left-color: var(--fill-color);\n",
              "    }\n",
              "    20% {\n",
              "      border-color: transparent;\n",
              "      border-left-color: var(--fill-color);\n",
              "      border-top-color: var(--fill-color);\n",
              "    }\n",
              "    30% {\n",
              "      border-color: transparent;\n",
              "      border-left-color: var(--fill-color);\n",
              "      border-top-color: var(--fill-color);\n",
              "      border-right-color: var(--fill-color);\n",
              "    }\n",
              "    40% {\n",
              "      border-color: transparent;\n",
              "      border-right-color: var(--fill-color);\n",
              "      border-top-color: var(--fill-color);\n",
              "    }\n",
              "    60% {\n",
              "      border-color: transparent;\n",
              "      border-right-color: var(--fill-color);\n",
              "    }\n",
              "    80% {\n",
              "      border-color: transparent;\n",
              "      border-right-color: var(--fill-color);\n",
              "      border-bottom-color: var(--fill-color);\n",
              "    }\n",
              "    90% {\n",
              "      border-color: transparent;\n",
              "      border-bottom-color: var(--fill-color);\n",
              "    }\n",
              "  }\n",
              "</style>\n",
              "\n",
              "  <script>\n",
              "    async function quickchart(key) {\n",
              "      const quickchartButtonEl =\n",
              "        document.querySelector('#' + key + ' button');\n",
              "      quickchartButtonEl.disabled = true;  // To prevent multiple clicks.\n",
              "      quickchartButtonEl.classList.add('colab-df-spinner');\n",
              "      try {\n",
              "        const charts = await google.colab.kernel.invokeFunction(\n",
              "            'suggestCharts', [key], {});\n",
              "      } catch (error) {\n",
              "        console.error('Error during call to suggestCharts:', error);\n",
              "      }\n",
              "      quickchartButtonEl.classList.remove('colab-df-spinner');\n",
              "      quickchartButtonEl.classList.add('colab-df-quickchart-complete');\n",
              "    }\n",
              "    (() => {\n",
              "      let quickchartButtonEl =\n",
              "        document.querySelector('#df-684200c8-40db-492b-97a3-f203b27ea5b7 button');\n",
              "      quickchartButtonEl.style.display =\n",
              "        google.colab.kernel.accessAllowed ? 'block' : 'none';\n",
              "    })();\n",
              "  </script>\n",
              "</div>\n",
              "\n",
              "    </div>\n",
              "  </div>\n"
            ],
            "application/vnd.google.colaboratory.intrinsic+json": {
              "type": "dataframe",
              "variable_name": "customer",
              "summary": "{\n  \"name\": \"customer\",\n  \"rows\": 1832,\n  \"fields\": [\n    {\n      \"column\": \"Customer_Name\",\n      \"properties\": {\n        \"dtype\": \"category\",\n        \"num_unique_values\": 795,\n        \"samples\": [\n          \"CHRISTINE ABELMAN\",\n          \"CRAIG CARREIRA\",\n          \"RALPH ARNETT\"\n        ],\n        \"semantic_type\": \"\",\n        \"description\": \"\"\n      }\n    },\n    {\n      \"column\": \"Province\",\n      \"properties\": {\n        \"dtype\": \"category\",\n        \"num_unique_values\": 13,\n        \"samples\": [\n          \"YUKON\",\n          \"NEW BRUNSWICK\",\n          \"NUNAVUT\"\n        ],\n        \"semantic_type\": \"\",\n        \"description\": \"\"\n      }\n    },\n    {\n      \"column\": \"Region\",\n      \"properties\": {\n        \"dtype\": \"category\",\n        \"num_unique_values\": 8,\n        \"samples\": [\n          \"NORTHWEST TERRITORIES\",\n          \"ONTARIO\",\n          \"NUNAVUT\"\n        ],\n        \"semantic_type\": \"\",\n        \"description\": \"\"\n      }\n    },\n    {\n      \"column\": \"Customer_Segment\",\n      \"properties\": {\n        \"dtype\": \"category\",\n        \"num_unique_values\": 4,\n        \"samples\": [\n          \"CONSUMER\",\n          \"HOME OFFICE\",\n          \"SMALL BUSINESS\"\n        ],\n        \"semantic_type\": \"\",\n        \"description\": \"\"\n      }\n    },\n    {\n      \"column\": \"Cust_id\",\n      \"properties\": {\n        \"dtype\": \"string\",\n        \"num_unique_values\": 1832,\n        \"samples\": [\n          \"248\",\n          \"1733\",\n          \"1226\"\n        ],\n        \"semantic_type\": \"\",\n        \"description\": \"\"\n      }\n    }\n  ]\n}"
            }
          },
          "metadata": {},
          "execution_count": 32
        }
      ]
    },
    {
      "cell_type": "code",
      "source": [
        "import pandas as pd\n",
        "rating = pd.read_csv('https://media-doselect.s3.amazonaws.com/generic/JPAqXRWexo7nybkQ7BjPLWVN/rating_final.csv')\n",
        "print(rating.head())\n",
        "#The given Dataframe 'rating' has repeated rows. You need to remove the duplicated rows.\n",
        "rating_update = rating.drop_duplicates()\n",
        "\n",
        "\n",
        "print(rating.shape)\n",
        "print(rating_update.shape)"
      ],
      "metadata": {
        "colab": {
          "base_uri": "https://localhost:8080/"
        },
        "id": "55Jxi3kIl_rW",
        "outputId": "d0bf5308-6ead-47c2-f45c-ac58fd98c0a5"
      },
      "execution_count": 1,
      "outputs": [
        {
          "output_type": "stream",
          "name": "stdout",
          "text": [
            "  userID  placeID  rating  food_rating  service_rating\n",
            "0  U1077   135085       2            2               2\n",
            "1  U1077   135038       2            2               1\n",
            "2  U1077   132825       2            2               2\n",
            "3  U1077   135060       1            2               2\n",
            "4  U1068   135104       1            1               2\n",
            "(1254, 5)\n",
            "(1149, 5)\n"
          ]
        }
      ]
    },
    {
      "cell_type": "code",
      "source": [],
      "metadata": {
        "id": "jhRTFW8BcVu9"
      },
      "execution_count": null,
      "outputs": []
    }
  ]
}